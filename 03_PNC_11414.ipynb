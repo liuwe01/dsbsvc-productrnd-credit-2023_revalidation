{
 "cells": [
  {
   "cell_type": "code",
   "execution_count": 1,
   "metadata": {},
   "outputs": [],
   "source": [
    "import os\n",
    "os.environ[\"HTTPS_PROXY\"] = \"\"\n",
    "os.environ[\"HTTP_PROXY\"] = \"\""
   ]
  },
  {
   "cell_type": "code",
   "execution_count": 2,
   "metadata": {},
   "outputs": [
    {
     "name": "stderr",
     "output_type": "stream",
     "text": [
      "Matplotlib is building the font cache; this may take a moment.\n"
     ]
    }
   ],
   "source": [
    "import time\n",
    "import pandas as pd\n",
    "import numpy as np\n",
    "import math\n",
    "\n",
    "# internal tools\n",
    "from dsgtools.reporting import make_format\n",
    "from dsgtools.reporting import TableWriter\n",
    "from dsgtools.reporting import freq\n",
    "from dsgtools.reporting import bivariate\n",
    "\n",
    "import warnings\n",
    "warnings.filterwarnings('ignore')"
   ]
  },
  {
   "cell_type": "code",
   "execution_count": 4,
   "metadata": {},
   "outputs": [],
   "source": [
    "path = 'Analytics/Customer Projects - ScoringData3/pnc_retro/toLNRS/QB11414/FilesFromCustomer/cc_apps_2018_2021_LN_Upload.zip'"
   ]
  },
  {
   "cell_type": "code",
   "execution_count": 5,
   "metadata": {},
   "outputs": [
    {
     "name": "stdout",
     "output_type": "stream",
     "text": [
      "(2000000, 857)\n"
     ]
    }
   ],
   "source": [
    "from dsgtools import azure\n",
    "data = pd.read_adls(path, compression = \"zip\", reader = pd.read_csv, dtype = str, encoding='iso-8859-1')\n",
    "print(data.shape)"
   ]
  },
  {
   "cell_type": "markdown",
   "metadata": {},
   "source": [
    "## Overall Cleaning"
   ]
  },
  {
   "cell_type": "code",
   "execution_count": 7,
   "metadata": {},
   "outputs": [
    {
     "data": {
      "text/html": [
       "<div>\n",
       "<style scoped>\n",
       "    .dataframe tbody tr th:only-of-type {\n",
       "        vertical-align: middle;\n",
       "    }\n",
       "\n",
       "    .dataframe tbody tr th {\n",
       "        vertical-align: top;\n",
       "    }\n",
       "\n",
       "    .dataframe thead th {\n",
       "        text-align: right;\n",
       "    }\n",
       "</style>\n",
       "<table border=\"1\" class=\"dataframe\">\n",
       "  <thead>\n",
       "    <tr style=\"text-align: right;\">\n",
       "      <th></th>\n",
       "      <th>Count</th>\n",
       "      <th>Pct</th>\n",
       "      <th>Cuml Count</th>\n",
       "      <th>Cuml Pct</th>\n",
       "    </tr>\n",
       "    <tr>\n",
       "      <th>sufficient_input</th>\n",
       "      <th></th>\n",
       "      <th></th>\n",
       "      <th></th>\n",
       "      <th></th>\n",
       "    </tr>\n",
       "  </thead>\n",
       "  <tbody>\n",
       "    <tr>\n",
       "      <th>0</th>\n",
       "      <td>146.0</td>\n",
       "      <td>0.000073</td>\n",
       "      <td>146.0</td>\n",
       "      <td>0.000073</td>\n",
       "    </tr>\n",
       "    <tr>\n",
       "      <th>1</th>\n",
       "      <td>1999854.0</td>\n",
       "      <td>0.999927</td>\n",
       "      <td>2000000.0</td>\n",
       "      <td>1.000000</td>\n",
       "    </tr>\n",
       "  </tbody>\n",
       "</table>\n",
       "</div>"
      ],
      "text/plain": [
       "                      Count       Pct  Cuml Count  Cuml Pct\n",
       "sufficient_input                                           \n",
       "0                     146.0  0.000073       146.0  0.000073\n",
       "1                 1999854.0  0.999927   2000000.0  1.000000"
      ]
     },
     "execution_count": 7,
     "metadata": {},
     "output_type": "execute_result"
    }
   ],
   "source": [
    "data[\"address\"] = np.where(data.address1.notnull(), np.where(data.address2.notnull(), data.address1 + \" \" + data.address2, data.address1), data.address1)\n",
    "Input_FirstName = \"first_name\"\n",
    "Input_LastName = \"last_name\"\n",
    "Input_StreetAddress = \"address\"\n",
    "Input_City = \"city\"\n",
    "Input_State = \"state\"\n",
    "Input_Zip = \"zip_code\"\n",
    "Input_SSN = \"ssn\"\n",
    "\n",
    "data[\"sufficient_input\"] = np.where((data[Input_FirstName].notnull() & data[Input_LastName].notnull() & data[Input_StreetAddress].notnull() & data[Input_Zip].notnull()) | \\\n",
    "             (data[Input_FirstName].notnull() & data[Input_LastName].notnull() & data[Input_StreetAddress].notnull() & data[Input_City].notnull() & data[Input_State].notnull()) | \\\n",
    "             (data[Input_FirstName].notnull() & data[Input_LastName].notnull() & data[Input_SSN].notnull()), 1, 0)\n",
    "freq(data[\"sufficient_input\"])"
   ]
  },
  {
   "cell_type": "code",
   "execution_count": 8,
   "metadata": {},
   "outputs": [],
   "source": [
    "data = data[data[\"sufficient_input\"] == 1]\n",
    "data[\"application_dt_fmt\"] = data.application_dt.str.slice(0,4) + data.application_dt.str.slice(5,7)\n",
    "data[\"application_dt_fmt_dt\"] = data.application_dt.str.slice(0,4) + data.application_dt.str.slice(5,7) + data.application_dt.str.slice(8,10)"
   ]
  },
  {
   "cell_type": "code",
   "execution_count": 9,
   "metadata": {},
   "outputs": [
    {
     "name": "stdout",
     "output_type": "stream",
     "text": [
      "(1999854, 862)\n"
     ]
    },
    {
     "data": {
      "text/html": [
       "<div>\n",
       "<style scoped>\n",
       "    .dataframe tbody tr th:only-of-type {\n",
       "        vertical-align: middle;\n",
       "    }\n",
       "\n",
       "    .dataframe tbody tr th {\n",
       "        vertical-align: top;\n",
       "    }\n",
       "\n",
       "    .dataframe thead th {\n",
       "        text-align: right;\n",
       "    }\n",
       "</style>\n",
       "<table border=\"1\" class=\"dataframe\">\n",
       "  <thead>\n",
       "    <tr style=\"text-align: right;\">\n",
       "      <th></th>\n",
       "      <th>Count</th>\n",
       "      <th>Pct</th>\n",
       "      <th>Cuml Count</th>\n",
       "      <th>Cuml Pct</th>\n",
       "    </tr>\n",
       "    <tr>\n",
       "      <th>dpd_90P_CO</th>\n",
       "      <th></th>\n",
       "      <th></th>\n",
       "      <th></th>\n",
       "      <th></th>\n",
       "    </tr>\n",
       "  </thead>\n",
       "  <tbody>\n",
       "    <tr>\n",
       "      <th>-1</th>\n",
       "      <td>819171.0</td>\n",
       "      <td>0.409615</td>\n",
       "      <td>819171.0</td>\n",
       "      <td>0.409615</td>\n",
       "    </tr>\n",
       "    <tr>\n",
       "      <th>0</th>\n",
       "      <td>1160666.0</td>\n",
       "      <td>0.580375</td>\n",
       "      <td>1979837.0</td>\n",
       "      <td>0.989991</td>\n",
       "    </tr>\n",
       "    <tr>\n",
       "      <th>1</th>\n",
       "      <td>20017.0</td>\n",
       "      <td>0.010009</td>\n",
       "      <td>1999854.0</td>\n",
       "      <td>1.000000</td>\n",
       "    </tr>\n",
       "  </tbody>\n",
       "</table>\n",
       "</div>"
      ],
      "text/plain": [
       "                Count       Pct  Cuml Count  Cuml Pct\n",
       "dpd_90P_CO                                           \n",
       "-1           819171.0  0.409615    819171.0  0.409615\n",
       "0           1160666.0  0.580375   1979837.0  0.989991\n",
       "1             20017.0  0.010009   1999854.0  1.000000"
      ]
     },
     "execution_count": 9,
     "metadata": {},
     "output_type": "execute_result"
    }
   ],
   "source": [
    "data[\"dpd_90P_CO\"] = np.where(data.DPD_90_WiN_12.isnull(), -1, \n",
    "                              np.where((data.DPD_90_WiN_12 =='1') | (data.DPD_120_WiN_12 =='1') | (data.CO_BNK_WiN_12=='1'), 1, 0))\n",
    "print(data.shape)\n",
    "freq(data.dpd_90P_CO)"
   ]
  },
  {
   "cell_type": "code",
   "execution_count": 10,
   "metadata": {},
   "outputs": [
    {
     "name": "stdout",
     "output_type": "stream",
     "text": [
      "(1999854, 862)\n",
      "(1971367, 862)\n"
     ]
    }
   ],
   "source": [
    "data = data.sort_values(by = ['last_name', 'address', 'city', 'state', 'zip_code', 'pri_phone', 'ssn', 'birth_date', 'application_dt_fmt_dt', \"dpd_90P_CO\"], ascending = False)\n",
    "print(data.shape)\n",
    "data = data.drop_duplicates(subset = ['last_name', 'address', 'city', 'state', 'zip_code', 'pri_phone', 'ssn', 'birth_date', 'application_dt_fmt_dt'], keep = \"first\")\n",
    "print(data.shape)"
   ]
  },
  {
   "cell_type": "code",
   "execution_count": 12,
   "metadata": {},
   "outputs": [
    {
     "name": "stdout",
     "output_type": "stream",
     "text": [
      "(1857583, 862)\n"
     ]
    }
   ],
   "source": [
    "time_list = ['2021-10', '2021-11', '2021-12']\n",
    "data = data[~data.application_dt.str.slice(0, 7).isin(time_list)]\n",
    "print(data.shape)"
   ]
  },
  {
   "cell_type": "code",
   "execution_count": 26,
   "metadata": {},
   "outputs": [],
   "source": [
    "data.to_adls(\"Analytics/RnD Projects/Product RnD/Credit/202311-CRD-Model-Revalidations/Formatted_Files/Full_sample_formatted_w_flags/ready_to_be_formatted/pnc_11414_full_file.parquet\",\n",
    "             overwrite = True)"
   ]
  },
  {
   "cell_type": "code",
   "execution_count": 14,
   "metadata": {},
   "outputs": [
    {
     "name": "stdout",
     "output_type": "stream",
     "text": [
      "(1857583, 862)\n"
     ]
    }
   ],
   "source": [
    "from dsgtools import azure\n",
    "data = pd.read_adls(\"Analytics/RnD Projects/Product RnD/Credit/202311-CRD-Model-Revalidations/Formatted_Files/Full_sample_formatted_w_flags/ready_to_be_formatted/pnc_11414_full_file.parquet\")\n",
    "print(data.shape)"
   ]
  },
  {
   "cell_type": "code",
   "execution_count": 16,
   "metadata": {},
   "outputs": [
    {
     "name": "stdout",
     "output_type": "stream",
     "text": [
      "(2000000, 16)\n"
     ]
    }
   ],
   "source": [
    "path = \"Analytics/Customer Projects - ScoringData3/pnc_retro/toLNRS/QB11414/FilesFromCustomer/Rachel_work/cc_apps_2018_2021_LN_Upload_total_dobnew3.csv.gz\"\n",
    "dob = pd.read_adls(path, compression = \"gzip\", reader = pd.read_csv, dtype = str, encoding='iso-8859-1')\n",
    "print(dob.shape)"
   ]
  },
  {
   "cell_type": "code",
   "execution_count": 21,
   "metadata": {},
   "outputs": [
    {
     "name": "stdout",
     "output_type": "stream",
     "text": [
      "True\n",
      "(1857583, 863)\n"
     ]
    }
   ],
   "source": [
    "print(dob.application_id.is_unique)\n",
    "dob = dob[[\"application_id\", \"birth_date_y\"]]\n",
    "dob.columns = [\"application_id\", \"birth_date_updated\"]\n",
    "data = data.merge(dob, on = \"application_id\")\n",
    "print(data.shape)"
   ]
  },
  {
   "cell_type": "code",
   "execution_count": 22,
   "metadata": {},
   "outputs": [
    {
     "name": "stdout",
     "output_type": "stream",
     "text": [
      "0\n",
      "5690\n"
     ]
    }
   ],
   "source": [
    "from datetime import datetime\n",
    "print(data.birth_date.isnull().sum())\n",
    "data[\"birth_date_fmt\"] = pd.to_datetime(data.birth_date_updated, format = \"%m-%d-%Y\", errors = \"coerce\")\n",
    "print(data.birth_date_fmt.isnull().sum())"
   ]
  },
  {
   "cell_type": "code",
   "execution_count": 24,
   "metadata": {},
   "outputs": [],
   "source": [
    "data[\"birth_date_fmt_dt\"] = data['birth_date_fmt'].astype(str).str.slice(0,4) + data['birth_date_fmt'].astype(str).str.slice(5,7) + data['birth_date_fmt'].astype(str).str.slice(8,10)"
   ]
  },
  {
   "cell_type": "markdown",
   "metadata": {},
   "source": [
    "## For validation"
   ]
  },
  {
   "cell_type": "code",
   "execution_count": 27,
   "metadata": {},
   "outputs": [
    {
     "data": {
      "text/html": [
       "<div>\n",
       "<style scoped>\n",
       "    .dataframe tbody tr th:only-of-type {\n",
       "        vertical-align: middle;\n",
       "    }\n",
       "\n",
       "    .dataframe tbody tr th {\n",
       "        vertical-align: top;\n",
       "    }\n",
       "\n",
       "    .dataframe thead th {\n",
       "        text-align: right;\n",
       "    }\n",
       "</style>\n",
       "<table border=\"1\" class=\"dataframe\">\n",
       "  <thead>\n",
       "    <tr style=\"text-align: right;\">\n",
       "      <th></th>\n",
       "      <th>Count</th>\n",
       "      <th>Pct</th>\n",
       "      <th>Cuml Count</th>\n",
       "      <th>Cuml Pct</th>\n",
       "    </tr>\n",
       "    <tr>\n",
       "      <th>appl_status_grp</th>\n",
       "      <th></th>\n",
       "      <th></th>\n",
       "      <th></th>\n",
       "      <th></th>\n",
       "    </tr>\n",
       "  </thead>\n",
       "  <tbody>\n",
       "    <tr>\n",
       "      <th>Approved</th>\n",
       "      <td>2.0</td>\n",
       "      <td>0.000001</td>\n",
       "      <td>2.0</td>\n",
       "      <td>0.000001</td>\n",
       "    </tr>\n",
       "    <tr>\n",
       "      <th>Booked</th>\n",
       "      <td>1131293.0</td>\n",
       "      <td>0.609013</td>\n",
       "      <td>1131295.0</td>\n",
       "      <td>0.609015</td>\n",
       "    </tr>\n",
       "    <tr>\n",
       "      <th>Declined</th>\n",
       "      <td>718797.0</td>\n",
       "      <td>0.386953</td>\n",
       "      <td>1850092.0</td>\n",
       "      <td>0.995967</td>\n",
       "    </tr>\n",
       "    <tr>\n",
       "      <th>Withdrawn</th>\n",
       "      <td>7491.0</td>\n",
       "      <td>0.004033</td>\n",
       "      <td>1857583.0</td>\n",
       "      <td>1.000000</td>\n",
       "    </tr>\n",
       "  </tbody>\n",
       "</table>\n",
       "</div>"
      ],
      "text/plain": [
       "                     Count       Pct  Cuml Count  Cuml Pct\n",
       "appl_status_grp                                           \n",
       "Approved               2.0  0.000001         2.0  0.000001\n",
       "Booked           1131293.0  0.609013   1131295.0  0.609015\n",
       "Declined          718797.0  0.386953   1850092.0  0.995967\n",
       "Withdrawn           7491.0  0.004033   1857583.0  1.000000"
      ]
     },
     "execution_count": 27,
     "metadata": {},
     "output_type": "execute_result"
    }
   ],
   "source": [
    "freq(data.appl_status_grp)"
   ]
  },
  {
   "cell_type": "code",
   "execution_count": 28,
   "metadata": {},
   "outputs": [
    {
     "name": "stdout",
     "output_type": "stream",
     "text": [
      "(1131293, 865)\n"
     ]
    },
    {
     "data": {
      "text/html": [
       "<div>\n",
       "<style scoped>\n",
       "    .dataframe tbody tr th:only-of-type {\n",
       "        vertical-align: middle;\n",
       "    }\n",
       "\n",
       "    .dataframe tbody tr th {\n",
       "        vertical-align: top;\n",
       "    }\n",
       "\n",
       "    .dataframe thead th {\n",
       "        text-align: right;\n",
       "    }\n",
       "</style>\n",
       "<table border=\"1\" class=\"dataframe\">\n",
       "  <thead>\n",
       "    <tr style=\"text-align: right;\">\n",
       "      <th></th>\n",
       "      <th></th>\n",
       "      <th>Count</th>\n",
       "      <th>Pct</th>\n",
       "      <th>Cuml Count</th>\n",
       "      <th>Cuml Pct</th>\n",
       "    </tr>\n",
       "    <tr>\n",
       "      <th>closed_WiN_12</th>\n",
       "      <th>lost_stolen_WiN_12</th>\n",
       "      <th></th>\n",
       "      <th></th>\n",
       "      <th></th>\n",
       "      <th></th>\n",
       "    </tr>\n",
       "  </thead>\n",
       "  <tbody>\n",
       "    <tr>\n",
       "      <th rowspan=\"2\" valign=\"top\">1</th>\n",
       "      <th>0</th>\n",
       "      <td>38815.0</td>\n",
       "      <td>0.034310</td>\n",
       "      <td>38815.0</td>\n",
       "      <td>0.034310</td>\n",
       "    </tr>\n",
       "    <tr>\n",
       "      <th>1</th>\n",
       "      <td>222.0</td>\n",
       "      <td>0.000196</td>\n",
       "      <td>39037.0</td>\n",
       "      <td>0.034507</td>\n",
       "    </tr>\n",
       "    <tr>\n",
       "      <th rowspan=\"2\" valign=\"top\">0</th>\n",
       "      <th>0</th>\n",
       "      <td>1078627.0</td>\n",
       "      <td>0.953446</td>\n",
       "      <td>1117664.0</td>\n",
       "      <td>0.987953</td>\n",
       "    </tr>\n",
       "    <tr>\n",
       "      <th>1</th>\n",
       "      <td>7057.0</td>\n",
       "      <td>0.006238</td>\n",
       "      <td>1124721.0</td>\n",
       "      <td>0.994191</td>\n",
       "    </tr>\n",
       "    <tr>\n",
       "      <th>Missing</th>\n",
       "      <th>Missing</th>\n",
       "      <td>6572.0</td>\n",
       "      <td>0.005809</td>\n",
       "      <td>1131293.0</td>\n",
       "      <td>1.000000</td>\n",
       "    </tr>\n",
       "  </tbody>\n",
       "</table>\n",
       "</div>"
      ],
      "text/plain": [
       "                                      Count       Pct  Cuml Count  Cuml Pct\n",
       "closed_WiN_12 lost_stolen_WiN_12                                           \n",
       "1             0                     38815.0  0.034310     38815.0  0.034310\n",
       "              1                       222.0  0.000196     39037.0  0.034507\n",
       "0             0                   1078627.0  0.953446   1117664.0  0.987953\n",
       "              1                      7057.0  0.006238   1124721.0  0.994191\n",
       "Missing       Missing                6572.0  0.005809   1131293.0  1.000000"
      ]
     },
     "execution_count": 28,
     "metadata": {},
     "output_type": "execute_result"
    }
   ],
   "source": [
    "data = data[data.appl_status_grp == \"Booked\"]\n",
    "print(data.shape)\n",
    "freq(data.closed_WiN_12, data.lost_stolen_WiN_12, cross = False, observed = True)"
   ]
  },
  {
   "cell_type": "code",
   "execution_count": 29,
   "metadata": {},
   "outputs": [
    {
     "name": "stdout",
     "output_type": "stream",
     "text": [
      "(1078627, 865)\n"
     ]
    },
    {
     "data": {
      "text/html": [
       "<div>\n",
       "<style scoped>\n",
       "    .dataframe tbody tr th:only-of-type {\n",
       "        vertical-align: middle;\n",
       "    }\n",
       "\n",
       "    .dataframe tbody tr th {\n",
       "        vertical-align: top;\n",
       "    }\n",
       "\n",
       "    .dataframe thead th {\n",
       "        text-align: right;\n",
       "    }\n",
       "</style>\n",
       "<table border=\"1\" class=\"dataframe\">\n",
       "  <thead>\n",
       "    <tr style=\"text-align: right;\">\n",
       "      <th></th>\n",
       "      <th></th>\n",
       "      <th></th>\n",
       "      <th></th>\n",
       "      <th>Count</th>\n",
       "      <th>Pct</th>\n",
       "      <th>Cuml Count</th>\n",
       "      <th>Cuml Pct</th>\n",
       "    </tr>\n",
       "    <tr>\n",
       "      <th>fraud_deceased_WiN_12</th>\n",
       "      <th>DPD_90_WiN_12</th>\n",
       "      <th>DPD_120_WiN_12</th>\n",
       "      <th>CO_BNK_WiN_12</th>\n",
       "      <th></th>\n",
       "      <th></th>\n",
       "      <th></th>\n",
       "      <th></th>\n",
       "    </tr>\n",
       "  </thead>\n",
       "  <tbody>\n",
       "    <tr>\n",
       "      <th rowspan=\"6\" valign=\"top\">0</th>\n",
       "      <th rowspan=\"2\" valign=\"top\">0</th>\n",
       "      <th rowspan=\"2\" valign=\"top\">0</th>\n",
       "      <th>0</th>\n",
       "      <td>1060412.0</td>\n",
       "      <td>0.983113</td>\n",
       "      <td>1060412.0</td>\n",
       "      <td>0.983113</td>\n",
       "    </tr>\n",
       "    <tr>\n",
       "      <th>1</th>\n",
       "      <td>3691.0</td>\n",
       "      <td>0.003422</td>\n",
       "      <td>1064103.0</td>\n",
       "      <td>0.986535</td>\n",
       "    </tr>\n",
       "    <tr>\n",
       "      <th rowspan=\"4\" valign=\"top\">1</th>\n",
       "      <th rowspan=\"2\" valign=\"top\">0</th>\n",
       "      <th>0</th>\n",
       "      <td>2457.0</td>\n",
       "      <td>0.002278</td>\n",
       "      <td>1066560.0</td>\n",
       "      <td>0.988813</td>\n",
       "    </tr>\n",
       "    <tr>\n",
       "      <th>1</th>\n",
       "      <td>259.0</td>\n",
       "      <td>0.000240</td>\n",
       "      <td>1066819.0</td>\n",
       "      <td>0.989053</td>\n",
       "    </tr>\n",
       "    <tr>\n",
       "      <th rowspan=\"2\" valign=\"top\">1</th>\n",
       "      <th>0</th>\n",
       "      <td>3736.0</td>\n",
       "      <td>0.003464</td>\n",
       "      <td>1070555.0</td>\n",
       "      <td>0.992516</td>\n",
       "    </tr>\n",
       "    <tr>\n",
       "      <th>1</th>\n",
       "      <td>7286.0</td>\n",
       "      <td>0.006755</td>\n",
       "      <td>1077841.0</td>\n",
       "      <td>0.999271</td>\n",
       "    </tr>\n",
       "    <tr>\n",
       "      <th rowspan=\"6\" valign=\"top\">1</th>\n",
       "      <th rowspan=\"2\" valign=\"top\">0</th>\n",
       "      <th rowspan=\"2\" valign=\"top\">0</th>\n",
       "      <th>0</th>\n",
       "      <td>26.0</td>\n",
       "      <td>0.000024</td>\n",
       "      <td>1077867.0</td>\n",
       "      <td>0.999295</td>\n",
       "    </tr>\n",
       "    <tr>\n",
       "      <th>1</th>\n",
       "      <td>416.0</td>\n",
       "      <td>0.000386</td>\n",
       "      <td>1078283.0</td>\n",
       "      <td>0.999681</td>\n",
       "    </tr>\n",
       "    <tr>\n",
       "      <th rowspan=\"4\" valign=\"top\">1</th>\n",
       "      <th rowspan=\"2\" valign=\"top\">0</th>\n",
       "      <th>0</th>\n",
       "      <td>11.0</td>\n",
       "      <td>0.000010</td>\n",
       "      <td>1078294.0</td>\n",
       "      <td>0.999691</td>\n",
       "    </tr>\n",
       "    <tr>\n",
       "      <th>1</th>\n",
       "      <td>117.0</td>\n",
       "      <td>0.000108</td>\n",
       "      <td>1078411.0</td>\n",
       "      <td>0.999800</td>\n",
       "    </tr>\n",
       "    <tr>\n",
       "      <th rowspan=\"2\" valign=\"top\">1</th>\n",
       "      <th>0</th>\n",
       "      <td>10.0</td>\n",
       "      <td>0.000009</td>\n",
       "      <td>1078421.0</td>\n",
       "      <td>0.999809</td>\n",
       "    </tr>\n",
       "    <tr>\n",
       "      <th>1</th>\n",
       "      <td>206.0</td>\n",
       "      <td>0.000191</td>\n",
       "      <td>1078627.0</td>\n",
       "      <td>1.000000</td>\n",
       "    </tr>\n",
       "  </tbody>\n",
       "</table>\n",
       "</div>"
      ],
      "text/plain": [
       "                                                                      Count  \\\n",
       "fraud_deceased_WiN_12 DPD_90_WiN_12 DPD_120_WiN_12 CO_BNK_WiN_12              \n",
       "0                     0             0              0              1060412.0   \n",
       "                                                   1                 3691.0   \n",
       "                      1             0              0                 2457.0   \n",
       "                                                   1                  259.0   \n",
       "                                    1              0                 3736.0   \n",
       "                                                   1                 7286.0   \n",
       "1                     0             0              0                   26.0   \n",
       "                                                   1                  416.0   \n",
       "                      1             0              0                   11.0   \n",
       "                                                   1                  117.0   \n",
       "                                    1              0                   10.0   \n",
       "                                                   1                  206.0   \n",
       "\n",
       "                                                                       Pct  \\\n",
       "fraud_deceased_WiN_12 DPD_90_WiN_12 DPD_120_WiN_12 CO_BNK_WiN_12             \n",
       "0                     0             0              0              0.983113   \n",
       "                                                   1              0.003422   \n",
       "                      1             0              0              0.002278   \n",
       "                                                   1              0.000240   \n",
       "                                    1              0              0.003464   \n",
       "                                                   1              0.006755   \n",
       "1                     0             0              0              0.000024   \n",
       "                                                   1              0.000386   \n",
       "                      1             0              0              0.000010   \n",
       "                                                   1              0.000108   \n",
       "                                    1              0              0.000009   \n",
       "                                                   1              0.000191   \n",
       "\n",
       "                                                                  Cuml Count  \\\n",
       "fraud_deceased_WiN_12 DPD_90_WiN_12 DPD_120_WiN_12 CO_BNK_WiN_12               \n",
       "0                     0             0              0               1060412.0   \n",
       "                                                   1               1064103.0   \n",
       "                      1             0              0               1066560.0   \n",
       "                                                   1               1066819.0   \n",
       "                                    1              0               1070555.0   \n",
       "                                                   1               1077841.0   \n",
       "1                     0             0              0               1077867.0   \n",
       "                                                   1               1078283.0   \n",
       "                      1             0              0               1078294.0   \n",
       "                                                   1               1078411.0   \n",
       "                                    1              0               1078421.0   \n",
       "                                                   1               1078627.0   \n",
       "\n",
       "                                                                  Cuml Pct  \n",
       "fraud_deceased_WiN_12 DPD_90_WiN_12 DPD_120_WiN_12 CO_BNK_WiN_12            \n",
       "0                     0             0              0              0.983113  \n",
       "                                                   1              0.986535  \n",
       "                      1             0              0              0.988813  \n",
       "                                                   1              0.989053  \n",
       "                                    1              0              0.992516  \n",
       "                                                   1              0.999271  \n",
       "1                     0             0              0              0.999295  \n",
       "                                                   1              0.999681  \n",
       "                      1             0              0              0.999691  \n",
       "                                                   1              0.999800  \n",
       "                                    1              0              0.999809  \n",
       "                                                   1              1.000000  "
      ]
     },
     "execution_count": 29,
     "metadata": {},
     "output_type": "execute_result"
    }
   ],
   "source": [
    "data = data[(data.closed_WiN_12 == \"0\") & (data.lost_stolen_WiN_12 == \"0\")]\n",
    "print(data.shape)\n",
    "freq(data.fraud_deceased_WiN_12, data.DPD_90_WiN_12, data.DPD_120_WiN_12, data.CO_BNK_WiN_12, \n",
    "     cross = False, observed = True)"
   ]
  },
  {
   "cell_type": "code",
   "execution_count": 30,
   "metadata": {},
   "outputs": [
    {
     "name": "stdout",
     "output_type": "stream",
     "text": [
      "(507908, 865)\n"
     ]
    }
   ],
   "source": [
    "data = data[data.fraud_deceased_WiN_12 ==\"0\"]\n",
    "time_list = ['2019-08', '2019-09', '2019-10', '2019-11', '2019-12', '2020-01', '2020-02', '2020-03', '2020-04', '2020-05', '2020-06', \n",
    "             '2020-07', '2020-08', '2020-09', '2020-10', '2020-11', '2020-12', '2021-01', '2021-02', '2021-03', '2021-04', '2021-05', \n",
    "             '2021-06', '2021-07', '2021-08', '2021-09', ]\n",
    "data = data[data.application_dt.str.slice(0, 7).isin(time_list)]\n",
    "print(data.shape)"
   ]
  },
  {
   "cell_type": "code",
   "execution_count": 31,
   "metadata": {},
   "outputs": [
    {
     "data": {
      "text/html": [
       "<div>\n",
       "<style scoped>\n",
       "    .dataframe tbody tr th:only-of-type {\n",
       "        vertical-align: middle;\n",
       "    }\n",
       "\n",
       "    .dataframe tbody tr th {\n",
       "        vertical-align: top;\n",
       "    }\n",
       "\n",
       "    .dataframe thead th {\n",
       "        text-align: right;\n",
       "    }\n",
       "</style>\n",
       "<table border=\"1\" class=\"dataframe\">\n",
       "  <thead>\n",
       "    <tr style=\"text-align: right;\">\n",
       "      <th></th>\n",
       "      <th>Count</th>\n",
       "      <th>Pct</th>\n",
       "      <th>Cuml Count</th>\n",
       "      <th>Cuml Pct</th>\n",
       "    </tr>\n",
       "    <tr>\n",
       "      <th>USE</th>\n",
       "      <th></th>\n",
       "      <th></th>\n",
       "      <th></th>\n",
       "      <th></th>\n",
       "    </tr>\n",
       "  </thead>\n",
       "  <tbody>\n",
       "    <tr>\n",
       "      <th>PRI</th>\n",
       "      <td>486228.0</td>\n",
       "      <td>0.957315</td>\n",
       "      <td>486228.0</td>\n",
       "      <td>0.957315</td>\n",
       "    </tr>\n",
       "    <tr>\n",
       "      <th>SEC</th>\n",
       "      <td>21680.0</td>\n",
       "      <td>0.042685</td>\n",
       "      <td>507908.0</td>\n",
       "      <td>1.000000</td>\n",
       "    </tr>\n",
       "  </tbody>\n",
       "</table>\n",
       "</div>"
      ],
      "text/plain": [
       "        Count       Pct  Cuml Count  Cuml Pct\n",
       "USE                                          \n",
       "PRI  486228.0  0.957315    486228.0  0.957315\n",
       "SEC   21680.0  0.042685    507908.0  1.000000"
      ]
     },
     "execution_count": 31,
     "metadata": {},
     "output_type": "execute_result"
    }
   ],
   "source": [
    "freq(data.USE)"
   ]
  },
  {
   "cell_type": "code",
   "execution_count": 32,
   "metadata": {},
   "outputs": [
    {
     "name": "stdout",
     "output_type": "stream",
     "text": [
      "(486228, 865)\n"
     ]
    }
   ],
   "source": [
    "data = data[data.USE == \"PRI\"]\n",
    "print(data.shape)"
   ]
  },
  {
   "cell_type": "code",
   "execution_count": 33,
   "metadata": {},
   "outputs": [
    {
     "data": {
      "text/plain": [
       "last_name          0\n",
       "address1           0\n",
       "address2      461602\n",
       "city               0\n",
       "state              0\n",
       "zip_code           0\n",
       "pri_phone          0\n",
       "ssn                0\n",
       "birth_date         0\n",
       "dtype: int64"
      ]
     },
     "execution_count": 33,
     "metadata": {},
     "output_type": "execute_result"
    }
   ],
   "source": [
    "data[['last_name', 'address1', \"address2\", 'city', 'state', 'zip_code', 'pri_phone', 'ssn', 'birth_date']].isnull().sum()"
   ]
  },
  {
   "cell_type": "code",
   "execution_count": 34,
   "metadata": {},
   "outputs": [
    {
     "data": {
      "text/html": [
       "<div>\n",
       "<style scoped>\n",
       "    .dataframe tbody tr th:only-of-type {\n",
       "        vertical-align: middle;\n",
       "    }\n",
       "\n",
       "    .dataframe tbody tr th {\n",
       "        vertical-align: top;\n",
       "    }\n",
       "\n",
       "    .dataframe thead tr th {\n",
       "        text-align: left;\n",
       "    }\n",
       "\n",
       "    .dataframe thead tr:last-of-type th {\n",
       "        text-align: right;\n",
       "    }\n",
       "</style>\n",
       "<table border=\"1\" class=\"dataframe\">\n",
       "  <thead>\n",
       "    <tr>\n",
       "      <th>tag</th>\n",
       "      <th colspan=\"6\" halign=\"left\">dpd_90P_CO</th>\n",
       "    </tr>\n",
       "    <tr>\n",
       "      <th>stats</th>\n",
       "      <th>N</th>\n",
       "      <th>PctN</th>\n",
       "      <th>Sum</th>\n",
       "      <th>Mean</th>\n",
       "      <th>WoE</th>\n",
       "      <th>IV</th>\n",
       "    </tr>\n",
       "    <tr>\n",
       "      <th>application_dt</th>\n",
       "      <th></th>\n",
       "      <th></th>\n",
       "      <th></th>\n",
       "      <th></th>\n",
       "      <th></th>\n",
       "      <th></th>\n",
       "    </tr>\n",
       "  </thead>\n",
       "  <tbody>\n",
       "    <tr>\n",
       "      <th>2019-08</th>\n",
       "      <td>35515.0</td>\n",
       "      <td>0.073042</td>\n",
       "      <td>740.0</td>\n",
       "      <td>0.020836</td>\n",
       "      <td>0.256331</td>\n",
       "      <td>0.005445</td>\n",
       "    </tr>\n",
       "    <tr>\n",
       "      <th>2019-09</th>\n",
       "      <td>36990.0</td>\n",
       "      <td>0.076075</td>\n",
       "      <td>720.0</td>\n",
       "      <td>0.019465</td>\n",
       "      <td>0.186840</td>\n",
       "      <td>0.002910</td>\n",
       "    </tr>\n",
       "    <tr>\n",
       "      <th>2019-10</th>\n",
       "      <td>41138.0</td>\n",
       "      <td>0.084606</td>\n",
       "      <td>836.0</td>\n",
       "      <td>0.020322</td>\n",
       "      <td>0.230807</td>\n",
       "      <td>0.005048</td>\n",
       "    </tr>\n",
       "    <tr>\n",
       "      <th>2019-11</th>\n",
       "      <td>39059.0</td>\n",
       "      <td>0.080331</td>\n",
       "      <td>739.0</td>\n",
       "      <td>0.018920</td>\n",
       "      <td>0.157906</td>\n",
       "      <td>0.002164</td>\n",
       "    </tr>\n",
       "    <tr>\n",
       "      <th>2019-12</th>\n",
       "      <td>34780.0</td>\n",
       "      <td>0.071530</td>\n",
       "      <td>698.0</td>\n",
       "      <td>0.020069</td>\n",
       "      <td>0.218030</td>\n",
       "      <td>0.003785</td>\n",
       "    </tr>\n",
       "    <tr>\n",
       "      <th>2020-01</th>\n",
       "      <td>36604.0</td>\n",
       "      <td>0.075282</td>\n",
       "      <td>641.0</td>\n",
       "      <td>0.017512</td>\n",
       "      <td>0.079119</td>\n",
       "      <td>0.000490</td>\n",
       "    </tr>\n",
       "    <tr>\n",
       "      <th>2020-02</th>\n",
       "      <td>33026.0</td>\n",
       "      <td>0.067923</td>\n",
       "      <td>593.0</td>\n",
       "      <td>0.017956</td>\n",
       "      <td>0.104598</td>\n",
       "      <td>0.000782</td>\n",
       "    </tr>\n",
       "    <tr>\n",
       "      <th>2020-03</th>\n",
       "      <td>21564.0</td>\n",
       "      <td>0.044350</td>\n",
       "      <td>378.0</td>\n",
       "      <td>0.017529</td>\n",
       "      <td>0.080134</td>\n",
       "      <td>0.000296</td>\n",
       "    </tr>\n",
       "    <tr>\n",
       "      <th>2020-04</th>\n",
       "      <td>6425.0</td>\n",
       "      <td>0.013214</td>\n",
       "      <td>75.0</td>\n",
       "      <td>0.011673</td>\n",
       "      <td>-0.332387</td>\n",
       "      <td>0.001248</td>\n",
       "    </tr>\n",
       "    <tr>\n",
       "      <th>2020-05</th>\n",
       "      <td>4190.0</td>\n",
       "      <td>0.008617</td>\n",
       "      <td>55.0</td>\n",
       "      <td>0.013126</td>\n",
       "      <td>-0.213574</td>\n",
       "      <td>0.000355</td>\n",
       "    </tr>\n",
       "    <tr>\n",
       "      <th>2020-06</th>\n",
       "      <td>4757.0</td>\n",
       "      <td>0.009783</td>\n",
       "      <td>60.0</td>\n",
       "      <td>0.012613</td>\n",
       "      <td>-0.254000</td>\n",
       "      <td>0.000559</td>\n",
       "    </tr>\n",
       "    <tr>\n",
       "      <th>2020-07</th>\n",
       "      <td>7710.0</td>\n",
       "      <td>0.015857</td>\n",
       "      <td>117.0</td>\n",
       "      <td>0.015175</td>\n",
       "      <td>-0.066473</td>\n",
       "      <td>0.000068</td>\n",
       "    </tr>\n",
       "    <tr>\n",
       "      <th>2020-08</th>\n",
       "      <td>8869.0</td>\n",
       "      <td>0.018240</td>\n",
       "      <td>95.0</td>\n",
       "      <td>0.010711</td>\n",
       "      <td>-0.419336</td>\n",
       "      <td>0.002634</td>\n",
       "    </tr>\n",
       "    <tr>\n",
       "      <th>2020-09</th>\n",
       "      <td>8764.0</td>\n",
       "      <td>0.018024</td>\n",
       "      <td>118.0</td>\n",
       "      <td>0.013464</td>\n",
       "      <td>-0.187832</td>\n",
       "      <td>0.000581</td>\n",
       "    </tr>\n",
       "    <tr>\n",
       "      <th>2020-10</th>\n",
       "      <td>10302.0</td>\n",
       "      <td>0.021188</td>\n",
       "      <td>118.0</td>\n",
       "      <td>0.011454</td>\n",
       "      <td>-0.351553</td>\n",
       "      <td>0.002218</td>\n",
       "    </tr>\n",
       "    <tr>\n",
       "      <th>2020-11</th>\n",
       "      <td>9590.0</td>\n",
       "      <td>0.019723</td>\n",
       "      <td>86.0</td>\n",
       "      <td>0.008968</td>\n",
       "      <td>-0.598786</td>\n",
       "      <td>0.005360</td>\n",
       "    </tr>\n",
       "    <tr>\n",
       "      <th>2020-12</th>\n",
       "      <td>9508.0</td>\n",
       "      <td>0.019555</td>\n",
       "      <td>98.0</td>\n",
       "      <td>0.010307</td>\n",
       "      <td>-0.458226</td>\n",
       "      <td>0.003314</td>\n",
       "    </tr>\n",
       "    <tr>\n",
       "      <th>2021-01</th>\n",
       "      <td>12224.0</td>\n",
       "      <td>0.025140</td>\n",
       "      <td>129.0</td>\n",
       "      <td>0.010553</td>\n",
       "      <td>-0.434400</td>\n",
       "      <td>0.003870</td>\n",
       "    </tr>\n",
       "    <tr>\n",
       "      <th>2021-02</th>\n",
       "      <td>11988.0</td>\n",
       "      <td>0.024655</td>\n",
       "      <td>152.0</td>\n",
       "      <td>0.012679</td>\n",
       "      <td>-0.248685</td>\n",
       "      <td>0.001355</td>\n",
       "    </tr>\n",
       "    <tr>\n",
       "      <th>2021-03</th>\n",
       "      <td>17461.0</td>\n",
       "      <td>0.035911</td>\n",
       "      <td>286.0</td>\n",
       "      <td>0.016379</td>\n",
       "      <td>0.011117</td>\n",
       "      <td>0.000004</td>\n",
       "    </tr>\n",
       "    <tr>\n",
       "      <th>2021-04</th>\n",
       "      <td>15240.0</td>\n",
       "      <td>0.031343</td>\n",
       "      <td>297.0</td>\n",
       "      <td>0.019488</td>\n",
       "      <td>0.188069</td>\n",
       "      <td>0.001216</td>\n",
       "    </tr>\n",
       "    <tr>\n",
       "      <th>2021-05</th>\n",
       "      <td>15299.0</td>\n",
       "      <td>0.031465</td>\n",
       "      <td>225.0</td>\n",
       "      <td>0.014707</td>\n",
       "      <td>-0.098291</td>\n",
       "      <td>0.000290</td>\n",
       "    </tr>\n",
       "    <tr>\n",
       "      <th>2021-06</th>\n",
       "      <td>16409.0</td>\n",
       "      <td>0.033748</td>\n",
       "      <td>213.0</td>\n",
       "      <td>0.012981</td>\n",
       "      <td>-0.224892</td>\n",
       "      <td>0.001534</td>\n",
       "    </tr>\n",
       "    <tr>\n",
       "      <th>2021-07</th>\n",
       "      <td>16863.0</td>\n",
       "      <td>0.034681</td>\n",
       "      <td>145.0</td>\n",
       "      <td>0.008599</td>\n",
       "      <td>-0.641172</td>\n",
       "      <td>0.010606</td>\n",
       "    </tr>\n",
       "    <tr>\n",
       "      <th>2021-08</th>\n",
       "      <td>16194.0</td>\n",
       "      <td>0.033305</td>\n",
       "      <td>155.0</td>\n",
       "      <td>0.009571</td>\n",
       "      <td>-0.533018</td>\n",
       "      <td>0.007384</td>\n",
       "    </tr>\n",
       "    <tr>\n",
       "      <th>2021-09</th>\n",
       "      <td>15759.0</td>\n",
       "      <td>0.032411</td>\n",
       "      <td>108.0</td>\n",
       "      <td>0.006853</td>\n",
       "      <td>-0.869824</td>\n",
       "      <td>0.016534</td>\n",
       "    </tr>\n",
       "    <tr>\n",
       "      <th>Missing</th>\n",
       "      <td>0.0</td>\n",
       "      <td>0.000000</td>\n",
       "      <td>0.0</td>\n",
       "      <td>0.000000</td>\n",
       "      <td>0.000000</td>\n",
       "      <td>0.000000</td>\n",
       "    </tr>\n",
       "    <tr>\n",
       "      <th>Total</th>\n",
       "      <td>486228.0</td>\n",
       "      <td>1.000000</td>\n",
       "      <td>7877.0</td>\n",
       "      <td>0.016200</td>\n",
       "      <td>0.000000</td>\n",
       "      <td>0.080051</td>\n",
       "    </tr>\n",
       "  </tbody>\n",
       "</table>\n",
       "</div>"
      ],
      "text/plain": [
       "tag            dpd_90P_CO                                                \n",
       "stats                   N      PctN     Sum      Mean       WoE        IV\n",
       "application_dt                                                           \n",
       "2019-08           35515.0  0.073042   740.0  0.020836  0.256331  0.005445\n",
       "2019-09           36990.0  0.076075   720.0  0.019465  0.186840  0.002910\n",
       "2019-10           41138.0  0.084606   836.0  0.020322  0.230807  0.005048\n",
       "2019-11           39059.0  0.080331   739.0  0.018920  0.157906  0.002164\n",
       "2019-12           34780.0  0.071530   698.0  0.020069  0.218030  0.003785\n",
       "2020-01           36604.0  0.075282   641.0  0.017512  0.079119  0.000490\n",
       "2020-02           33026.0  0.067923   593.0  0.017956  0.104598  0.000782\n",
       "2020-03           21564.0  0.044350   378.0  0.017529  0.080134  0.000296\n",
       "2020-04            6425.0  0.013214    75.0  0.011673 -0.332387  0.001248\n",
       "2020-05            4190.0  0.008617    55.0  0.013126 -0.213574  0.000355\n",
       "2020-06            4757.0  0.009783    60.0  0.012613 -0.254000  0.000559\n",
       "2020-07            7710.0  0.015857   117.0  0.015175 -0.066473  0.000068\n",
       "2020-08            8869.0  0.018240    95.0  0.010711 -0.419336  0.002634\n",
       "2020-09            8764.0  0.018024   118.0  0.013464 -0.187832  0.000581\n",
       "2020-10           10302.0  0.021188   118.0  0.011454 -0.351553  0.002218\n",
       "2020-11            9590.0  0.019723    86.0  0.008968 -0.598786  0.005360\n",
       "2020-12            9508.0  0.019555    98.0  0.010307 -0.458226  0.003314\n",
       "2021-01           12224.0  0.025140   129.0  0.010553 -0.434400  0.003870\n",
       "2021-02           11988.0  0.024655   152.0  0.012679 -0.248685  0.001355\n",
       "2021-03           17461.0  0.035911   286.0  0.016379  0.011117  0.000004\n",
       "2021-04           15240.0  0.031343   297.0  0.019488  0.188069  0.001216\n",
       "2021-05           15299.0  0.031465   225.0  0.014707 -0.098291  0.000290\n",
       "2021-06           16409.0  0.033748   213.0  0.012981 -0.224892  0.001534\n",
       "2021-07           16863.0  0.034681   145.0  0.008599 -0.641172  0.010606\n",
       "2021-08           16194.0  0.033305   155.0  0.009571 -0.533018  0.007384\n",
       "2021-09           15759.0  0.032411   108.0  0.006853 -0.869824  0.016534\n",
       "Missing               0.0  0.000000     0.0  0.000000  0.000000  0.000000\n",
       "Total            486228.0  1.000000  7877.0  0.016200  0.000000  0.080051"
      ]
     },
     "execution_count": 34,
     "metadata": {},
     "output_type": "execute_result"
    }
   ],
   "source": [
    "from dsgtools import azure\n",
    "# data = pd.read_adls(\"Analytics/RnD Projects/Product RnD/Credit/202311-CRD-Model-Revalidations/Formatted_Files/cleaned/pnc_cleaned_11_17.parquet\")\n",
    "bivariate(data.application_dt.str.slice(0, 7), data.dpd_90P_CO)"
   ]
  },
  {
   "cell_type": "code",
   "execution_count": 35,
   "metadata": {},
   "outputs": [],
   "source": [
    "data.to_adls(\"Analytics/RnD Projects/Product RnD/Credit/202311-CRD-Model-Revalidations/Formatted_Files/cleaned/pnc_cleaned_11_17.parquet\", overwrite = True)"
   ]
  },
  {
   "cell_type": "markdown",
   "metadata": {},
   "source": [
    "### Add Weight"
   ]
  },
  {
   "cell_type": "code",
   "execution_count": 36,
   "metadata": {},
   "outputs": [
    {
     "name": "stdout",
     "output_type": "stream",
     "text": [
      "(7877, 866)\n",
      "(478351, 866)\n"
     ]
    }
   ],
   "source": [
    "data[\"weight\"] = 1\n",
    "data_1 = data[(data.dpd_90P_CO == 1)].copy()\n",
    "data_0 = data[(data.dpd_90P_CO == 0)].copy()\n",
    "print(data_1.shape)\n",
    "print(data_0.shape)"
   ]
  },
  {
   "cell_type": "code",
   "execution_count": 37,
   "metadata": {},
   "outputs": [
    {
     "data": {
      "text/html": [
       "<div>\n",
       "<style scoped>\n",
       "    .dataframe tbody tr th:only-of-type {\n",
       "        vertical-align: middle;\n",
       "    }\n",
       "\n",
       "    .dataframe tbody tr th {\n",
       "        vertical-align: top;\n",
       "    }\n",
       "\n",
       "    .dataframe thead th {\n",
       "        text-align: right;\n",
       "    }\n",
       "</style>\n",
       "<table border=\"1\" class=\"dataframe\">\n",
       "  <thead>\n",
       "    <tr style=\"text-align: right;\">\n",
       "      <th></th>\n",
       "      <th>Count</th>\n",
       "      <th>Pct</th>\n",
       "      <th>Cuml Count</th>\n",
       "      <th>Cuml Pct</th>\n",
       "    </tr>\n",
       "    <tr>\n",
       "      <th>dpd_90P_CO</th>\n",
       "      <th></th>\n",
       "      <th></th>\n",
       "      <th></th>\n",
       "      <th></th>\n",
       "    </tr>\n",
       "  </thead>\n",
       "  <tbody>\n",
       "    <tr>\n",
       "      <th>0</th>\n",
       "      <td>478351.0</td>\n",
       "      <td>0.9838</td>\n",
       "      <td>478351.0</td>\n",
       "      <td>0.9838</td>\n",
       "    </tr>\n",
       "    <tr>\n",
       "      <th>1</th>\n",
       "      <td>7877.0</td>\n",
       "      <td>0.0162</td>\n",
       "      <td>486228.0</td>\n",
       "      <td>1.0000</td>\n",
       "    </tr>\n",
       "  </tbody>\n",
       "</table>\n",
       "</div>"
      ],
      "text/plain": [
       "               Count     Pct  Cuml Count  Cuml Pct\n",
       "dpd_90P_CO                                        \n",
       "0           478351.0  0.9838    478351.0    0.9838\n",
       "1             7877.0  0.0162    486228.0    1.0000"
      ]
     },
     "execution_count": 37,
     "metadata": {},
     "output_type": "execute_result"
    }
   ],
   "source": [
    "freq(data.dpd_90P_CO)"
   ]
  },
  {
   "cell_type": "code",
   "execution_count": 38,
   "metadata": {},
   "outputs": [
    {
     "name": "stdout",
     "output_type": "stream",
     "text": [
      "[1.97565287]\n",
      "(242123, 866)\n"
     ]
    }
   ],
   "source": [
    "data_0_sample = data_0.sample(n = 250_000 - data_1.shape[0], random_state=1)\n",
    "data_0_sample['weight'] = data_0.shape[0]/(250_000 - data_1.shape[0])\n",
    "print(data_0_sample['weight'].unique())\n",
    "print(data_0_sample.shape)"
   ]
  },
  {
   "cell_type": "code",
   "execution_count": 39,
   "metadata": {},
   "outputs": [
    {
     "name": "stdout",
     "output_type": "stream",
     "text": [
      "(250000, 866)\n"
     ]
    }
   ],
   "source": [
    "data = pd.concat([data_1, data_0_sample], ignore_index= True)\n",
    "print(data.shape)"
   ]
  },
  {
   "cell_type": "code",
   "execution_count": 40,
   "metadata": {},
   "outputs": [],
   "source": [
    "data.to_adls(\"Analytics/RnD Projects/Product RnD/Credit/202311-CRD-Model-Revalidations/Formatted_Files/pnc_250K_11_17.parquet\", overwrite = True)"
   ]
  },
  {
   "cell_type": "code",
   "execution_count": null,
   "metadata": {},
   "outputs": [],
   "source": []
  }
 ],
 "metadata": {
  "kernelspec": {
   "display_name": "data-science",
   "language": "python",
   "name": "python3"
  },
  "language_info": {
   "codemirror_mode": {
    "name": "ipython",
    "version": 3
   },
   "file_extension": ".py",
   "mimetype": "text/x-python",
   "name": "python",
   "nbconvert_exporter": "python",
   "pygments_lexer": "ipython3",
   "version": "3.10.6"
  }
 },
 "nbformat": 4,
 "nbformat_minor": 2
}
