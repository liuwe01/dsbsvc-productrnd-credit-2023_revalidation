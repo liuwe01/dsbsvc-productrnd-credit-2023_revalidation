{
 "cells": [
  {
   "cell_type": "code",
   "execution_count": 2,
   "metadata": {},
   "outputs": [],
   "source": [
    "import time\n",
    "import pandas as pd\n",
    "import numpy as np\n",
    "import math\n",
    "\n",
    "# internal tools\n",
    "from dsgtools.reporting import make_format\n",
    "from dsgtools.reporting import TableWriter\n",
    "from dsgtools.reporting import freq\n",
    "from dsgtools.reporting import bivariate\n",
    "from dsgtools import azure"
   ]
  },
  {
   "cell_type": "markdown",
   "metadata": {},
   "source": [
    "### collection score"
   ]
  },
  {
   "cell_type": "code",
   "execution_count": 2,
   "metadata": {},
   "outputs": [
    {
     "name": "stdout",
     "output_type": "stream",
     "text": [
      "(711654, 95)\n"
     ]
    }
   ],
   "source": [
    "collection = pd.read_adls('Analytics/RnD Projects/Product RnD/Credit/202311-CRD-Model-Revalidations/Formatted_Files/collection_samples_weighted_1117.parquet')\n",
    "print(collection.shape)"
   ]
  },
  {
   "cell_type": "code",
   "execution_count": 3,
   "metadata": {},
   "outputs": [
    {
     "data": {
      "text/plain": [
       "True"
      ]
     },
     "execution_count": 3,
     "metadata": {},
     "output_type": "execute_result"
    }
   ],
   "source": [
    "collection.unique_id.is_unique"
   ]
  },
  {
   "cell_type": "code",
   "execution_count": 4,
   "metadata": {},
   "outputs": [
    {
     "name": "stdout",
     "output_type": "stream",
     "text": [
      "(6314179, 408)\n"
     ]
    }
   ],
   "source": [
    "stacked_final = pd.read_adls(\"Analytics/RnD Projects/Product RnD/Credit/Payment_Collection_Score_202306/QB_11843/redo_20230925/parquet_data/merged_data_for_model_build_0927.parquet\")\n",
    "print(stacked_final.shape)\n",
    "\n",
    "stacked_final = stacked_final[[\"unique_id\", \"age\", \"senior\", \"gender\", \"cfpb_race_estimate_80\", \"lexid\",  'r_rv_score_payment',\n",
    " 'r_rv_payment_reason', 'r_rv_payment_reason2', 'r_rv_payment_reason3', 'r_rv_payment_reason4', 'r_rv_payment_reason5', 'rv_score_payment',\n",
    " 'rv_payment_reason', 'rv_payment_reason2', 'rv_payment_reason3', 'rv_payment_reason4', 'rv_payment_reason5',]]"
   ]
  },
  {
   "cell_type": "code",
   "execution_count": 5,
   "metadata": {},
   "outputs": [
    {
     "name": "stdout",
     "output_type": "stream",
     "text": [
      "(711654, 95)\n",
      "(711654, 112)\n"
     ]
    }
   ],
   "source": [
    "print(collection.shape)\n",
    "collection = collection.merge(stacked_final, on = ['unique_id'])\n",
    "print(collection.shape)"
   ]
  },
  {
   "cell_type": "code",
   "execution_count": 6,
   "metadata": {},
   "outputs": [
    {
     "data": {
      "text/plain": [
       "4.116161     236490\n",
       "1.000000     225164\n",
       "2.000000     198063\n",
       "42.511337     51937\n",
       "Name: Std_weight, dtype: int64"
      ]
     },
     "execution_count": 6,
     "metadata": {},
     "output_type": "execute_result"
    }
   ],
   "source": [
    "collection.Std_weight.value_counts()"
   ]
  },
  {
   "cell_type": "code",
   "execution_count": 7,
   "metadata": {},
   "outputs": [
    {
     "data": {
      "text/html": [
       "<div>\n",
       "<style scoped>\n",
       "    .dataframe tbody tr th:only-of-type {\n",
       "        vertical-align: middle;\n",
       "    }\n",
       "\n",
       "    .dataframe tbody tr th {\n",
       "        vertical-align: top;\n",
       "    }\n",
       "\n",
       "    .dataframe thead th {\n",
       "        text-align: right;\n",
       "    }\n",
       "</style>\n",
       "<table border=\"1\" class=\"dataframe\">\n",
       "  <thead>\n",
       "    <tr style=\"text-align: right;\">\n",
       "      <th></th>\n",
       "      <th>Count</th>\n",
       "      <th>Pct</th>\n",
       "      <th>Cuml Count</th>\n",
       "      <th>Cuml Pct</th>\n",
       "    </tr>\n",
       "    <tr>\n",
       "      <th>Std_customer</th>\n",
       "      <th></th>\n",
       "      <th></th>\n",
       "      <th></th>\n",
       "      <th></th>\n",
       "    </tr>\n",
       "  </thead>\n",
       "  <tbody>\n",
       "    <tr>\n",
       "      <th>Pendrick_Capital_Partners</th>\n",
       "      <td>250000.0</td>\n",
       "      <td>0.351294</td>\n",
       "      <td>250000.0</td>\n",
       "      <td>0.351294</td>\n",
       "    </tr>\n",
       "    <tr>\n",
       "      <th>Penn_Credit_Corp</th>\n",
       "      <td>250000.0</td>\n",
       "      <td>0.351294</td>\n",
       "      <td>500000.0</td>\n",
       "      <td>0.702589</td>\n",
       "    </tr>\n",
       "    <tr>\n",
       "      <th>Phillips_and_Cohen</th>\n",
       "      <td>211654.0</td>\n",
       "      <td>0.297411</td>\n",
       "      <td>711654.0</td>\n",
       "      <td>1.000000</td>\n",
       "    </tr>\n",
       "  </tbody>\n",
       "</table>\n",
       "</div>"
      ],
      "text/plain": [
       "                              Count       Pct  Cuml Count  Cuml Pct\n",
       "Std_customer                                                       \n",
       "Pendrick_Capital_Partners  250000.0  0.351294    250000.0  0.351294\n",
       "Penn_Credit_Corp           250000.0  0.351294    500000.0  0.702589\n",
       "Phillips_and_Cohen         211654.0  0.297411    711654.0  1.000000"
      ]
     },
     "execution_count": 7,
     "metadata": {},
     "output_type": "execute_result"
    }
   ],
   "source": [
    "freq(collection.Std_customer)"
   ]
  },
  {
   "cell_type": "code",
   "execution_count": 8,
   "metadata": {},
   "outputs": [],
   "source": [
    "collection.to_adls(\"Analytics/RnD Projects/Product RnD/Credit/202311-CRD-Model-Revalidations/Formatted_Files/Existing_score/collection/collection.parquet\")"
   ]
  },
  {
   "cell_type": "markdown",
   "metadata": {},
   "source": [
    "### IAG10"
   ]
  },
  {
   "cell_type": "code",
   "execution_count": 15,
   "metadata": {},
   "outputs": [
    {
     "name": "stdout",
     "output_type": "stream",
     "text": [
      "(2000000, 507)\n"
     ]
    }
   ],
   "source": [
    "imoc = pd.read_adls(\"Analytics/RnD Projects/Product RnD/Credit/IMOC/LexisNexis-proj 11882/processed/20231115_model_ready_attributes_v3.parquet\")\n",
    "print(imoc.shape)"
   ]
  },
  {
   "cell_type": "code",
   "execution_count": 16,
   "metadata": {},
   "outputs": [
    {
     "data": {
      "text/plain": [
       "'tag_synth'"
      ]
     },
     "metadata": {},
     "output_type": "display_data"
    },
    {
     "data": {
      "text/html": [
       "<div>\n",
       "<style scoped>\n",
       "    .dataframe tbody tr th:only-of-type {\n",
       "        vertical-align: middle;\n",
       "    }\n",
       "\n",
       "    .dataframe tbody tr th {\n",
       "        vertical-align: top;\n",
       "    }\n",
       "\n",
       "    .dataframe thead th {\n",
       "        text-align: right;\n",
       "    }\n",
       "</style>\n",
       "<table border=\"1\" class=\"dataframe\">\n",
       "  <thead>\n",
       "    <tr style=\"text-align: right;\">\n",
       "      <th></th>\n",
       "      <th>Count</th>\n",
       "      <th>Pct</th>\n",
       "      <th>Cuml Count</th>\n",
       "      <th>Cuml Pct</th>\n",
       "    </tr>\n",
       "    <tr>\n",
       "      <th>tag_synth</th>\n",
       "      <th></th>\n",
       "      <th></th>\n",
       "      <th></th>\n",
       "      <th></th>\n",
       "    </tr>\n",
       "  </thead>\n",
       "  <tbody>\n",
       "    <tr>\n",
       "      <th>0.0</th>\n",
       "      <td>1.743213e+07</td>\n",
       "      <td>0.861671</td>\n",
       "      <td>1.743213e+07</td>\n",
       "      <td>0.861671</td>\n",
       "    </tr>\n",
       "    <tr>\n",
       "      <th>1.0</th>\n",
       "      <td>6.158600e+04</td>\n",
       "      <td>0.003044</td>\n",
       "      <td>1.749371e+07</td>\n",
       "      <td>0.864715</td>\n",
       "    </tr>\n",
       "    <tr>\n",
       "      <th>Missing</th>\n",
       "      <td>2.736887e+06</td>\n",
       "      <td>0.135285</td>\n",
       "      <td>2.023060e+07</td>\n",
       "      <td>1.000000</td>\n",
       "    </tr>\n",
       "  </tbody>\n",
       "</table>\n",
       "</div>"
      ],
      "text/plain": [
       "                  Count       Pct    Cuml Count  Cuml Pct\n",
       "tag_synth                                                \n",
       "0.0        1.743213e+07  0.861671  1.743213e+07  0.861671\n",
       "1.0        6.158600e+04  0.003044  1.749371e+07  0.864715\n",
       "Missing    2.736887e+06  0.135285  2.023060e+07  1.000000"
      ]
     },
     "metadata": {},
     "output_type": "display_data"
    },
    {
     "data": {
      "text/plain": [
       "'tag_synth'"
      ]
     },
     "metadata": {},
     "output_type": "display_data"
    },
    {
     "data": {
      "text/html": [
       "<div>\n",
       "<style scoped>\n",
       "    .dataframe tbody tr th:only-of-type {\n",
       "        vertical-align: middle;\n",
       "    }\n",
       "\n",
       "    .dataframe tbody tr th {\n",
       "        vertical-align: top;\n",
       "    }\n",
       "\n",
       "    .dataframe thead th {\n",
       "        text-align: right;\n",
       "    }\n",
       "</style>\n",
       "<table border=\"1\" class=\"dataframe\">\n",
       "  <thead>\n",
       "    <tr style=\"text-align: right;\">\n",
       "      <th></th>\n",
       "      <th>Count</th>\n",
       "      <th>Pct</th>\n",
       "      <th>Cuml Count</th>\n",
       "      <th>Cuml Pct</th>\n",
       "    </tr>\n",
       "    <tr>\n",
       "      <th>tag_synth</th>\n",
       "      <th></th>\n",
       "      <th></th>\n",
       "      <th></th>\n",
       "      <th></th>\n",
       "    </tr>\n",
       "  </thead>\n",
       "  <tbody>\n",
       "    <tr>\n",
       "      <th>0.0</th>\n",
       "      <td>1536945.0</td>\n",
       "      <td>0.768473</td>\n",
       "      <td>1536945.0</td>\n",
       "      <td>0.768473</td>\n",
       "    </tr>\n",
       "    <tr>\n",
       "      <th>1.0</th>\n",
       "      <td>61586.0</td>\n",
       "      <td>0.030793</td>\n",
       "      <td>1598531.0</td>\n",
       "      <td>0.799265</td>\n",
       "    </tr>\n",
       "    <tr>\n",
       "      <th>Missing</th>\n",
       "      <td>401469.0</td>\n",
       "      <td>0.200735</td>\n",
       "      <td>2000000.0</td>\n",
       "      <td>1.000000</td>\n",
       "    </tr>\n",
       "  </tbody>\n",
       "</table>\n",
       "</div>"
      ],
      "text/plain": [
       "               Count       Pct  Cuml Count  Cuml Pct\n",
       "tag_synth                                           \n",
       "0.0        1536945.0  0.768473   1536945.0  0.768473\n",
       "1.0          61586.0  0.030793   1598531.0  0.799265\n",
       "Missing     401469.0  0.200735   2000000.0  1.000000"
      ]
     },
     "metadata": {},
     "output_type": "display_data"
    }
   ],
   "source": [
    "tags_synth = [\n",
    "    \"tag_citi_synthetic\",\n",
    "    \"tag_kohls_synth\",\n",
    "    \"tag_synch_syn_tag\",\n",
    "    \"tag_usba_fprc_flag\",\n",
    "]\n",
    "imoc[\"tag_synth\"] = imoc[tags_synth].eq(1).any(axis=\"columns\").astype(\"int\")\n",
    "imoc.loc[imoc[tags_synth].isnull().all(axis=\"columns\"), \"tag_synth\"] = np.nan\n",
    "display(\"tag_synth\", freq(\"tag_synth\", df=imoc, sample_weight=\"std_weight\"))\n",
    "display(\"tag_synth\", freq(\"tag_synth\", df=imoc))"
   ]
  },
  {
   "cell_type": "code",
   "execution_count": 17,
   "metadata": {},
   "outputs": [
    {
     "data": {
      "text/html": [
       "<div>\n",
       "<style scoped>\n",
       "    .dataframe tbody tr th:only-of-type {\n",
       "        vertical-align: middle;\n",
       "    }\n",
       "\n",
       "    .dataframe tbody tr th {\n",
       "        vertical-align: top;\n",
       "    }\n",
       "\n",
       "    .dataframe thead th {\n",
       "        text-align: right;\n",
       "    }\n",
       "</style>\n",
       "<table border=\"1\" class=\"dataframe\">\n",
       "  <thead>\n",
       "    <tr style=\"text-align: right;\">\n",
       "      <th></th>\n",
       "      <th></th>\n",
       "      <th>Count</th>\n",
       "      <th>Pct</th>\n",
       "      <th>Cuml Count</th>\n",
       "      <th>Cuml Pct</th>\n",
       "    </tr>\n",
       "    <tr>\n",
       "      <th>tag_synth</th>\n",
       "      <th>tag_imoc</th>\n",
       "      <th></th>\n",
       "      <th></th>\n",
       "      <th></th>\n",
       "      <th></th>\n",
       "    </tr>\n",
       "  </thead>\n",
       "  <tbody>\n",
       "    <tr>\n",
       "      <th rowspan=\"3\" valign=\"top\">Missing</th>\n",
       "      <th>0.0</th>\n",
       "      <td>363715.0</td>\n",
       "      <td>0.181858</td>\n",
       "      <td>363715.0</td>\n",
       "      <td>0.181858</td>\n",
       "    </tr>\n",
       "    <tr>\n",
       "      <th>Missing</th>\n",
       "      <td>1557.0</td>\n",
       "      <td>0.000779</td>\n",
       "      <td>365272.0</td>\n",
       "      <td>0.182636</td>\n",
       "    </tr>\n",
       "    <tr>\n",
       "      <th>1.0</th>\n",
       "      <td>36197.0</td>\n",
       "      <td>0.018099</td>\n",
       "      <td>401469.0</td>\n",
       "      <td>0.200734</td>\n",
       "    </tr>\n",
       "    <tr>\n",
       "      <th rowspan=\"3\" valign=\"top\">0.0</th>\n",
       "      <th>0.0</th>\n",
       "      <td>1386017.0</td>\n",
       "      <td>0.693009</td>\n",
       "      <td>1787486.0</td>\n",
       "      <td>0.893743</td>\n",
       "    </tr>\n",
       "    <tr>\n",
       "      <th>Missing</th>\n",
       "      <td>101880.0</td>\n",
       "      <td>0.050940</td>\n",
       "      <td>1889366.0</td>\n",
       "      <td>0.944683</td>\n",
       "    </tr>\n",
       "    <tr>\n",
       "      <th>1.0</th>\n",
       "      <td>49048.0</td>\n",
       "      <td>0.024524</td>\n",
       "      <td>1938414.0</td>\n",
       "      <td>0.969207</td>\n",
       "    </tr>\n",
       "    <tr>\n",
       "      <th rowspan=\"2\" valign=\"top\">1.0</th>\n",
       "      <th>Missing</th>\n",
       "      <td>36610.0</td>\n",
       "      <td>0.018305</td>\n",
       "      <td>1975024.0</td>\n",
       "      <td>0.987512</td>\n",
       "    </tr>\n",
       "    <tr>\n",
       "      <th>1.0</th>\n",
       "      <td>24976.0</td>\n",
       "      <td>0.012488</td>\n",
       "      <td>2000000.0</td>\n",
       "      <td>1.000000</td>\n",
       "    </tr>\n",
       "  </tbody>\n",
       "</table>\n",
       "</div>"
      ],
      "text/plain": [
       "                        Count       Pct  Cuml Count  Cuml Pct\n",
       "tag_synth tag_imoc                                           \n",
       "Missing   0.0        363715.0  0.181858    363715.0  0.181858\n",
       "          Missing      1557.0  0.000779    365272.0  0.182636\n",
       "          1.0         36197.0  0.018099    401469.0  0.200734\n",
       "0.0       0.0       1386017.0  0.693009   1787486.0  0.893743\n",
       "          Missing    101880.0  0.050940   1889366.0  0.944683\n",
       "          1.0         49048.0  0.024524   1938414.0  0.969207\n",
       "1.0       Missing     36610.0  0.018305   1975024.0  0.987512\n",
       "          1.0         24976.0  0.012488   2000000.0  1.000000"
      ]
     },
     "execution_count": 17,
     "metadata": {},
     "output_type": "execute_result"
    }
   ],
   "source": [
    "freq(\"tag_synth\", \"tag_imoc\", df=imoc, cross = False, observed = True)"
   ]
  },
  {
   "cell_type": "code",
   "execution_count": 18,
   "metadata": {},
   "outputs": [
    {
     "data": {
      "text/html": [
       "<div>\n",
       "<style scoped>\n",
       "    .dataframe tbody tr th:only-of-type {\n",
       "        vertical-align: middle;\n",
       "    }\n",
       "\n",
       "    .dataframe tbody tr th {\n",
       "        vertical-align: top;\n",
       "    }\n",
       "\n",
       "    .dataframe thead th {\n",
       "        text-align: right;\n",
       "    }\n",
       "</style>\n",
       "<table border=\"1\" class=\"dataframe\">\n",
       "  <thead>\n",
       "    <tr style=\"text-align: right;\">\n",
       "      <th></th>\n",
       "      <th>Count</th>\n",
       "      <th>Pct</th>\n",
       "      <th>Cuml Count</th>\n",
       "      <th>Cuml Pct</th>\n",
       "    </tr>\n",
       "    <tr>\n",
       "      <th>imoc_synth_final</th>\n",
       "      <th></th>\n",
       "      <th></th>\n",
       "      <th></th>\n",
       "      <th></th>\n",
       "    </tr>\n",
       "  </thead>\n",
       "  <tbody>\n",
       "    <tr>\n",
       "      <th>0.0</th>\n",
       "      <td>1851612.0</td>\n",
       "      <td>0.925806</td>\n",
       "      <td>1851612.0</td>\n",
       "      <td>0.925806</td>\n",
       "    </tr>\n",
       "    <tr>\n",
       "      <th>1.0</th>\n",
       "      <td>146831.0</td>\n",
       "      <td>0.073415</td>\n",
       "      <td>1998443.0</td>\n",
       "      <td>0.999221</td>\n",
       "    </tr>\n",
       "    <tr>\n",
       "      <th>Missing</th>\n",
       "      <td>1557.0</td>\n",
       "      <td>0.000779</td>\n",
       "      <td>2000000.0</td>\n",
       "      <td>1.000000</td>\n",
       "    </tr>\n",
       "  </tbody>\n",
       "</table>\n",
       "</div>"
      ],
      "text/plain": [
       "                      Count       Pct  Cuml Count  Cuml Pct\n",
       "imoc_synth_final                                           \n",
       "0.0               1851612.0  0.925806   1851612.0  0.925806\n",
       "1.0                146831.0  0.073415   1998443.0  0.999221\n",
       "Missing              1557.0  0.000779   2000000.0  1.000000"
      ]
     },
     "execution_count": 18,
     "metadata": {},
     "output_type": "execute_result"
    }
   ],
   "source": [
    "imoc[\"imoc_synth_final\"] = np.where(imoc.tag_synth.isnull() & imoc.tag_imoc.isnull(), np.nan, \n",
    "                                    imoc[['tag_synth', 'tag_imoc']].max(axis=1))\n",
    "freq(imoc[\"imoc_synth_final\"])"
   ]
  },
  {
   "cell_type": "code",
   "execution_count": 19,
   "metadata": {},
   "outputs": [],
   "source": [
    "# freq(imoc.Input_historydate.astype(str).str.slice(0, 6))"
   ]
  },
  {
   "cell_type": "code",
   "execution_count": 20,
   "metadata": {},
   "outputs": [
    {
     "name": "stdout",
     "output_type": "stream",
     "text": [
      "(1810630, 509)\n"
     ]
    }
   ],
   "source": [
    "imoc = imoc[(imoc.Input_historydate.astype(str).str.slice(0, 6).astype(float) >=201908) & (imoc.imoc_synth_final.notnull())]\n",
    "print(imoc.shape)"
   ]
  },
  {
   "cell_type": "code",
   "execution_count": 21,
   "metadata": {},
   "outputs": [
    {
     "data": {
      "text/html": [
       "<div>\n",
       "<style scoped>\n",
       "    .dataframe tbody tr th:only-of-type {\n",
       "        vertical-align: middle;\n",
       "    }\n",
       "\n",
       "    .dataframe tbody tr th {\n",
       "        vertical-align: top;\n",
       "    }\n",
       "\n",
       "    .dataframe thead tr th {\n",
       "        text-align: left;\n",
       "    }\n",
       "\n",
       "    .dataframe thead tr:last-of-type th {\n",
       "        text-align: right;\n",
       "    }\n",
       "</style>\n",
       "<table border=\"1\" class=\"dataframe\">\n",
       "  <thead>\n",
       "    <tr>\n",
       "      <th>tag</th>\n",
       "      <th colspan=\"6\" halign=\"left\">imoc_synth_final</th>\n",
       "    </tr>\n",
       "    <tr>\n",
       "      <th>stats</th>\n",
       "      <th>N</th>\n",
       "      <th>PctN</th>\n",
       "      <th>Sum</th>\n",
       "      <th>Mean</th>\n",
       "      <th>WoE</th>\n",
       "      <th>IV</th>\n",
       "    </tr>\n",
       "    <tr>\n",
       "      <th>client</th>\n",
       "      <th></th>\n",
       "      <th></th>\n",
       "      <th></th>\n",
       "      <th></th>\n",
       "      <th></th>\n",
       "      <th></th>\n",
       "    </tr>\n",
       "  </thead>\n",
       "  <tbody>\n",
       "    <tr>\n",
       "      <th>alliance</th>\n",
       "      <td>2.717085e+06</td>\n",
       "      <td>0.146264</td>\n",
       "      <td>36197.0</td>\n",
       "      <td>0.013322</td>\n",
       "      <td>0.621163</td>\n",
       "      <td>0.077752</td>\n",
       "    </tr>\n",
       "    <tr>\n",
       "      <th>citi</th>\n",
       "      <td>8.839260e+06</td>\n",
       "      <td>0.475830</td>\n",
       "      <td>48872.0</td>\n",
       "      <td>0.005529</td>\n",
       "      <td>-0.266119</td>\n",
       "      <td>0.029637</td>\n",
       "    </tr>\n",
       "    <tr>\n",
       "      <th>kohls</th>\n",
       "      <td>1.472367e+06</td>\n",
       "      <td>0.079260</td>\n",
       "      <td>12327.0</td>\n",
       "      <td>0.008372</td>\n",
       "      <td>0.151663</td>\n",
       "      <td>0.001966</td>\n",
       "    </tr>\n",
       "    <tr>\n",
       "      <th>synch</th>\n",
       "      <td>5.399607e+06</td>\n",
       "      <td>0.290668</td>\n",
       "      <td>36100.0</td>\n",
       "      <td>0.006686</td>\n",
       "      <td>-0.074990</td>\n",
       "      <td>0.001576</td>\n",
       "    </tr>\n",
       "    <tr>\n",
       "      <th>usba</th>\n",
       "      <td>1.482057e+05</td>\n",
       "      <td>0.007978</td>\n",
       "      <td>302.0</td>\n",
       "      <td>0.002038</td>\n",
       "      <td>-1.267799</td>\n",
       "      <td>0.007306</td>\n",
       "    </tr>\n",
       "    <tr>\n",
       "      <th>Missing</th>\n",
       "      <td>0.000000e+00</td>\n",
       "      <td>0.000000</td>\n",
       "      <td>0.0</td>\n",
       "      <td>0.000000</td>\n",
       "      <td>0.000000</td>\n",
       "      <td>0.000000</td>\n",
       "    </tr>\n",
       "    <tr>\n",
       "      <th>Total</th>\n",
       "      <td>1.857652e+07</td>\n",
       "      <td>1.000000</td>\n",
       "      <td>133798.0</td>\n",
       "      <td>0.007203</td>\n",
       "      <td>0.000000</td>\n",
       "      <td>0.118236</td>\n",
       "    </tr>\n",
       "  </tbody>\n",
       "</table>\n",
       "</div>"
      ],
      "text/plain": [
       "tag      imoc_synth_final                                                  \n",
       "stats                   N      PctN       Sum      Mean       WoE        IV\n",
       "client                                                                     \n",
       "alliance     2.717085e+06  0.146264   36197.0  0.013322  0.621163  0.077752\n",
       "citi         8.839260e+06  0.475830   48872.0  0.005529 -0.266119  0.029637\n",
       "kohls        1.472367e+06  0.079260   12327.0  0.008372  0.151663  0.001966\n",
       "synch        5.399607e+06  0.290668   36100.0  0.006686 -0.074990  0.001576\n",
       "usba         1.482057e+05  0.007978     302.0  0.002038 -1.267799  0.007306\n",
       "Missing      0.000000e+00  0.000000       0.0  0.000000  0.000000  0.000000\n",
       "Total        1.857652e+07  1.000000  133798.0  0.007203  0.000000  0.118236"
      ]
     },
     "execution_count": 21,
     "metadata": {},
     "output_type": "execute_result"
    }
   ],
   "source": [
    "bivariate(imoc.client, imoc.imoc_synth_final, sample_weight= imoc.std_weight)"
   ]
  },
  {
   "cell_type": "code",
   "execution_count": 22,
   "metadata": {},
   "outputs": [
    {
     "name": "stdout",
     "output_type": "stream",
     "text": [
      "(1410718, 40)\n"
     ]
    }
   ],
   "source": [
    "keep = [\"p_inpacct\", \"imoc_synth_final\", \"tag_synth\", \"tag_imoc\", \"std_weight\",'client', 'innovis_segment', \n",
    "        'coim', 'coim_reasoncode1', 'coim_reasoncode2', 'coim_reasoncode3', 'coim_reasoncode4', 'coim_reasoncode5',\n",
    "        'age_category', \"gender\", 'cfpb_race_estimate_80', \n",
    "        'Input_FirstName', 'Input_MiddleName', 'Input_LastName', 'Input_StreetAddress', 'Input_City', 'Input_State', 'Input_Zip', 'Input_HomePhone', 'Input_SSN',\n",
    "        'Input_DateOfBirth', 'Input_WorkPhone', 'Input_income', 'Input_DLNumber', 'Input_DLState', 'Input_BALANCE', 'Input_CHARGEOFFD', 'Input_FormerName',\n",
    "        'Input_EMAIL', 'Input_employername', 'Input_historydate', 'Input_IPAddress', 'Std_customer', 'Std_quickbase_project', 'Std_account_on_file',]\n",
    "imoc = imoc[keep]\n",
    "imoc = imoc[~imoc.client.isin([\"alliance\"])]\n",
    "print(imoc.shape)\n",
    "imoc.to_adls(\"Analytics/RnD Projects/Product RnD/Credit/202311-CRD-Model-Revalidations/Formatted_Files/Existing_score/IAG10/imoc_201908p_w_perf_1204_w_synth.parquet\",\n",
    "             overwrite = True)"
   ]
  },
  {
   "cell_type": "code",
   "execution_count": null,
   "metadata": {},
   "outputs": [],
   "source": []
  }
 ],
 "metadata": {
  "kernelspec": {
   "display_name": "data-science",
   "language": "python",
   "name": "python3"
  },
  "language_info": {
   "codemirror_mode": {
    "name": "ipython",
    "version": 3
   },
   "file_extension": ".py",
   "mimetype": "text/x-python",
   "name": "python",
   "nbconvert_exporter": "python",
   "pygments_lexer": "ipython3",
   "version": "3.10.6"
  }
 },
 "nbformat": 4,
 "nbformat_minor": 2
}
