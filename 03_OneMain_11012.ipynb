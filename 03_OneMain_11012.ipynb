{
 "cells": [
  {
   "cell_type": "code",
   "execution_count": 1,
   "metadata": {},
   "outputs": [],
   "source": [
    "import os\n",
    "os.environ[\"HTTPS_PROXY\"] = \"\"\n",
    "os.environ[\"HTTP_PROXY\"] = \"\""
   ]
  },
  {
   "cell_type": "code",
   "execution_count": 2,
   "metadata": {},
   "outputs": [],
   "source": [
    "import time\n",
    "import pandas as pd\n",
    "import numpy as np\n",
    "import math\n",
    "\n",
    "# internal tools\n",
    "from dsgtools.reporting import make_format\n",
    "from dsgtools.reporting import TableWriter\n",
    "from dsgtools.reporting import freq\n",
    "from dsgtools.reporting import bivariate\n",
    "\n",
    "import warnings\n",
    "warnings.filterwarnings('ignore')"
   ]
  },
  {
   "cell_type": "code",
   "execution_count": 16,
   "metadata": {},
   "outputs": [],
   "source": [
    "path = \"Analytics/Customer Projects/OneMain-proj 11012 (Fraud Intel, COIM, RVS, RVO, RV6 Attributes)/File from the Customer/LexisNexis_file.csv\""
   ]
  },
  {
   "cell_type": "code",
   "execution_count": 17,
   "metadata": {},
   "outputs": [
    {
     "name": "stdout",
     "output_type": "stream",
     "text": [
      "(1714348, 29)\n"
     ]
    }
   ],
   "source": [
    "from dsgtools import azure\n",
    "data = pd.read_adls(path, reader = pd.read_csv, dtype = str, encoding='iso-8859-1')\n",
    "print(data.shape)"
   ]
  },
  {
   "cell_type": "code",
   "execution_count": 19,
   "metadata": {},
   "outputs": [
    {
     "data": {
      "text/html": [
       "<div>\n",
       "<style scoped>\n",
       "    .dataframe tbody tr th:only-of-type {\n",
       "        vertical-align: middle;\n",
       "    }\n",
       "\n",
       "    .dataframe tbody tr th {\n",
       "        vertical-align: top;\n",
       "    }\n",
       "\n",
       "    .dataframe thead th {\n",
       "        text-align: right;\n",
       "    }\n",
       "</style>\n",
       "<table border=\"1\" class=\"dataframe\">\n",
       "  <thead>\n",
       "    <tr style=\"text-align: right;\">\n",
       "      <th></th>\n",
       "      <th>Count</th>\n",
       "      <th>Pct</th>\n",
       "      <th>Cuml Count</th>\n",
       "      <th>Cuml Pct</th>\n",
       "    </tr>\n",
       "    <tr>\n",
       "      <th>APPL_STAT</th>\n",
       "      <th></th>\n",
       "      <th></th>\n",
       "      <th></th>\n",
       "      <th></th>\n",
       "    </tr>\n",
       "  </thead>\n",
       "  <tbody>\n",
       "    <tr>\n",
       "      <th>AWTD</th>\n",
       "      <td>369934.0</td>\n",
       "      <td>0.215787</td>\n",
       "      <td>369934.0</td>\n",
       "      <td>0.215787</td>\n",
       "    </tr>\n",
       "    <tr>\n",
       "      <th>BOOK</th>\n",
       "      <td>281765.0</td>\n",
       "      <td>0.164357</td>\n",
       "      <td>651699.0</td>\n",
       "      <td>0.380144</td>\n",
       "    </tr>\n",
       "    <tr>\n",
       "      <th>DUP</th>\n",
       "      <td>87069.0</td>\n",
       "      <td>0.050788</td>\n",
       "      <td>738768.0</td>\n",
       "      <td>0.430932</td>\n",
       "    </tr>\n",
       "    <tr>\n",
       "      <th>PEND</th>\n",
       "      <td>41.0</td>\n",
       "      <td>0.000024</td>\n",
       "      <td>738809.0</td>\n",
       "      <td>0.430956</td>\n",
       "    </tr>\n",
       "    <tr>\n",
       "      <th>TUD</th>\n",
       "      <td>31092.0</td>\n",
       "      <td>0.018136</td>\n",
       "      <td>769901.0</td>\n",
       "      <td>0.449093</td>\n",
       "    </tr>\n",
       "    <tr>\n",
       "      <th>WTD</th>\n",
       "      <td>944447.0</td>\n",
       "      <td>0.550907</td>\n",
       "      <td>1714348.0</td>\n",
       "      <td>1.000000</td>\n",
       "    </tr>\n",
       "  </tbody>\n",
       "</table>\n",
       "</div>"
      ],
      "text/plain": [
       "              Count       Pct  Cuml Count  Cuml Pct\n",
       "APPL_STAT                                          \n",
       "AWTD       369934.0  0.215787    369934.0  0.215787\n",
       "BOOK       281765.0  0.164357    651699.0  0.380144\n",
       "DUP         87069.0  0.050788    738768.0  0.430932\n",
       "PEND           41.0  0.000024    738809.0  0.430956\n",
       "TUD         31092.0  0.018136    769901.0  0.449093\n",
       "WTD        944447.0  0.550907   1714348.0  1.000000"
      ]
     },
     "execution_count": 19,
     "metadata": {},
     "output_type": "execute_result"
    }
   ],
   "source": [
    "freq(data.APPL_STAT)"
   ]
  },
  {
   "cell_type": "code",
   "execution_count": 20,
   "metadata": {},
   "outputs": [
    {
     "data": {
      "text/html": [
       "<div>\n",
       "<style scoped>\n",
       "    .dataframe tbody tr th:only-of-type {\n",
       "        vertical-align: middle;\n",
       "    }\n",
       "\n",
       "    .dataframe tbody tr th {\n",
       "        vertical-align: top;\n",
       "    }\n",
       "\n",
       "    .dataframe thead th {\n",
       "        text-align: right;\n",
       "    }\n",
       "</style>\n",
       "<table border=\"1\" class=\"dataframe\">\n",
       "  <thead>\n",
       "    <tr style=\"text-align: right;\">\n",
       "      <th></th>\n",
       "      <th>Count</th>\n",
       "      <th>Pct</th>\n",
       "      <th>Cuml Count</th>\n",
       "      <th>Cuml Pct</th>\n",
       "    </tr>\n",
       "    <tr>\n",
       "      <th>sample_type</th>\n",
       "      <th></th>\n",
       "      <th></th>\n",
       "      <th></th>\n",
       "      <th></th>\n",
       "    </tr>\n",
       "  </thead>\n",
       "  <tbody>\n",
       "    <tr>\n",
       "      <th>random_sample_app</th>\n",
       "      <td>1705152.0</td>\n",
       "      <td>0.994636</td>\n",
       "      <td>1705152.0</td>\n",
       "      <td>0.994636</td>\n",
       "    </tr>\n",
       "    <tr>\n",
       "      <th>straight_roller</th>\n",
       "      <td>9196.0</td>\n",
       "      <td>0.005364</td>\n",
       "      <td>1714348.0</td>\n",
       "      <td>1.000000</td>\n",
       "    </tr>\n",
       "  </tbody>\n",
       "</table>\n",
       "</div>"
      ],
      "text/plain": [
       "                       Count       Pct  Cuml Count  Cuml Pct\n",
       "sample_type                                                 \n",
       "random_sample_app  1705152.0  0.994636   1705152.0  0.994636\n",
       "straight_roller       9196.0  0.005364   1714348.0  1.000000"
      ]
     },
     "execution_count": 20,
     "metadata": {},
     "output_type": "execute_result"
    }
   ],
   "source": [
    "freq(data.sample_type)"
   ]
  },
  {
   "cell_type": "code",
   "execution_count": 21,
   "metadata": {},
   "outputs": [
    {
     "name": "stdout",
     "output_type": "stream",
     "text": [
      "(1627279, 29)\n",
      "(1618083, 29)\n"
     ]
    },
    {
     "data": {
      "text/plain": [
       "True"
      ]
     },
     "execution_count": 21,
     "metadata": {},
     "output_type": "execute_result"
    }
   ],
   "source": [
    "data = data[data.APPL_STAT != \"DUP\"]\n",
    "print(data.shape)\n",
    "data = data[data.sample_type == \"random_sample_app\"]\n",
    "print(data.shape)\n",
    "data.APPL_KEY.is_unique"
   ]
  },
  {
   "cell_type": "markdown",
   "metadata": {},
   "source": [
    "## Overall File"
   ]
  },
  {
   "cell_type": "code",
   "execution_count": 22,
   "metadata": {},
   "outputs": [
    {
     "data": {
      "text/plain": [
       "P_NM_FRST                     2\n",
       "P_NM_LST                     34\n",
       "P_ADR_LINE1                3767\n",
       "P_ADR_LINE2             1520862\n",
       "P_ADR_CITY                    5\n",
       "P_ADR_ST                      5\n",
       "P_ADR_ZIP                     1\n",
       "P_ADR_ZIP4                93340\n",
       "SSN                           0\n",
       "P_BIRTH_DT                   10\n",
       "primary_phone_number     374208\n",
       "dtype: int64"
      ]
     },
     "execution_count": 22,
     "metadata": {},
     "output_type": "execute_result"
    }
   ],
   "source": [
    "data[['P_NM_FRST', 'P_NM_LST', 'P_ADR_LINE1', 'P_ADR_LINE2', 'P_ADR_CITY', 'P_ADR_ST', \"P_ADR_ZIP\", \"P_ADR_ZIP4\", 'SSN', 'P_BIRTH_DT', 'primary_phone_number']].isnull().sum()"
   ]
  },
  {
   "cell_type": "code",
   "execution_count": 23,
   "metadata": {},
   "outputs": [
    {
     "data": {
      "text/html": [
       "<div>\n",
       "<style scoped>\n",
       "    .dataframe tbody tr th:only-of-type {\n",
       "        vertical-align: middle;\n",
       "    }\n",
       "\n",
       "    .dataframe tbody tr th {\n",
       "        vertical-align: top;\n",
       "    }\n",
       "\n",
       "    .dataframe thead th {\n",
       "        text-align: right;\n",
       "    }\n",
       "</style>\n",
       "<table border=\"1\" class=\"dataframe\">\n",
       "  <thead>\n",
       "    <tr style=\"text-align: right;\">\n",
       "      <th></th>\n",
       "      <th>Count</th>\n",
       "      <th>Pct</th>\n",
       "      <th>Cuml Count</th>\n",
       "      <th>Cuml Pct</th>\n",
       "    </tr>\n",
       "    <tr>\n",
       "      <th>sufficient_input</th>\n",
       "      <th></th>\n",
       "      <th></th>\n",
       "      <th></th>\n",
       "      <th></th>\n",
       "    </tr>\n",
       "  </thead>\n",
       "  <tbody>\n",
       "    <tr>\n",
       "      <th>0</th>\n",
       "      <td>36.0</td>\n",
       "      <td>0.000022</td>\n",
       "      <td>36.0</td>\n",
       "      <td>0.000022</td>\n",
       "    </tr>\n",
       "    <tr>\n",
       "      <th>1</th>\n",
       "      <td>1618047.0</td>\n",
       "      <td>0.999978</td>\n",
       "      <td>1618083.0</td>\n",
       "      <td>1.000000</td>\n",
       "    </tr>\n",
       "  </tbody>\n",
       "</table>\n",
       "</div>"
      ],
      "text/plain": [
       "                      Count       Pct  Cuml Count  Cuml Pct\n",
       "sufficient_input                                           \n",
       "0                      36.0  0.000022        36.0  0.000022\n",
       "1                 1618047.0  0.999978   1618083.0  1.000000"
      ]
     },
     "execution_count": 23,
     "metadata": {},
     "output_type": "execute_result"
    }
   ],
   "source": [
    "data[\"address\"] = np.where(data.P_ADR_LINE1.notnull(), np.where(data.P_ADR_LINE2.notnull(), data.P_ADR_LINE1 + \" \" + data.P_ADR_LINE2, data.P_ADR_LINE1), data.P_ADR_LINE1)\n",
    "data[\"zip\"] = np.where(data.P_ADR_ZIP.notnull(), np.where(data.P_ADR_ZIP4.notnull(), data.P_ADR_ZIP + data.P_ADR_ZIP4, data.P_ADR_ZIP), data.P_ADR_ZIP)\n",
    "Input_FirstName = \"P_NM_FRST\"\n",
    "Input_LastName = \"P_NM_LST\"\n",
    "Input_StreetAddress = \"address\"\n",
    "Input_City = \"P_ADR_CITY\"\n",
    "Input_State = \"P_ADR_ST\"\n",
    "Input_Zip = \"zip\"\n",
    "Input_SSN = \"SSN\"\n",
    "\n",
    "data[\"sufficient_input\"] = np.where((data[Input_FirstName].notnull() & data[Input_LastName].notnull() & data[Input_StreetAddress].notnull() & data[Input_Zip].notnull()) | \\\n",
    "             (data[Input_FirstName].notnull() & data[Input_LastName].notnull() & data[Input_StreetAddress].notnull() & data[Input_City].notnull() & data[Input_State].notnull()) | \\\n",
    "             (data[Input_FirstName].notnull() & data[Input_LastName].notnull() & data[Input_SSN].notnull()), 1, 0)\n",
    "freq(data[\"sufficient_input\"])"
   ]
  },
  {
   "cell_type": "code",
   "execution_count": 25,
   "metadata": {},
   "outputs": [
    {
     "data": {
      "text/html": [
       "<div>\n",
       "<style scoped>\n",
       "    .dataframe tbody tr th:only-of-type {\n",
       "        vertical-align: middle;\n",
       "    }\n",
       "\n",
       "    .dataframe tbody tr th {\n",
       "        vertical-align: top;\n",
       "    }\n",
       "\n",
       "    .dataframe thead th {\n",
       "        text-align: right;\n",
       "    }\n",
       "</style>\n",
       "<table border=\"1\" class=\"dataframe\">\n",
       "  <thead>\n",
       "    <tr style=\"text-align: right;\">\n",
       "      <th></th>\n",
       "      <th>Count</th>\n",
       "      <th>Pct</th>\n",
       "      <th>Cuml Count</th>\n",
       "      <th>Cuml Pct</th>\n",
       "    </tr>\n",
       "    <tr>\n",
       "      <th>APPDATETIME_fmt_F</th>\n",
       "      <th></th>\n",
       "      <th></th>\n",
       "      <th></th>\n",
       "      <th></th>\n",
       "    </tr>\n",
       "  </thead>\n",
       "  <tbody>\n",
       "    <tr>\n",
       "      <th>202106</th>\n",
       "      <td>534383.0</td>\n",
       "      <td>0.330264</td>\n",
       "      <td>534383.0</td>\n",
       "      <td>0.330264</td>\n",
       "    </tr>\n",
       "    <tr>\n",
       "      <th>202107</th>\n",
       "      <td>547459.0</td>\n",
       "      <td>0.338346</td>\n",
       "      <td>1081842.0</td>\n",
       "      <td>0.668610</td>\n",
       "    </tr>\n",
       "    <tr>\n",
       "      <th>202108</th>\n",
       "      <td>536205.0</td>\n",
       "      <td>0.331390</td>\n",
       "      <td>1618047.0</td>\n",
       "      <td>1.000000</td>\n",
       "    </tr>\n",
       "  </tbody>\n",
       "</table>\n",
       "</div>"
      ],
      "text/plain": [
       "                      Count       Pct  Cuml Count  Cuml Pct\n",
       "APPDATETIME_fmt_F                                          \n",
       "202106             534383.0  0.330264    534383.0  0.330264\n",
       "202107             547459.0  0.338346   1081842.0  0.668610\n",
       "202108             536205.0  0.331390   1618047.0  1.000000"
      ]
     },
     "execution_count": 25,
     "metadata": {},
     "output_type": "execute_result"
    }
   ],
   "source": [
    "data = data[data[\"sufficient_input\"] == 1]\n",
    "from datetime import datetime\n",
    "data[\"APPDATETIME_fmt\"] = pd.to_datetime(data.APPL_ENTRY_DT.str.slice(0,9))\n",
    "data[\"APPDATETIME_fmt_F\"] = data['APPDATETIME_fmt'].astype(str).str.slice(0,4) + data['APPDATETIME_fmt'].astype(str).str.slice(5,7)\n",
    "data[\"APPDATETIME_fmt_F_dt\"] = data['APPDATETIME_fmt'].astype(str).str.slice(0,4) + data['APPDATETIME_fmt'].astype(str).str.slice(5,7) + data['APPDATETIME_fmt'].astype(str).str.slice(8,10)\n",
    "freq(data[\"APPDATETIME_fmt_F\"] )"
   ]
  },
  {
   "cell_type": "code",
   "execution_count": 26,
   "metadata": {},
   "outputs": [
    {
     "data": {
      "text/html": [
       "<div>\n",
       "<style scoped>\n",
       "    .dataframe tbody tr th:only-of-type {\n",
       "        vertical-align: middle;\n",
       "    }\n",
       "\n",
       "    .dataframe tbody tr th {\n",
       "        vertical-align: top;\n",
       "    }\n",
       "\n",
       "    .dataframe thead th {\n",
       "        text-align: right;\n",
       "    }\n",
       "</style>\n",
       "<table border=\"1\" class=\"dataframe\">\n",
       "  <thead>\n",
       "    <tr style=\"text-align: right;\">\n",
       "      <th></th>\n",
       "      <th>Count</th>\n",
       "      <th>Pct</th>\n",
       "      <th>Cuml Count</th>\n",
       "      <th>Cuml Pct</th>\n",
       "    </tr>\n",
       "    <tr>\n",
       "      <th>delinquent_60at6_ind</th>\n",
       "      <th></th>\n",
       "      <th></th>\n",
       "      <th></th>\n",
       "      <th></th>\n",
       "    </tr>\n",
       "  </thead>\n",
       "  <tbody>\n",
       "    <tr>\n",
       "      <th>N</th>\n",
       "      <td>256466.0</td>\n",
       "      <td>0.158503</td>\n",
       "      <td>256466.0</td>\n",
       "      <td>0.158503</td>\n",
       "    </tr>\n",
       "    <tr>\n",
       "      <th>Y</th>\n",
       "      <td>14123.0</td>\n",
       "      <td>0.008728</td>\n",
       "      <td>270589.0</td>\n",
       "      <td>0.167232</td>\n",
       "    </tr>\n",
       "    <tr>\n",
       "      <th>Missing</th>\n",
       "      <td>1347458.0</td>\n",
       "      <td>0.832768</td>\n",
       "      <td>1618047.0</td>\n",
       "      <td>1.000000</td>\n",
       "    </tr>\n",
       "  </tbody>\n",
       "</table>\n",
       "</div>"
      ],
      "text/plain": [
       "                          Count       Pct  Cuml Count  Cuml Pct\n",
       "delinquent_60at6_ind                                           \n",
       "N                      256466.0  0.158503    256466.0  0.158503\n",
       "Y                       14123.0  0.008728    270589.0  0.167232\n",
       "Missing               1347458.0  0.832768   1618047.0  1.000000"
      ]
     },
     "execution_count": 26,
     "metadata": {},
     "output_type": "execute_result"
    }
   ],
   "source": [
    "freq(data.delinquent_60at6_ind)"
   ]
  },
  {
   "cell_type": "code",
   "execution_count": 28,
   "metadata": {},
   "outputs": [
    {
     "data": {
      "text/html": [
       "<div>\n",
       "<style scoped>\n",
       "    .dataframe tbody tr th:only-of-type {\n",
       "        vertical-align: middle;\n",
       "    }\n",
       "\n",
       "    .dataframe tbody tr th {\n",
       "        vertical-align: top;\n",
       "    }\n",
       "\n",
       "    .dataframe thead th {\n",
       "        text-align: right;\n",
       "    }\n",
       "</style>\n",
       "<table border=\"1\" class=\"dataframe\">\n",
       "  <thead>\n",
       "    <tr style=\"text-align: right;\">\n",
       "      <th></th>\n",
       "      <th>Count</th>\n",
       "      <th>Pct</th>\n",
       "      <th>Cuml Count</th>\n",
       "      <th>Cuml Pct</th>\n",
       "    </tr>\n",
       "    <tr>\n",
       "      <th>delinquent_60at6_ind_fmt</th>\n",
       "      <th></th>\n",
       "      <th></th>\n",
       "      <th></th>\n",
       "      <th></th>\n",
       "    </tr>\n",
       "  </thead>\n",
       "  <tbody>\n",
       "    <tr>\n",
       "      <th>-1</th>\n",
       "      <td>1347458.0</td>\n",
       "      <td>0.832768</td>\n",
       "      <td>1347458.0</td>\n",
       "      <td>0.832768</td>\n",
       "    </tr>\n",
       "    <tr>\n",
       "      <th>0</th>\n",
       "      <td>256466.0</td>\n",
       "      <td>0.158503</td>\n",
       "      <td>1603924.0</td>\n",
       "      <td>0.991272</td>\n",
       "    </tr>\n",
       "    <tr>\n",
       "      <th>1</th>\n",
       "      <td>14123.0</td>\n",
       "      <td>0.008728</td>\n",
       "      <td>1618047.0</td>\n",
       "      <td>1.000000</td>\n",
       "    </tr>\n",
       "  </tbody>\n",
       "</table>\n",
       "</div>"
      ],
      "text/plain": [
       "                              Count       Pct  Cuml Count  Cuml Pct\n",
       "delinquent_60at6_ind_fmt                                           \n",
       "-1                        1347458.0  0.832768   1347458.0  0.832768\n",
       "0                          256466.0  0.158503   1603924.0  0.991272\n",
       "1                           14123.0  0.008728   1618047.0  1.000000"
      ]
     },
     "execution_count": 28,
     "metadata": {},
     "output_type": "execute_result"
    }
   ],
   "source": [
    "data[\"delinquent_60at6_ind_fmt\"] = np.where(data.delinquent_60at6_ind.isnull(), -1, np.where(data.delinquent_60at6_ind  == \"Y\", 1, 0))\n",
    "freq(data.delinquent_60at6_ind_fmt)"
   ]
  },
  {
   "cell_type": "code",
   "execution_count": 29,
   "metadata": {},
   "outputs": [
    {
     "name": "stdout",
     "output_type": "stream",
     "text": [
      "(1618047, 36)\n",
      "(1574646, 36)\n"
     ]
    }
   ],
   "source": [
    "data = data.sort_values(by = ['P_NM_FRST', 'P_NM_LST', 'address', 'P_ADR_CITY', 'P_ADR_ST', \"zip\", 'SSN', 'P_BIRTH_DT', 'primary_phone_number',\n",
    "                              'APPDATETIME_fmt_F_dt', 'delinquent_60at6_ind_fmt'], ascending = False)\n",
    "print(data.shape)\n",
    "data = data.drop_duplicates(subset = ['P_NM_FRST', 'P_NM_LST', 'address', 'P_ADR_CITY', 'P_ADR_ST', \"zip\", 'SSN', 'P_BIRTH_DT', 'primary_phone_number',\n",
    "                              'APPDATETIME_fmt_F_dt',], keep = \"first\")\n",
    "print(data.shape)"
   ]
  },
  {
   "cell_type": "code",
   "execution_count": 30,
   "metadata": {},
   "outputs": [
    {
     "data": {
      "text/plain": [
       "-43401"
      ]
     },
     "execution_count": 30,
     "metadata": {},
     "output_type": "execute_result"
    }
   ],
   "source": [
    "1574646-1618047"
   ]
  },
  {
   "cell_type": "code",
   "execution_count": 8,
   "metadata": {},
   "outputs": [],
   "source": [
    "data.to_adls(\"Analytics/RnD Projects/Product RnD/Credit/202311-CRD-Model-Revalidations/Formatted_Files/Full_sample_formatted_w_flags/ready_to_be_formatted/OneMain_11012_full_file.parquet\",\n",
    "             overwrite = True)"
   ]
  },
  {
   "cell_type": "code",
   "execution_count": 3,
   "metadata": {},
   "outputs": [
    {
     "name": "stdout",
     "output_type": "stream",
     "text": [
      "(1574646, 36)\n"
     ]
    }
   ],
   "source": [
    "from dsgtools import azure\n",
    "data = pd.read_adls(\"Analytics/RnD Projects/Product RnD/Credit/202311-CRD-Model-Revalidations/Formatted_Files/Full_sample_formatted_w_flags/ready_to_be_formatted/OneMain_11012_full_file.parquet\",)\n",
    "print(data.shape)"
   ]
  },
  {
   "cell_type": "code",
   "execution_count": 5,
   "metadata": {},
   "outputs": [],
   "source": [
    "from datetime import datetime\n",
    "data[\"P_BIRTH_DT_fmt\"] = pd.to_datetime(data.P_BIRTH_DT.str.slice(0,9), errors = 'coerce', format = \"%d%b%Y\")\n",
    "data[\"P_BIRTH_DT_fmt_dt\"] = data['P_BIRTH_DT_fmt'].astype(str).str.slice(0,4) + data['P_BIRTH_DT_fmt'].astype(str).str.slice(5,7) + data['P_BIRTH_DT_fmt'].astype(str).str.slice(8,10)"
   ]
  },
  {
   "cell_type": "code",
   "execution_count": 7,
   "metadata": {},
   "outputs": [
    {
     "data": {
      "text/html": [
       "<div>\n",
       "<style scoped>\n",
       "    .dataframe tbody tr th:only-of-type {\n",
       "        vertical-align: middle;\n",
       "    }\n",
       "\n",
       "    .dataframe tbody tr th {\n",
       "        vertical-align: top;\n",
       "    }\n",
       "\n",
       "    .dataframe thead th {\n",
       "        text-align: right;\n",
       "    }\n",
       "</style>\n",
       "<table border=\"1\" class=\"dataframe\">\n",
       "  <thead>\n",
       "    <tr style=\"text-align: right;\">\n",
       "      <th></th>\n",
       "      <th>P_BIRTH_DT</th>\n",
       "      <th>P_BIRTH_DT_fmt</th>\n",
       "      <th>P_BIRTH_DT_fmt_dt</th>\n",
       "    </tr>\n",
       "  </thead>\n",
       "  <tbody>\n",
       "    <tr>\n",
       "      <th>1355671</th>\n",
       "      <td>26MAR1979</td>\n",
       "      <td>1979-03-26</td>\n",
       "      <td>19790326</td>\n",
       "    </tr>\n",
       "    <tr>\n",
       "      <th>1693312</th>\n",
       "      <td>10SEP1996</td>\n",
       "      <td>1996-09-10</td>\n",
       "      <td>19960910</td>\n",
       "    </tr>\n",
       "    <tr>\n",
       "      <th>982999</th>\n",
       "      <td>29APR1993</td>\n",
       "      <td>1993-04-29</td>\n",
       "      <td>19930429</td>\n",
       "    </tr>\n",
       "    <tr>\n",
       "      <th>649753</th>\n",
       "      <td>03JUN1993</td>\n",
       "      <td>1993-06-03</td>\n",
       "      <td>19930603</td>\n",
       "    </tr>\n",
       "    <tr>\n",
       "      <th>1617438</th>\n",
       "      <td>23MAY1998</td>\n",
       "      <td>1998-05-23</td>\n",
       "      <td>19980523</td>\n",
       "    </tr>\n",
       "  </tbody>\n",
       "</table>\n",
       "</div>"
      ],
      "text/plain": [
       "        P_BIRTH_DT P_BIRTH_DT_fmt P_BIRTH_DT_fmt_dt\n",
       "1355671  26MAR1979     1979-03-26          19790326\n",
       "1693312  10SEP1996     1996-09-10          19960910\n",
       "982999   29APR1993     1993-04-29          19930429\n",
       "649753   03JUN1993     1993-06-03          19930603\n",
       "1617438  23MAY1998     1998-05-23          19980523"
      ]
     },
     "execution_count": 7,
     "metadata": {},
     "output_type": "execute_result"
    }
   ],
   "source": [
    "data[['P_BIRTH_DT', \"P_BIRTH_DT_fmt\", \"P_BIRTH_DT_fmt_dt\"]].head()"
   ]
  },
  {
   "cell_type": "markdown",
   "metadata": {},
   "source": [
    "## Sample for validation"
   ]
  },
  {
   "cell_type": "code",
   "execution_count": 9,
   "metadata": {},
   "outputs": [
    {
     "name": "stdout",
     "output_type": "stream",
     "text": [
      "(272536, 38)\n"
     ]
    },
    {
     "data": {
      "text/html": [
       "<div>\n",
       "<style scoped>\n",
       "    .dataframe tbody tr th:only-of-type {\n",
       "        vertical-align: middle;\n",
       "    }\n",
       "\n",
       "    .dataframe tbody tr th {\n",
       "        vertical-align: top;\n",
       "    }\n",
       "\n",
       "    .dataframe thead th {\n",
       "        text-align: right;\n",
       "    }\n",
       "</style>\n",
       "<table border=\"1\" class=\"dataframe\">\n",
       "  <thead>\n",
       "    <tr style=\"text-align: right;\">\n",
       "      <th></th>\n",
       "      <th>Count</th>\n",
       "      <th>Pct</th>\n",
       "      <th>Cuml Count</th>\n",
       "      <th>Cuml Pct</th>\n",
       "    </tr>\n",
       "    <tr>\n",
       "      <th>FRAUD_IND</th>\n",
       "      <th></th>\n",
       "      <th></th>\n",
       "      <th></th>\n",
       "      <th></th>\n",
       "    </tr>\n",
       "  </thead>\n",
       "  <tbody>\n",
       "    <tr>\n",
       "      <th>0</th>\n",
       "      <td>272509.0</td>\n",
       "      <td>0.999901</td>\n",
       "      <td>272509.0</td>\n",
       "      <td>0.999901</td>\n",
       "    </tr>\n",
       "    <tr>\n",
       "      <th>1</th>\n",
       "      <td>27.0</td>\n",
       "      <td>0.000099</td>\n",
       "      <td>272536.0</td>\n",
       "      <td>1.000000</td>\n",
       "    </tr>\n",
       "  </tbody>\n",
       "</table>\n",
       "</div>"
      ],
      "text/plain": [
       "              Count       Pct  Cuml Count  Cuml Pct\n",
       "FRAUD_IND                                          \n",
       "0          272509.0  0.999901    272509.0  0.999901\n",
       "1              27.0  0.000099    272536.0  1.000000"
      ]
     },
     "execution_count": 9,
     "metadata": {},
     "output_type": "execute_result"
    }
   ],
   "source": [
    "data = data[data.APPL_STAT == \"BOOK\"]\n",
    "print(data.shape)\n",
    "freq(data.FRAUD_IND)"
   ]
  },
  {
   "cell_type": "code",
   "execution_count": 10,
   "metadata": {},
   "outputs": [
    {
     "data": {
      "text/html": [
       "<div>\n",
       "<style scoped>\n",
       "    .dataframe tbody tr th:only-of-type {\n",
       "        vertical-align: middle;\n",
       "    }\n",
       "\n",
       "    .dataframe tbody tr th {\n",
       "        vertical-align: top;\n",
       "    }\n",
       "\n",
       "    .dataframe thead th {\n",
       "        text-align: right;\n",
       "    }\n",
       "</style>\n",
       "<table border=\"1\" class=\"dataframe\">\n",
       "  <thead>\n",
       "    <tr style=\"text-align: right;\">\n",
       "      <th></th>\n",
       "      <th>Count</th>\n",
       "      <th>Pct</th>\n",
       "      <th>Cuml Count</th>\n",
       "      <th>Cuml Pct</th>\n",
       "    </tr>\n",
       "    <tr>\n",
       "      <th>delinquent_60at6_ind_fmt</th>\n",
       "      <th></th>\n",
       "      <th></th>\n",
       "      <th></th>\n",
       "      <th></th>\n",
       "    </tr>\n",
       "  </thead>\n",
       "  <tbody>\n",
       "    <tr>\n",
       "      <th>-1</th>\n",
       "      <td>1952.0</td>\n",
       "      <td>0.007163</td>\n",
       "      <td>1952.0</td>\n",
       "      <td>0.007163</td>\n",
       "    </tr>\n",
       "    <tr>\n",
       "      <th>0</th>\n",
       "      <td>256442.0</td>\n",
       "      <td>0.941040</td>\n",
       "      <td>258394.0</td>\n",
       "      <td>0.948204</td>\n",
       "    </tr>\n",
       "    <tr>\n",
       "      <th>1</th>\n",
       "      <td>14115.0</td>\n",
       "      <td>0.051796</td>\n",
       "      <td>272509.0</td>\n",
       "      <td>1.000000</td>\n",
       "    </tr>\n",
       "  </tbody>\n",
       "</table>\n",
       "</div>"
      ],
      "text/plain": [
       "                             Count       Pct  Cuml Count  Cuml Pct\n",
       "delinquent_60at6_ind_fmt                                          \n",
       "-1                          1952.0  0.007163      1952.0  0.007163\n",
       "0                         256442.0  0.941040    258394.0  0.948204\n",
       "1                          14115.0  0.051796    272509.0  1.000000"
      ]
     },
     "execution_count": 10,
     "metadata": {},
     "output_type": "execute_result"
    }
   ],
   "source": [
    "data = data[data.FRAUD_IND == \"0\"]\n",
    "freq(data.delinquent_60at6_ind_fmt)"
   ]
  },
  {
   "cell_type": "code",
   "execution_count": 11,
   "metadata": {},
   "outputs": [
    {
     "name": "stdout",
     "output_type": "stream",
     "text": [
      "(270557, 38)\n"
     ]
    }
   ],
   "source": [
    "data = data[data.delinquent_60at6_ind_fmt !=-1]\n",
    "print(data.shape)"
   ]
  },
  {
   "cell_type": "code",
   "execution_count": 12,
   "metadata": {},
   "outputs": [
    {
     "data": {
      "text/html": [
       "<div>\n",
       "<style scoped>\n",
       "    .dataframe tbody tr th:only-of-type {\n",
       "        vertical-align: middle;\n",
       "    }\n",
       "\n",
       "    .dataframe tbody tr th {\n",
       "        vertical-align: top;\n",
       "    }\n",
       "\n",
       "    .dataframe thead tr th {\n",
       "        text-align: left;\n",
       "    }\n",
       "\n",
       "    .dataframe thead tr:last-of-type th {\n",
       "        text-align: right;\n",
       "    }\n",
       "</style>\n",
       "<table border=\"1\" class=\"dataframe\">\n",
       "  <thead>\n",
       "    <tr>\n",
       "      <th>tag</th>\n",
       "      <th colspan=\"6\" halign=\"left\">delinquent_60at6_ind_fmt</th>\n",
       "    </tr>\n",
       "    <tr>\n",
       "      <th>stats</th>\n",
       "      <th>N</th>\n",
       "      <th>PctN</th>\n",
       "      <th>Sum</th>\n",
       "      <th>Mean</th>\n",
       "      <th>WoE</th>\n",
       "      <th>IV</th>\n",
       "    </tr>\n",
       "    <tr>\n",
       "      <th>customer_credit_risk_grade</th>\n",
       "      <th></th>\n",
       "      <th></th>\n",
       "      <th></th>\n",
       "      <th></th>\n",
       "      <th></th>\n",
       "      <th></th>\n",
       "    </tr>\n",
       "  </thead>\n",
       "  <tbody>\n",
       "    <tr>\n",
       "      <th>A</th>\n",
       "      <td>83942.0</td>\n",
       "      <td>0.310256</td>\n",
       "      <td>4023.0</td>\n",
       "      <td>0.047926</td>\n",
       "      <td>-0.089355</td>\n",
       "      <td>0.002380</td>\n",
       "    </tr>\n",
       "    <tr>\n",
       "      <th>B</th>\n",
       "      <td>79016.0</td>\n",
       "      <td>0.292049</td>\n",
       "      <td>6631.0</td>\n",
       "      <td>0.083920</td>\n",
       "      <td>0.509388</td>\n",
       "      <td>0.095511</td>\n",
       "    </tr>\n",
       "    <tr>\n",
       "      <th>C</th>\n",
       "      <td>31028.0</td>\n",
       "      <td>0.114682</td>\n",
       "      <td>2381.0</td>\n",
       "      <td>0.076737</td>\n",
       "      <td>0.412103</td>\n",
       "      <td>0.023478</td>\n",
       "    </tr>\n",
       "    <tr>\n",
       "      <th>D</th>\n",
       "      <td>201.0</td>\n",
       "      <td>0.000743</td>\n",
       "      <td>27.0</td>\n",
       "      <td>0.134328</td>\n",
       "      <td>1.036413</td>\n",
       "      <td>0.001279</td>\n",
       "    </tr>\n",
       "    <tr>\n",
       "      <th>P</th>\n",
       "      <td>37118.0</td>\n",
       "      <td>0.137191</td>\n",
       "      <td>752.0</td>\n",
       "      <td>0.020260</td>\n",
       "      <td>-0.979022</td>\n",
       "      <td>0.086678</td>\n",
       "    </tr>\n",
       "    <tr>\n",
       "      <th>S</th>\n",
       "      <td>39252.0</td>\n",
       "      <td>0.145078</td>\n",
       "      <td>301.0</td>\n",
       "      <td>0.007668</td>\n",
       "      <td>-1.963318</td>\n",
       "      <td>0.256342</td>\n",
       "    </tr>\n",
       "    <tr>\n",
       "      <th>Missing</th>\n",
       "      <td>0.0</td>\n",
       "      <td>0.000000</td>\n",
       "      <td>0.0</td>\n",
       "      <td>0.000000</td>\n",
       "      <td>0.000000</td>\n",
       "      <td>0.000000</td>\n",
       "    </tr>\n",
       "    <tr>\n",
       "      <th>Total</th>\n",
       "      <td>270557.0</td>\n",
       "      <td>1.000000</td>\n",
       "      <td>14115.0</td>\n",
       "      <td>0.052170</td>\n",
       "      <td>0.000000</td>\n",
       "      <td>0.465668</td>\n",
       "    </tr>\n",
       "  </tbody>\n",
       "</table>\n",
       "</div>"
      ],
      "text/plain": [
       "tag                        delinquent_60at6_ind_fmt                     \\\n",
       "stats                                             N      PctN      Sum   \n",
       "customer_credit_risk_grade                                               \n",
       "A                                           83942.0  0.310256   4023.0   \n",
       "B                                           79016.0  0.292049   6631.0   \n",
       "C                                           31028.0  0.114682   2381.0   \n",
       "D                                             201.0  0.000743     27.0   \n",
       "P                                           37118.0  0.137191    752.0   \n",
       "S                                           39252.0  0.145078    301.0   \n",
       "Missing                                         0.0  0.000000      0.0   \n",
       "Total                                      270557.0  1.000000  14115.0   \n",
       "\n",
       "tag                                                       \n",
       "stats                           Mean       WoE        IV  \n",
       "customer_credit_risk_grade                                \n",
       "A                           0.047926 -0.089355  0.002380  \n",
       "B                           0.083920  0.509388  0.095511  \n",
       "C                           0.076737  0.412103  0.023478  \n",
       "D                           0.134328  1.036413  0.001279  \n",
       "P                           0.020260 -0.979022  0.086678  \n",
       "S                           0.007668 -1.963318  0.256342  \n",
       "Missing                     0.000000  0.000000  0.000000  \n",
       "Total                       0.052170  0.000000  0.465668  "
      ]
     },
     "execution_count": 12,
     "metadata": {},
     "output_type": "execute_result"
    }
   ],
   "source": [
    "# customer_credit_risk_grade\n",
    "bivariate(data[\"customer_credit_risk_grade\"], data.delinquent_60at6_ind_fmt)"
   ]
  },
  {
   "cell_type": "code",
   "execution_count": 13,
   "metadata": {},
   "outputs": [
    {
     "data": {
      "text/html": [
       "<div>\n",
       "<style scoped>\n",
       "    .dataframe tbody tr th:only-of-type {\n",
       "        vertical-align: middle;\n",
       "    }\n",
       "\n",
       "    .dataframe tbody tr th {\n",
       "        vertical-align: top;\n",
       "    }\n",
       "\n",
       "    .dataframe thead tr th {\n",
       "        text-align: left;\n",
       "    }\n",
       "\n",
       "    .dataframe thead tr:last-of-type th {\n",
       "        text-align: right;\n",
       "    }\n",
       "</style>\n",
       "<table border=\"1\" class=\"dataframe\">\n",
       "  <thead>\n",
       "    <tr>\n",
       "      <th>tag</th>\n",
       "      <th colspan=\"6\" halign=\"left\">delinquent_60at6_ind_fmt</th>\n",
       "    </tr>\n",
       "    <tr>\n",
       "      <th>stats</th>\n",
       "      <th>N</th>\n",
       "      <th>PctN</th>\n",
       "      <th>Sum</th>\n",
       "      <th>Mean</th>\n",
       "      <th>WoE</th>\n",
       "      <th>IV</th>\n",
       "    </tr>\n",
       "    <tr>\n",
       "      <th>APPDATETIME_fmt_F</th>\n",
       "      <th></th>\n",
       "      <th></th>\n",
       "      <th></th>\n",
       "      <th></th>\n",
       "      <th></th>\n",
       "      <th></th>\n",
       "    </tr>\n",
       "  </thead>\n",
       "  <tbody>\n",
       "    <tr>\n",
       "      <th>202106</th>\n",
       "      <td>95763.0</td>\n",
       "      <td>0.353948</td>\n",
       "      <td>4984.0</td>\n",
       "      <td>0.052045</td>\n",
       "      <td>-0.002564</td>\n",
       "      <td>0.000002</td>\n",
       "    </tr>\n",
       "    <tr>\n",
       "      <th>202107</th>\n",
       "      <td>90928.0</td>\n",
       "      <td>0.336077</td>\n",
       "      <td>4899.0</td>\n",
       "      <td>0.053878</td>\n",
       "      <td>0.033978</td>\n",
       "      <td>0.000394</td>\n",
       "    </tr>\n",
       "    <tr>\n",
       "      <th>202108</th>\n",
       "      <td>83866.0</td>\n",
       "      <td>0.309975</td>\n",
       "      <td>4232.0</td>\n",
       "      <td>0.050461</td>\n",
       "      <td>-0.035135</td>\n",
       "      <td>0.000377</td>\n",
       "    </tr>\n",
       "    <tr>\n",
       "      <th>Missing</th>\n",
       "      <td>0.0</td>\n",
       "      <td>0.000000</td>\n",
       "      <td>0.0</td>\n",
       "      <td>0.000000</td>\n",
       "      <td>0.000000</td>\n",
       "      <td>0.000000</td>\n",
       "    </tr>\n",
       "    <tr>\n",
       "      <th>Total</th>\n",
       "      <td>270557.0</td>\n",
       "      <td>1.000000</td>\n",
       "      <td>14115.0</td>\n",
       "      <td>0.052170</td>\n",
       "      <td>0.000000</td>\n",
       "      <td>0.000773</td>\n",
       "    </tr>\n",
       "  </tbody>\n",
       "</table>\n",
       "</div>"
      ],
      "text/plain": [
       "tag               delinquent_60at6_ind_fmt                               \\\n",
       "stats                                    N      PctN      Sum      Mean   \n",
       "APPDATETIME_fmt_F                                                         \n",
       "202106                             95763.0  0.353948   4984.0  0.052045   \n",
       "202107                             90928.0  0.336077   4899.0  0.053878   \n",
       "202108                             83866.0  0.309975   4232.0  0.050461   \n",
       "Missing                                0.0  0.000000      0.0  0.000000   \n",
       "Total                             270557.0  1.000000  14115.0  0.052170   \n",
       "\n",
       "tag                                    \n",
       "stats                   WoE        IV  \n",
       "APPDATETIME_fmt_F                      \n",
       "202106            -0.002564  0.000002  \n",
       "202107             0.033978  0.000394  \n",
       "202108            -0.035135  0.000377  \n",
       "Missing            0.000000  0.000000  \n",
       "Total              0.000000  0.000773  "
      ]
     },
     "execution_count": 13,
     "metadata": {},
     "output_type": "execute_result"
    }
   ],
   "source": [
    "bivariate(data[\"APPDATETIME_fmt_F\"], data.delinquent_60at6_ind_fmt)"
   ]
  },
  {
   "cell_type": "code",
   "execution_count": 14,
   "metadata": {},
   "outputs": [
    {
     "name": "stdout",
     "output_type": "stream",
     "text": [
      "(194187, 38)\n"
     ]
    }
   ],
   "source": [
    "data = data[~data.customer_credit_risk_grade.isin([\"P\", \"S\"])]\n",
    "print(data.shape)"
   ]
  },
  {
   "cell_type": "code",
   "execution_count": 15,
   "metadata": {},
   "outputs": [],
   "source": [
    "data.to_adls(\"Analytics/RnD Projects/Product RnD/Credit/202311-CRD-Model-Revalidations/Formatted_Files/cleaned/OneMain_11_21.parquet\", overwrite = True)"
   ]
  },
  {
   "cell_type": "code",
   "execution_count": null,
   "metadata": {},
   "outputs": [],
   "source": [
    "data.to_adls(\"Analytics/RnD Projects/Product RnD/Credit/202311-CRD-Model-Revalidations/Formatted_Files/OneMain_11_21.parquet\", overwrite = True)"
   ]
  },
  {
   "cell_type": "code",
   "execution_count": null,
   "metadata": {},
   "outputs": [],
   "source": []
  }
 ],
 "metadata": {
  "kernelspec": {
   "display_name": "data-science",
   "language": "python",
   "name": "python3"
  },
  "language_info": {
   "codemirror_mode": {
    "name": "ipython",
    "version": 3
   },
   "file_extension": ".py",
   "mimetype": "text/x-python",
   "name": "python",
   "nbconvert_exporter": "python",
   "pygments_lexer": "ipython3",
   "version": "3.10.6"
  }
 },
 "nbformat": 4,
 "nbformat_minor": 2
}
