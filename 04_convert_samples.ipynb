{
 "cells": [
  {
   "cell_type": "code",
   "execution_count": 1,
   "metadata": {},
   "outputs": [],
   "source": [
    "import time\n",
    "import pandas as pd\n",
    "import numpy as np\n",
    "import math\n",
    "\n",
    "# internal tools\n",
    "from dsgtools.reporting import make_format\n",
    "from dsgtools.reporting import TableWriter\n",
    "from dsgtools.reporting import freq\n",
    "from dsgtools.reporting import bivariate"
   ]
  },
  {
   "cell_type": "code",
   "execution_count": 2,
   "metadata": {},
   "outputs": [],
   "source": [
    "full_path = \"Analytics/RnD Projects/Product RnD/Credit/202311-CRD-Model-Revalidations/Formatted_Files/Full_sample_formatted_w_flags/ready_to_be_formatted/\"\n",
    "full_path_save = \"Analytics/RnD Projects/Product RnD/Credit/202311-CRD-Model-Revalidations/Formatted_Files/Full_Converted/\"\n",
    "\n",
    "cleaned_path = \"Analytics/RnD Projects/Product RnD/Credit/202311-CRD-Model-Revalidations/Formatted_Files/\"\n",
    "cleaned_path_save = \"Analytics/RnD Projects/Product RnD/Credit/202311-CRD-Model-Revalidations/Formatted_Files/ReVal_Converted/\""
   ]
  },
  {
   "cell_type": "markdown",
   "metadata": {},
   "source": [
    "### Convert"
   ]
  },
  {
   "cell_type": "code",
   "execution_count": 3,
   "metadata": {},
   "outputs": [],
   "source": [
    "def reformat(column, input_df):\n",
    "    output[\"Std_account_on_file\"] = input_df[format_tbl.loc[format_tbl[\"Field Name\"] == \"Std_account_on_file\", column].values[0]]\n",
    "    output[\"Input_Account\"] = format_tbl.loc[format_tbl[\"Field Name\"] == \"Std_customer\", column].values[0] + \"_\" + column + \"_\" + (output.index + 1).astype(str)\n",
    "    output[\"Std_sample_indicator\"] =  format_tbl.loc[format_tbl[\"Field Name\"] == \"Std_industry\", column].values[0] + \"_\" + \\\n",
    "                                         format_tbl.loc[format_tbl[\"Field Name\"] == \"Std_customer\", column].values[0] + \"_\" + \\\n",
    "                                             format_tbl.loc[format_tbl[\"Field Name\"] == \"Std_quickbase_project\", column].values[0]\n",
    "    \n",
    "    for x in format_tbl[\"Field Name\"].to_list():\n",
    "        value = format_tbl.loc[format_tbl[\"Field Name\"] == x, column].values[0]\n",
    "        if (x not in output.columns) & (value == value):\n",
    "            name_col = x.find(\"_name\")          \n",
    "            if (name_col == -1) & (x not in [\"Std_customer\", \"Std_quickbase_project\", \"Std_industry\"]):\n",
    "                code = value.find(\"pycode: \")\n",
    "                if code != -1:\n",
    "                    value = value.split(\": \")\n",
    "                    cols = value.split(\" + \")\n",
    "                    output[x] = input_df[cols].apply(lambda x: ', '.join(x.dropna().astype(str).values), axis=1)\n",
    "                else:\n",
    "                    output[x] = input_df[value]\n",
    "            else:\n",
    "                output[x] = value\n",
    "        elif (x not in output.columns) & (value != value):\n",
    "            output[x] = value\n",
    "    return output"
   ]
  },
  {
   "cell_type": "code",
   "execution_count": 4,
   "metadata": {},
   "outputs": [
    {
     "name": "stdout",
     "output_type": "stream",
     "text": [
      "(94, 16)\n"
     ]
    }
   ],
   "source": [
    "format_tbl = pd.read_excel(\"./doc/reformat_data.xlsx\", sheet_name = \"Revalidation_2023\", verbose = False, dtype = str)\n",
    "print(format_tbl.shape)"
   ]
  },
  {
   "cell_type": "code",
   "execution_count": 5,
   "metadata": {},
   "outputs": [
    {
     "data": {
      "text/plain": [
       "Index(['Field Name', 'Required', 'Python Data Type', 'PNC_11414',\n",
       "       'TMobile_10869', 'AFF_10698', 'Kohl_11696', 'OneMain_11012',\n",
       "       'Elevate_11167', 'AllyMetro2', 'GLSMetro2', 'DiscoverMetro2',\n",
       "       'Toyota 11056', 'Extra 11103', 'Uprova 10907', 'Description'],\n",
       "      dtype='object')"
      ]
     },
     "execution_count": 5,
     "metadata": {},
     "output_type": "execute_result"
    }
   ],
   "source": [
    "format_tbl.columns"
   ]
  },
  {
   "cell_type": "code",
   "execution_count": 6,
   "metadata": {},
   "outputs": [],
   "source": [
    "from dsgtools import azure"
   ]
  },
  {
   "cell_type": "markdown",
   "metadata": {},
   "source": [
    "### PNC"
   ]
  },
  {
   "cell_type": "code",
   "execution_count": 7,
   "metadata": {},
   "outputs": [
    {
     "name": "stdout",
     "output_type": "stream",
     "text": [
      "(1857583, 866)\n",
      "(1857583, 94)\n"
     ]
    }
   ],
   "source": [
    "output = pd.DataFrame()\n",
    "pnc = pd.read_adls(full_path + \"pnc_11414_full_file.parquet\")\n",
    "pnc[\"weight\"] = 1\n",
    "print(pnc.shape)\n",
    "pnc_input_fmt = reformat(\"PNC_11414\", pnc)\n",
    "pnc_input_fmt = pnc_input_fmt[list(format_tbl[\"Field Name\"])]\n",
    "print(pnc_input_fmt.shape)\n",
    "pnc_input_fmt.to_adls(full_path_save + \"/pnc_input_fmt.parquet\", overwrite=True)"
   ]
  },
  {
   "cell_type": "code",
   "execution_count": 8,
   "metadata": {},
   "outputs": [
    {
     "name": "stdout",
     "output_type": "stream",
     "text": [
      "(250000, 866)\n",
      "(250000, 94)\n"
     ]
    }
   ],
   "source": [
    "output = pd.DataFrame()\n",
    "pnc = pd.read_adls(cleaned_path + \"pnc_250K_11_17.parquet\")\n",
    "print(pnc.shape)\n",
    "pnc_input_fmt = reformat(\"PNC_11414\", pnc)\n",
    "pnc_input_fmt = pnc_input_fmt[list(format_tbl[\"Field Name\"])]\n",
    "print(pnc_input_fmt.shape)\n",
    "pnc_input_fmt.to_adls(cleaned_path_save + \"/pnc_cleaned_input_fmt.parquet\", overwrite=True)"
   ]
  },
  {
   "cell_type": "markdown",
   "metadata": {},
   "source": [
    "### TMobile"
   ]
  },
  {
   "cell_type": "code",
   "execution_count": 14,
   "metadata": {},
   "outputs": [
    {
     "name": "stdout",
     "output_type": "stream",
     "text": [
      "(3516579, 150)\n",
      "(3516579, 94)\n"
     ]
    }
   ],
   "source": [
    "output = pd.DataFrame()\n",
    "tmobile = pd.read_adls(full_path + \"tmobile_10869_full_file.parquet\")\n",
    "tmobile[\"weight\"] = 1\n",
    "print(tmobile.shape)\n",
    "tmobile_input_fmt = reformat(\"TMobile_10869\", tmobile)\n",
    "tmobile_input_fmt = tmobile_input_fmt[list(format_tbl[\"Field Name\"])]\n",
    "print(tmobile_input_fmt.shape)\n",
    "tmobile_input_fmt.to_adls(full_path_save + \"/tmobile_full_input_fmt.parquet\", overwrite=True)"
   ]
  },
  {
   "cell_type": "code",
   "execution_count": 16,
   "metadata": {},
   "outputs": [
    {
     "name": "stdout",
     "output_type": "stream",
     "text": [
      "(250000, 150)\n",
      "(250000, 94)\n"
     ]
    }
   ],
   "source": [
    "output = pd.DataFrame()\n",
    "tmobile = pd.read_adls(cleaned_path + \"tmobile_250K_11_20.parquet\")\n",
    "print(tmobile.shape)\n",
    "tmobile_input_fmt = reformat(\"TMobile_10869\", tmobile)\n",
    "tmobile_input_fmt = tmobile_input_fmt[list(format_tbl[\"Field Name\"])]\n",
    "print(tmobile_input_fmt.shape)\n",
    "tmobile_input_fmt.to_adls(cleaned_path_save + \"/tmobile_cleaned_input_fmt.parquet\", overwrite=True)"
   ]
  },
  {
   "cell_type": "markdown",
   "metadata": {},
   "source": [
    "### AFF"
   ]
  },
  {
   "cell_type": "code",
   "execution_count": 17,
   "metadata": {},
   "outputs": [
    {
     "name": "stdout",
     "output_type": "stream",
     "text": [
      "(249833, 26)\n",
      "(249833, 94)\n"
     ]
    }
   ],
   "source": [
    "output = pd.DataFrame()\n",
    "aff = pd.read_adls(full_path + \"aff_10698_full_file.parquet\")\n",
    "aff[\"weight\"] = 1\n",
    "print(aff.shape)\n",
    "aff_input_fmt = reformat(\"AFF_10698\", aff)\n",
    "aff_input_fmt = aff_input_fmt[list(format_tbl[\"Field Name\"])]\n",
    "print(aff_input_fmt.shape)\n",
    "aff_input_fmt.to_adls(full_path_save + \"/aff_full_input_fmt.parquet\", overwrite=True)"
   ]
  },
  {
   "cell_type": "code",
   "execution_count": 20,
   "metadata": {},
   "outputs": [
    {
     "name": "stdout",
     "output_type": "stream",
     "text": [
      "(198310, 25)\n",
      "(198310, 94)\n"
     ]
    }
   ],
   "source": [
    "output = pd.DataFrame()\n",
    "aff = pd.read_adls(cleaned_path + \"aff_cleaned_11_20.parquet\")\n",
    "print(aff.shape)\n",
    "aff_input_fmt = reformat(\"AFF_10698\", aff)\n",
    "aff_input_fmt = aff_input_fmt[list(format_tbl[\"Field Name\"])]\n",
    "print(aff_input_fmt.shape)\n",
    "aff_input_fmt.to_adls(cleaned_path_save + \"aff_cleaned_input_fmt.parquet\", overwrite=True)"
   ]
  },
  {
   "cell_type": "markdown",
   "metadata": {},
   "source": [
    "### Kohl"
   ]
  },
  {
   "cell_type": "code",
   "execution_count": 25,
   "metadata": {},
   "outputs": [
    {
     "name": "stdout",
     "output_type": "stream",
     "text": [
      "(4652190, 73)\n",
      "(4652190, 94)\n"
     ]
    }
   ],
   "source": [
    "output = pd.DataFrame()\n",
    "kohl = pd.read_adls(full_path + \"kohls_11696_full_file.parquet\")\n",
    "kohl[\"weight\"] = 1\n",
    "print(kohl.shape)\n",
    "kohl_input_fmt = reformat(\"Kohl_11696\", kohl)\n",
    "kohl_input_fmt = kohl_input_fmt[list(format_tbl[\"Field Name\"])]\n",
    "print(kohl_input_fmt.shape)\n",
    "kohl_input_fmt.to_adls(full_path_save + \"/kohl_full_input_fmt.parquet\", overwrite=True)"
   ]
  },
  {
   "cell_type": "code",
   "execution_count": 26,
   "metadata": {},
   "outputs": [
    {
     "name": "stdout",
     "output_type": "stream",
     "text": [
      "(250000, 73)\n",
      "(250000, 94)\n"
     ]
    }
   ],
   "source": [
    "output = pd.DataFrame()\n",
    "kohl = pd.read_adls(cleaned_path + \"kohls_250K_11_21.parquet\")\n",
    "print(kohl.shape)\n",
    "kohl_input_fmt = reformat(\"Kohl_11696\", kohl)\n",
    "kohl_input_fmt = kohl_input_fmt[list(format_tbl[\"Field Name\"])]\n",
    "print(kohl_input_fmt.shape)\n",
    "kohl_input_fmt.to_adls(cleaned_path_save + \"/kohl_cleaned_input_fmt.parquet\", overwrite=True)"
   ]
  },
  {
   "cell_type": "markdown",
   "metadata": {},
   "source": [
    "### OneMain"
   ]
  },
  {
   "cell_type": "code",
   "execution_count": 27,
   "metadata": {},
   "outputs": [
    {
     "name": "stdout",
     "output_type": "stream",
     "text": [
      "(1574646, 38)\n",
      "(1574646, 94)\n"
     ]
    }
   ],
   "source": [
    "output = pd.DataFrame()\n",
    "onemain = pd.read_adls(full_path + \"OneMain_11012_full_file.parquet\")\n",
    "print(onemain.shape)\n",
    "onemain_input_fmt = reformat(\"OneMain_11012\", onemain)\n",
    "onemain_input_fmt = onemain_input_fmt[list(format_tbl[\"Field Name\"])]\n",
    "print(onemain_input_fmt.shape)\n",
    "onemain_input_fmt.to_adls(full_path_save + \"/onemain_full_input_fmt.parquet\", overwrite=True)"
   ]
  },
  {
   "cell_type": "code",
   "execution_count": 28,
   "metadata": {},
   "outputs": [
    {
     "name": "stdout",
     "output_type": "stream",
     "text": [
      "(194187, 38)\n",
      "(194187, 94)\n"
     ]
    }
   ],
   "source": [
    "output = pd.DataFrame()\n",
    "onemain = pd.read_adls(cleaned_path + \"OneMain_11_21.parquet\")\n",
    "print(onemain.shape)\n",
    "onemain_input_fmt = reformat(\"OneMain_11012\", onemain)\n",
    "onemain_input_fmt = onemain_input_fmt[list(format_tbl[\"Field Name\"])]\n",
    "print(onemain_input_fmt.shape)\n",
    "onemain_input_fmt.to_adls(cleaned_path_save + \"/onemain_cleaned_input_fmt.parquet\", overwrite=True)"
   ]
  },
  {
   "cell_type": "markdown",
   "metadata": {},
   "source": [
    "### Elevate"
   ]
  },
  {
   "cell_type": "code",
   "execution_count": 6,
   "metadata": {},
   "outputs": [],
   "source": [
    "from dsgtools import azure"
   ]
  },
  {
   "cell_type": "code",
   "execution_count": 7,
   "metadata": {},
   "outputs": [
    {
     "name": "stdout",
     "output_type": "stream",
     "text": [
      "(379951, 43)\n",
      "(379951, 94)\n"
     ]
    }
   ],
   "source": [
    "output = pd.DataFrame()\n",
    "elevate = pd.read_adls(full_path + \"elevate_11167_full_file.parquet\")\n",
    "print(elevate.shape)\n",
    "elevate_input_fmt = reformat(\"Elevate_11167\", elevate)\n",
    "elevate_input_fmt = elevate_input_fmt[list(format_tbl[\"Field Name\"])]\n",
    "print(elevate_input_fmt.shape)\n",
    "elevate_input_fmt.to_adls(full_path_save + \"/elevate_full_input_fmt.parquet\", overwrite=True)"
   ]
  },
  {
   "cell_type": "code",
   "execution_count": 8,
   "metadata": {},
   "outputs": [
    {
     "name": "stdout",
     "output_type": "stream",
     "text": [
      "(131691, 43)\n",
      "(131691, 94)\n"
     ]
    }
   ],
   "source": [
    "output = pd.DataFrame()\n",
    "elevate = pd.read_adls(cleaned_path + \"elevate_11_21.parquet\")\n",
    "print(elevate.shape)\n",
    "elevate_input_fmt = reformat(\"Elevate_11167\", elevate)\n",
    "elevate_input_fmt = elevate_input_fmt[list(format_tbl[\"Field Name\"])]\n",
    "print(elevate_input_fmt.shape)\n",
    "elevate_input_fmt.to_adls(cleaned_path_save + \"/elevate_cleaned_input_fmt.parquet\", overwrite=True)"
   ]
  },
  {
   "cell_type": "code",
   "execution_count": 12,
   "metadata": {},
   "outputs": [
    {
     "data": {
      "text/plain": [
       "202108    20035\n",
       "202107    19019\n",
       "202106    16329\n",
       "202109    11892\n",
       "202111    11099\n",
       "202110    10345\n",
       "202105    10048\n",
       "202112     8360\n",
       "202201     6050\n",
       "202104     4373\n",
       "202101     4359\n",
       "202202     3919\n",
       "202102     3249\n",
       "202103     2614\n",
       "Name: Input_historydate, dtype: int64"
      ]
     },
     "execution_count": 12,
     "metadata": {},
     "output_type": "execute_result"
    }
   ],
   "source": [
    "elevate_input_fmt.Input_historydate.str.slice(0, 6).value_counts()"
   ]
  },
  {
   "cell_type": "code",
   "execution_count": null,
   "metadata": {},
   "outputs": [],
   "source": []
  }
 ],
 "metadata": {
  "kernelspec": {
   "display_name": "data-science",
   "language": "python",
   "name": "python3"
  },
  "language_info": {
   "codemirror_mode": {
    "name": "ipython",
    "version": 3
   },
   "file_extension": ".py",
   "mimetype": "text/x-python",
   "name": "python",
   "nbconvert_exporter": "python",
   "pygments_lexer": "ipython3",
   "version": "3.10.6"
  }
 },
 "nbformat": 4,
 "nbformat_minor": 2
}
