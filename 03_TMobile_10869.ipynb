{
 "cells": [
  {
   "cell_type": "code",
   "execution_count": 1,
   "metadata": {},
   "outputs": [],
   "source": [
    "import os\n",
    "os.environ[\"HTTPS_PROXY\"] = \"\"\n",
    "os.environ[\"HTTP_PROXY\"] = \"\""
   ]
  },
  {
   "cell_type": "code",
   "execution_count": 2,
   "metadata": {},
   "outputs": [],
   "source": [
    "import time\n",
    "import pandas as pd\n",
    "import numpy as np\n",
    "import math\n",
    "\n",
    "# internal tools\n",
    "from dsgtools.reporting import make_format\n",
    "from dsgtools.reporting import TableWriter\n",
    "from dsgtools.reporting import freq\n",
    "from dsgtools.reporting import bivariate\n",
    "\n",
    "import warnings\n",
    "warnings.filterwarnings('ignore')"
   ]
  },
  {
   "cell_type": "code",
   "execution_count": 3,
   "metadata": {},
   "outputs": [],
   "source": [
    "path = \"Analytics/Customer Projects/T-Mobile-Proj 10869 (Custom Optics_Spectrum)/File from the Customer/LN_RETRO.csv.gz\""
   ]
  },
  {
   "cell_type": "code",
   "execution_count": 9,
   "metadata": {},
   "outputs": [
    {
     "name": "stdout",
     "output_type": "stream",
     "text": [
      "(3522391, 141)\n"
     ]
    }
   ],
   "source": [
    "from dsgtools import azure\n",
    "data = pd.read_adls(path, compression = \"gzip\", reader = pd.read_csv, dtype = str, encoding='iso-8859-1')\n",
    "print(data.shape)"
   ]
  },
  {
   "cell_type": "code",
   "execution_count": 10,
   "metadata": {},
   "outputs": [
    {
     "data": {
      "text/plain": [
       "True"
      ]
     },
     "execution_count": 10,
     "metadata": {},
     "output_type": "execute_result"
    }
   ],
   "source": [
    "data.CRID.is_unique"
   ]
  },
  {
   "cell_type": "markdown",
   "metadata": {},
   "source": [
    "## overall clean"
   ]
  },
  {
   "cell_type": "code",
   "execution_count": 12,
   "metadata": {},
   "outputs": [
    {
     "data": {
      "text/plain": [
       "FIRSTNAME            15\n",
       "LASTNAME             43\n",
       "BIRTHDATE             1\n",
       "ADDRESSCITY           0\n",
       "ADDRESSLINE1          3\n",
       "ADDRESSLINE2    3310725\n",
       "ADDRESSSTATE          0\n",
       "ZIP_FINAL             0\n",
       "PHONE                 0\n",
       "SSN                   0\n",
       "address               3\n",
       "dtype: int64"
      ]
     },
     "execution_count": 12,
     "metadata": {},
     "output_type": "execute_result"
    }
   ],
   "source": [
    "data[\"address\"] = np.where(data.ADDRESSLINE1.notnull(), np.where(data.ADDRESSLINE2.notnull(), data.ADDRESSLINE1 + \" \" + data.ADDRESSLINE2, data.ADDRESSLINE1), data.ADDRESSLINE1)\n",
    "data[['FIRSTNAME', 'LASTNAME', 'BIRTHDATE', 'ADDRESSCITY', 'ADDRESSLINE1', 'ADDRESSLINE2', 'ADDRESSSTATE', 'ZIP_FINAL', 'PHONE', 'SSN', \"address\"]].isnull().sum()"
   ]
  },
  {
   "cell_type": "code",
   "execution_count": 13,
   "metadata": {},
   "outputs": [
    {
     "data": {
      "text/html": [
       "<div>\n",
       "<style scoped>\n",
       "    .dataframe tbody tr th:only-of-type {\n",
       "        vertical-align: middle;\n",
       "    }\n",
       "\n",
       "    .dataframe tbody tr th {\n",
       "        vertical-align: top;\n",
       "    }\n",
       "\n",
       "    .dataframe thead th {\n",
       "        text-align: right;\n",
       "    }\n",
       "</style>\n",
       "<table border=\"1\" class=\"dataframe\">\n",
       "  <thead>\n",
       "    <tr style=\"text-align: right;\">\n",
       "      <th></th>\n",
       "      <th>Count</th>\n",
       "      <th>Pct</th>\n",
       "      <th>Cuml Count</th>\n",
       "      <th>Cuml Pct</th>\n",
       "    </tr>\n",
       "    <tr>\n",
       "      <th>sufficient_input</th>\n",
       "      <th></th>\n",
       "      <th></th>\n",
       "      <th></th>\n",
       "      <th></th>\n",
       "    </tr>\n",
       "  </thead>\n",
       "  <tbody>\n",
       "    <tr>\n",
       "      <th>0</th>\n",
       "      <td>58.0</td>\n",
       "      <td>0.000016</td>\n",
       "      <td>58.0</td>\n",
       "      <td>0.000016</td>\n",
       "    </tr>\n",
       "    <tr>\n",
       "      <th>1</th>\n",
       "      <td>3522333.0</td>\n",
       "      <td>0.999984</td>\n",
       "      <td>3522391.0</td>\n",
       "      <td>1.000000</td>\n",
       "    </tr>\n",
       "  </tbody>\n",
       "</table>\n",
       "</div>"
      ],
      "text/plain": [
       "                      Count       Pct  Cuml Count  Cuml Pct\n",
       "sufficient_input                                           \n",
       "0                      58.0  0.000016        58.0  0.000016\n",
       "1                 3522333.0  0.999984   3522391.0  1.000000"
      ]
     },
     "execution_count": 13,
     "metadata": {},
     "output_type": "execute_result"
    }
   ],
   "source": [
    "Input_FirstName = \"FIRSTNAME\"\n",
    "Input_LastName = \"LASTNAME\"\n",
    "Input_StreetAddress = \"address\"\n",
    "Input_City = \"ADDRESSCITY\"\n",
    "Input_State = \"ADDRESSSTATE\"\n",
    "Input_Zip = \"ZIP_FINAL\"\n",
    "Input_SSN = \"SSN\"\n",
    "\n",
    "data[\"sufficient_input\"] = np.where((data[Input_FirstName].notnull() & data[Input_LastName].notnull() & data[Input_StreetAddress].notnull() & data[Input_Zip].notnull()) | \\\n",
    "             (data[Input_FirstName].notnull() & data[Input_LastName].notnull() & data[Input_StreetAddress].notnull() & data[Input_City].notnull() & data[Input_State].notnull()) | \\\n",
    "             (data[Input_FirstName].notnull() & data[Input_LastName].notnull() & data[Input_SSN].notnull()), 1, 0)\n",
    "freq(data[\"sufficient_input\"])"
   ]
  },
  {
   "cell_type": "code",
   "execution_count": 14,
   "metadata": {},
   "outputs": [
    {
     "data": {
      "text/html": [
       "<div>\n",
       "<style scoped>\n",
       "    .dataframe tbody tr th:only-of-type {\n",
       "        vertical-align: middle;\n",
       "    }\n",
       "\n",
       "    .dataframe tbody tr th {\n",
       "        vertical-align: top;\n",
       "    }\n",
       "\n",
       "    .dataframe thead th {\n",
       "        text-align: right;\n",
       "    }\n",
       "</style>\n",
       "<table border=\"1\" class=\"dataframe\">\n",
       "  <thead>\n",
       "    <tr style=\"text-align: right;\">\n",
       "      <th></th>\n",
       "      <th>Count</th>\n",
       "      <th>Pct</th>\n",
       "      <th>Cuml Count</th>\n",
       "      <th>Cuml Pct</th>\n",
       "    </tr>\n",
       "    <tr>\n",
       "      <th>APPDATETIME_fmt_F</th>\n",
       "      <th></th>\n",
       "      <th></th>\n",
       "      <th></th>\n",
       "      <th></th>\n",
       "    </tr>\n",
       "  </thead>\n",
       "  <tbody>\n",
       "    <tr>\n",
       "      <th>202110</th>\n",
       "      <td>675577.0</td>\n",
       "      <td>0.191798</td>\n",
       "      <td>675577.0</td>\n",
       "      <td>0.191798</td>\n",
       "    </tr>\n",
       "    <tr>\n",
       "      <th>202111</th>\n",
       "      <td>738451.0</td>\n",
       "      <td>0.209648</td>\n",
       "      <td>1414028.0</td>\n",
       "      <td>0.401446</td>\n",
       "    </tr>\n",
       "    <tr>\n",
       "      <th>202112</th>\n",
       "      <td>767772.0</td>\n",
       "      <td>0.217973</td>\n",
       "      <td>2181800.0</td>\n",
       "      <td>0.619419</td>\n",
       "    </tr>\n",
       "    <tr>\n",
       "      <th>202201</th>\n",
       "      <td>665620.0</td>\n",
       "      <td>0.188971</td>\n",
       "      <td>2847420.0</td>\n",
       "      <td>0.808390</td>\n",
       "    </tr>\n",
       "    <tr>\n",
       "      <th>202202</th>\n",
       "      <td>674913.0</td>\n",
       "      <td>0.191610</td>\n",
       "      <td>3522333.0</td>\n",
       "      <td>1.000000</td>\n",
       "    </tr>\n",
       "  </tbody>\n",
       "</table>\n",
       "</div>"
      ],
      "text/plain": [
       "                      Count       Pct  Cuml Count  Cuml Pct\n",
       "APPDATETIME_fmt_F                                          \n",
       "202110             675577.0  0.191798    675577.0  0.191798\n",
       "202111             738451.0  0.209648   1414028.0  0.401446\n",
       "202112             767772.0  0.217973   2181800.0  0.619419\n",
       "202201             665620.0  0.188971   2847420.0  0.808390\n",
       "202202             674913.0  0.191610   3522333.0  1.000000"
      ]
     },
     "execution_count": 14,
     "metadata": {},
     "output_type": "execute_result"
    }
   ],
   "source": [
    "data = data[data[\"sufficient_input\"] == 1]\n",
    "from datetime import datetime\n",
    "data[\"APPDATETIME_fmt\"] = pd.to_datetime(data.APPDATETIME.str.slice(0,9))\n",
    "data[\"APPDATETIME_fmt_F\"] = data['APPDATETIME_fmt'].astype(str).str.slice(0,4) + data['APPDATETIME_fmt'].astype(str).str.slice(5,7)\n",
    "data[\"APPDATETIME_fmt_F_dt\"] = data['APPDATETIME_fmt'].astype(str).str.slice(0,4) + data['APPDATETIME_fmt'].astype(str).str.slice(5,7) + data['APPDATETIME_fmt'].astype(str).str.slice(8,10)\n",
    "freq(data[\"APPDATETIME_fmt_F\"] )"
   ]
  },
  {
   "cell_type": "code",
   "execution_count": 16,
   "metadata": {},
   "outputs": [
    {
     "data": {
      "text/html": [
       "<div>\n",
       "<style scoped>\n",
       "    .dataframe tbody tr th:only-of-type {\n",
       "        vertical-align: middle;\n",
       "    }\n",
       "\n",
       "    .dataframe tbody tr th {\n",
       "        vertical-align: top;\n",
       "    }\n",
       "\n",
       "    .dataframe thead th {\n",
       "        text-align: right;\n",
       "    }\n",
       "</style>\n",
       "<table border=\"1\" class=\"dataframe\">\n",
       "  <thead>\n",
       "    <tr style=\"text-align: right;\">\n",
       "      <th></th>\n",
       "      <th>Count</th>\n",
       "      <th>Pct</th>\n",
       "      <th>Cuml Count</th>\n",
       "      <th>Cuml Pct</th>\n",
       "    </tr>\n",
       "    <tr>\n",
       "      <th>WO12M_IND_fmt</th>\n",
       "      <th></th>\n",
       "      <th></th>\n",
       "      <th></th>\n",
       "      <th></th>\n",
       "    </tr>\n",
       "  </thead>\n",
       "  <tbody>\n",
       "    <tr>\n",
       "      <th>-1</th>\n",
       "      <td>1490679.0</td>\n",
       "      <td>0.423208</td>\n",
       "      <td>1490679.0</td>\n",
       "      <td>0.423208</td>\n",
       "    </tr>\n",
       "    <tr>\n",
       "      <th>0</th>\n",
       "      <td>1642248.0</td>\n",
       "      <td>0.466239</td>\n",
       "      <td>3132927.0</td>\n",
       "      <td>0.889447</td>\n",
       "    </tr>\n",
       "    <tr>\n",
       "      <th>1</th>\n",
       "      <td>389406.0</td>\n",
       "      <td>0.110553</td>\n",
       "      <td>3522333.0</td>\n",
       "      <td>1.000000</td>\n",
       "    </tr>\n",
       "  </tbody>\n",
       "</table>\n",
       "</div>"
      ],
      "text/plain": [
       "                   Count       Pct  Cuml Count  Cuml Pct\n",
       "WO12M_IND_fmt                                           \n",
       "-1             1490679.0  0.423208   1490679.0  0.423208\n",
       "0              1642248.0  0.466239   3132927.0  0.889447\n",
       "1               389406.0  0.110553   3522333.0  1.000000"
      ]
     },
     "execution_count": 16,
     "metadata": {},
     "output_type": "execute_result"
    }
   ],
   "source": [
    "data[\"WO12M_IND_fmt\"] = np.where(data.WO12M_IND.isnull(), -1, np.where(data.WO12M_IND == \"1\", 1, 0))\n",
    "freq(data.WO12M_IND_fmt)"
   ]
  },
  {
   "cell_type": "code",
   "execution_count": 17,
   "metadata": {},
   "outputs": [
    {
     "name": "stdout",
     "output_type": "stream",
     "text": [
      "(3522333, 147)\n",
      "(3516579, 147)\n"
     ]
    }
   ],
   "source": [
    "data = data.sort_values(by = ['FIRSTNAME', 'LASTNAME', 'BIRTHDATE', 'ADDRESSCITY', 'ADDRESSSTATE', 'ZIP_FINAL', 'PHONE', 'SSN', \"address\", \n",
    "                              'APPDATETIME_fmt_F_dt', \"WO12M_IND_fmt\"], ascending = False)\n",
    "print(data.shape)\n",
    "data = data.drop_duplicates(subset = ['FIRSTNAME', 'LASTNAME', 'BIRTHDATE', 'ADDRESSCITY', 'ADDRESSSTATE', 'ZIP_FINAL', 'PHONE', 'SSN', \"address\", 'APPDATETIME_fmt_F_dt'], keep = \"first\")\n",
    "print(data.shape)"
   ]
  },
  {
   "cell_type": "code",
   "execution_count": 18,
   "metadata": {},
   "outputs": [
    {
     "data": {
      "text/plain": [
       "-5754"
      ]
     },
     "execution_count": 18,
     "metadata": {},
     "output_type": "execute_result"
    }
   ],
   "source": [
    "3516579-3522333"
   ]
  },
  {
   "cell_type": "code",
   "execution_count": 22,
   "metadata": {},
   "outputs": [],
   "source": [
    "data.to_adls(\"Analytics/RnD Projects/Product RnD/Credit/202311-CRD-Model-Revalidations/Formatted_Files/Full_sample_formatted_w_flags/ready_to_be_formatted/tmobile_10869_full_file.parquet\",\n",
    "             overwrite = True)"
   ]
  },
  {
   "cell_type": "code",
   "execution_count": 3,
   "metadata": {},
   "outputs": [
    {
     "name": "stdout",
     "output_type": "stream",
     "text": [
      "(3516579, 149)\n"
     ]
    }
   ],
   "source": [
    "from dsgtools import azure\n",
    "data = pd.read_adls(\"Analytics/RnD Projects/Product RnD/Credit/202311-CRD-Model-Revalidations/Formatted_Files/Full_sample_formatted_w_flags/ready_to_be_formatted/tmobile_10869_full_file.parquet\")\n",
    "print(data.shape)"
   ]
  },
  {
   "cell_type": "code",
   "execution_count": 20,
   "metadata": {},
   "outputs": [],
   "source": [
    "from datetime import datetime\n",
    "data[\"BIRTHDATE_fmt\"] = pd.to_datetime(data.BIRTHDATE.str.slice(0,10), errors = 'coerce', format = \"%Y-%m-%d\")\n",
    "data[\"BIRTHDATE_fmt_dt\"] = data['BIRTHDATE_fmt'].astype(str).str.slice(0,4) + data['BIRTHDATE_fmt'].astype(str).str.slice(5,7) + data['BIRTHDATE_fmt'].astype(str).str.slice(8,10)"
   ]
  },
  {
   "cell_type": "markdown",
   "metadata": {},
   "source": [
    "## Sample for validation"
   ]
  },
  {
   "cell_type": "code",
   "execution_count": 4,
   "metadata": {},
   "outputs": [
    {
     "data": {
      "text/html": [
       "<div>\n",
       "<style scoped>\n",
       "    .dataframe tbody tr th:only-of-type {\n",
       "        vertical-align: middle;\n",
       "    }\n",
       "\n",
       "    .dataframe tbody tr th {\n",
       "        vertical-align: top;\n",
       "    }\n",
       "\n",
       "    .dataframe thead th {\n",
       "        text-align: right;\n",
       "    }\n",
       "</style>\n",
       "<table border=\"1\" class=\"dataframe\">\n",
       "  <thead>\n",
       "    <tr style=\"text-align: right;\">\n",
       "      <th></th>\n",
       "      <th></th>\n",
       "      <th></th>\n",
       "      <th></th>\n",
       "      <th>Count</th>\n",
       "      <th>Pct</th>\n",
       "      <th>Cuml Count</th>\n",
       "      <th>Cuml Pct</th>\n",
       "    </tr>\n",
       "    <tr>\n",
       "      <th>ACTIVATIONFLAG_NP15</th>\n",
       "      <th>ACTIVATIONFLAG_NP30</th>\n",
       "      <th>ACTIVATIONFLAG_NP60</th>\n",
       "      <th>ACTIVATIONFLAG_NP90</th>\n",
       "      <th></th>\n",
       "      <th></th>\n",
       "      <th></th>\n",
       "      <th></th>\n",
       "    </tr>\n",
       "  </thead>\n",
       "  <tbody>\n",
       "    <tr>\n",
       "      <th>0</th>\n",
       "      <th>0</th>\n",
       "      <th>0</th>\n",
       "      <th>0</th>\n",
       "      <td>1705296.0</td>\n",
       "      <td>4.849304e-01</td>\n",
       "      <td>1705296.0</td>\n",
       "      <td>0.484930</td>\n",
       "    </tr>\n",
       "    <tr>\n",
       "      <th>1</th>\n",
       "      <th>1</th>\n",
       "      <th>1</th>\n",
       "      <th>1</th>\n",
       "      <td>1811281.0</td>\n",
       "      <td>5.150690e-01</td>\n",
       "      <td>3516577.0</td>\n",
       "      <td>0.999999</td>\n",
       "    </tr>\n",
       "    <tr>\n",
       "      <th>Missing</th>\n",
       "      <th>Missing</th>\n",
       "      <th>Missing</th>\n",
       "      <th>Missing</th>\n",
       "      <td>2.0</td>\n",
       "      <td>5.687346e-07</td>\n",
       "      <td>3516579.0</td>\n",
       "      <td>1.000000</td>\n",
       "    </tr>\n",
       "  </tbody>\n",
       "</table>\n",
       "</div>"
      ],
      "text/plain": [
       "                                                                                     Count  \\\n",
       "ACTIVATIONFLAG_NP15 ACTIVATIONFLAG_NP30 ACTIVATIONFLAG_NP60 ACTIVATIONFLAG_NP90              \n",
       "0                   0                   0                   0                    1705296.0   \n",
       "1                   1                   1                   1                    1811281.0   \n",
       "Missing             Missing             Missing             Missing                    2.0   \n",
       "\n",
       "                                                                                          Pct  \\\n",
       "ACTIVATIONFLAG_NP15 ACTIVATIONFLAG_NP30 ACTIVATIONFLAG_NP60 ACTIVATIONFLAG_NP90                 \n",
       "0                   0                   0                   0                    4.849304e-01   \n",
       "1                   1                   1                   1                    5.150690e-01   \n",
       "Missing             Missing             Missing             Missing              5.687346e-07   \n",
       "\n",
       "                                                                                 Cuml Count  \\\n",
       "ACTIVATIONFLAG_NP15 ACTIVATIONFLAG_NP30 ACTIVATIONFLAG_NP60 ACTIVATIONFLAG_NP90               \n",
       "0                   0                   0                   0                     1705296.0   \n",
       "1                   1                   1                   1                     3516577.0   \n",
       "Missing             Missing             Missing             Missing               3516579.0   \n",
       "\n",
       "                                                                                 Cuml Pct  \n",
       "ACTIVATIONFLAG_NP15 ACTIVATIONFLAG_NP30 ACTIVATIONFLAG_NP60 ACTIVATIONFLAG_NP90            \n",
       "0                   0                   0                   0                    0.484930  \n",
       "1                   1                   1                   1                    0.999999  \n",
       "Missing             Missing             Missing             Missing              1.000000  "
      ]
     },
     "execution_count": 4,
     "metadata": {},
     "output_type": "execute_result"
    }
   ],
   "source": [
    "freq(data.ACTIVATIONFLAG_NP15, data.ACTIVATIONFLAG_NP30, data.ACTIVATIONFLAG_NP60, data.ACTIVATIONFLAG_NP90, cross = False, observed = True)"
   ]
  },
  {
   "cell_type": "code",
   "execution_count": 5,
   "metadata": {},
   "outputs": [
    {
     "name": "stdout",
     "output_type": "stream",
     "text": [
      "(1811281, 149)\n"
     ]
    },
    {
     "data": {
      "text/html": [
       "<div>\n",
       "<style scoped>\n",
       "    .dataframe tbody tr th:only-of-type {\n",
       "        vertical-align: middle;\n",
       "    }\n",
       "\n",
       "    .dataframe tbody tr th {\n",
       "        vertical-align: top;\n",
       "    }\n",
       "\n",
       "    .dataframe thead th {\n",
       "        text-align: right;\n",
       "    }\n",
       "</style>\n",
       "<table border=\"1\" class=\"dataframe\">\n",
       "  <thead>\n",
       "    <tr style=\"text-align: right;\">\n",
       "      <th></th>\n",
       "      <th></th>\n",
       "      <th>Count</th>\n",
       "      <th>Pct</th>\n",
       "      <th>Cuml Count</th>\n",
       "      <th>Cuml Pct</th>\n",
       "    </tr>\n",
       "    <tr>\n",
       "      <th>FRAUD_IND</th>\n",
       "      <th>FPD_NNI_IND</th>\n",
       "      <th></th>\n",
       "      <th></th>\n",
       "      <th></th>\n",
       "      <th></th>\n",
       "    </tr>\n",
       "  </thead>\n",
       "  <tbody>\n",
       "    <tr>\n",
       "      <th rowspan=\"2\" valign=\"top\">0</th>\n",
       "      <th>0</th>\n",
       "      <td>1668351.0</td>\n",
       "      <td>0.921089</td>\n",
       "      <td>1668351.0</td>\n",
       "      <td>0.921089</td>\n",
       "    </tr>\n",
       "    <tr>\n",
       "      <th>1</th>\n",
       "      <td>126270.0</td>\n",
       "      <td>0.069713</td>\n",
       "      <td>1794621.0</td>\n",
       "      <td>0.990802</td>\n",
       "    </tr>\n",
       "    <tr>\n",
       "      <th>1</th>\n",
       "      <th>0</th>\n",
       "      <td>16658.0</td>\n",
       "      <td>0.009197</td>\n",
       "      <td>1811279.0</td>\n",
       "      <td>0.999999</td>\n",
       "    </tr>\n",
       "    <tr>\n",
       "      <th>Missing</th>\n",
       "      <th>Missing</th>\n",
       "      <td>2.0</td>\n",
       "      <td>0.000001</td>\n",
       "      <td>1811281.0</td>\n",
       "      <td>1.000000</td>\n",
       "    </tr>\n",
       "  </tbody>\n",
       "</table>\n",
       "</div>"
      ],
      "text/plain": [
       "                           Count       Pct  Cuml Count  Cuml Pct\n",
       "FRAUD_IND FPD_NNI_IND                                           \n",
       "0         0            1668351.0  0.921089   1668351.0  0.921089\n",
       "          1             126270.0  0.069713   1794621.0  0.990802\n",
       "1         0              16658.0  0.009197   1811279.0  0.999999\n",
       "Missing   Missing            2.0  0.000001   1811281.0  1.000000"
      ]
     },
     "execution_count": 5,
     "metadata": {},
     "output_type": "execute_result"
    }
   ],
   "source": [
    "data = data[data.ACTIVATIONFLAG_NP15 == \"1\"]\n",
    "print(data.shape)\n",
    "freq(data.FRAUD_IND, data.FPD_NNI_IND, cross = False, observed = True)"
   ]
  },
  {
   "cell_type": "code",
   "execution_count": 6,
   "metadata": {},
   "outputs": [
    {
     "name": "stdout",
     "output_type": "stream",
     "text": [
      "(1668351, 149)\n"
     ]
    },
    {
     "data": {
      "text/html": [
       "<div>\n",
       "<style scoped>\n",
       "    .dataframe tbody tr th:only-of-type {\n",
       "        vertical-align: middle;\n",
       "    }\n",
       "\n",
       "    .dataframe tbody tr th {\n",
       "        vertical-align: top;\n",
       "    }\n",
       "\n",
       "    .dataframe thead th {\n",
       "        text-align: right;\n",
       "    }\n",
       "</style>\n",
       "<table border=\"1\" class=\"dataframe\">\n",
       "  <thead>\n",
       "    <tr style=\"text-align: right;\">\n",
       "      <th></th>\n",
       "      <th></th>\n",
       "      <th></th>\n",
       "      <th></th>\n",
       "      <th>Count</th>\n",
       "      <th>Pct</th>\n",
       "      <th>Cuml Count</th>\n",
       "      <th>Cuml Pct</th>\n",
       "    </tr>\n",
       "    <tr>\n",
       "      <th>WO6M_IND</th>\n",
       "      <th>WO9M_IND</th>\n",
       "      <th>WO12M_IND</th>\n",
       "      <th>WO_NNI_IND</th>\n",
       "      <th></th>\n",
       "      <th></th>\n",
       "      <th></th>\n",
       "      <th></th>\n",
       "    </tr>\n",
       "  </thead>\n",
       "  <tbody>\n",
       "    <tr>\n",
       "      <th rowspan=\"4\" valign=\"top\">0</th>\n",
       "      <th rowspan=\"3\" valign=\"top\">0</th>\n",
       "      <th rowspan=\"2\" valign=\"top\">0</th>\n",
       "      <th>0</th>\n",
       "      <td>1389815.0</td>\n",
       "      <td>0.833047</td>\n",
       "      <td>1389815.0</td>\n",
       "      <td>0.833047</td>\n",
       "    </tr>\n",
       "    <tr>\n",
       "      <th>1</th>\n",
       "      <td>51649.0</td>\n",
       "      <td>0.030958</td>\n",
       "      <td>1441464.0</td>\n",
       "      <td>0.864005</td>\n",
       "    </tr>\n",
       "    <tr>\n",
       "      <th>1</th>\n",
       "      <th>1</th>\n",
       "      <td>67914.0</td>\n",
       "      <td>0.040707</td>\n",
       "      <td>1509378.0</td>\n",
       "      <td>0.904712</td>\n",
       "    </tr>\n",
       "    <tr>\n",
       "      <th>1</th>\n",
       "      <th>1</th>\n",
       "      <th>1</th>\n",
       "      <td>97151.0</td>\n",
       "      <td>0.058232</td>\n",
       "      <td>1606529.0</td>\n",
       "      <td>0.962944</td>\n",
       "    </tr>\n",
       "    <tr>\n",
       "      <th>1</th>\n",
       "      <th>1</th>\n",
       "      <th>1</th>\n",
       "      <th>1</th>\n",
       "      <td>61822.0</td>\n",
       "      <td>0.037056</td>\n",
       "      <td>1668351.0</td>\n",
       "      <td>1.000000</td>\n",
       "    </tr>\n",
       "  </tbody>\n",
       "</table>\n",
       "</div>"
      ],
      "text/plain": [
       "                                            Count       Pct  Cuml Count  \\\n",
       "WO6M_IND WO9M_IND WO12M_IND WO_NNI_IND                                    \n",
       "0        0        0         0           1389815.0  0.833047   1389815.0   \n",
       "                            1             51649.0  0.030958   1441464.0   \n",
       "                  1         1             67914.0  0.040707   1509378.0   \n",
       "         1        1         1             97151.0  0.058232   1606529.0   \n",
       "1        1        1         1             61822.0  0.037056   1668351.0   \n",
       "\n",
       "                                        Cuml Pct  \n",
       "WO6M_IND WO9M_IND WO12M_IND WO_NNI_IND            \n",
       "0        0        0         0           0.833047  \n",
       "                            1           0.864005  \n",
       "                  1         1           0.904712  \n",
       "         1        1         1           0.962944  \n",
       "1        1        1         1           1.000000  "
      ]
     },
     "execution_count": 6,
     "metadata": {},
     "output_type": "execute_result"
    }
   ],
   "source": [
    "data = data[(data.FRAUD_IND == \"0\") & ((data.FPD_NNI_IND == \"0\"))]\n",
    "print(data.shape)\n",
    "freq(data.WO6M_IND, data.WO9M_IND, data.WO12M_IND, data.WO_NNI_IND, cross = False, observed = True)"
   ]
  },
  {
   "cell_type": "code",
   "execution_count": 7,
   "metadata": {},
   "outputs": [
    {
     "data": {
      "text/html": [
       "<div>\n",
       "<style scoped>\n",
       "    .dataframe tbody tr th:only-of-type {\n",
       "        vertical-align: middle;\n",
       "    }\n",
       "\n",
       "    .dataframe tbody tr th {\n",
       "        vertical-align: top;\n",
       "    }\n",
       "\n",
       "    .dataframe thead th {\n",
       "        text-align: right;\n",
       "    }\n",
       "</style>\n",
       "<table border=\"1\" class=\"dataframe\">\n",
       "  <thead>\n",
       "    <tr style=\"text-align: right;\">\n",
       "      <th></th>\n",
       "      <th>Count</th>\n",
       "      <th>Pct</th>\n",
       "      <th>Cuml Count</th>\n",
       "      <th>Cuml Pct</th>\n",
       "    </tr>\n",
       "    <tr>\n",
       "      <th>WO12M_IND_fmt</th>\n",
       "      <th></th>\n",
       "      <th></th>\n",
       "      <th></th>\n",
       "      <th></th>\n",
       "    </tr>\n",
       "  </thead>\n",
       "  <tbody>\n",
       "    <tr>\n",
       "      <th>0</th>\n",
       "      <td>1441464.0</td>\n",
       "      <td>0.864005</td>\n",
       "      <td>1441464.0</td>\n",
       "      <td>0.864005</td>\n",
       "    </tr>\n",
       "    <tr>\n",
       "      <th>1</th>\n",
       "      <td>226887.0</td>\n",
       "      <td>0.135995</td>\n",
       "      <td>1668351.0</td>\n",
       "      <td>1.000000</td>\n",
       "    </tr>\n",
       "  </tbody>\n",
       "</table>\n",
       "</div>"
      ],
      "text/plain": [
       "                   Count       Pct  Cuml Count  Cuml Pct\n",
       "WO12M_IND_fmt                                           \n",
       "0              1441464.0  0.864005   1441464.0  0.864005\n",
       "1               226887.0  0.135995   1668351.0  1.000000"
      ]
     },
     "execution_count": 7,
     "metadata": {},
     "output_type": "execute_result"
    }
   ],
   "source": [
    "freq(data.WO12M_IND_fmt)"
   ]
  },
  {
   "cell_type": "code",
   "execution_count": 8,
   "metadata": {},
   "outputs": [
    {
     "data": {
      "text/html": [
       "<div>\n",
       "<style scoped>\n",
       "    .dataframe tbody tr th:only-of-type {\n",
       "        vertical-align: middle;\n",
       "    }\n",
       "\n",
       "    .dataframe tbody tr th {\n",
       "        vertical-align: top;\n",
       "    }\n",
       "\n",
       "    .dataframe thead tr th {\n",
       "        text-align: left;\n",
       "    }\n",
       "\n",
       "    .dataframe thead tr:last-of-type th {\n",
       "        text-align: right;\n",
       "    }\n",
       "</style>\n",
       "<table border=\"1\" class=\"dataframe\">\n",
       "  <thead>\n",
       "    <tr>\n",
       "      <th>tag</th>\n",
       "      <th colspan=\"6\" halign=\"left\">WO12M_IND_fmt</th>\n",
       "    </tr>\n",
       "    <tr>\n",
       "      <th>stats</th>\n",
       "      <th>N</th>\n",
       "      <th>PctN</th>\n",
       "      <th>Sum</th>\n",
       "      <th>Mean</th>\n",
       "      <th>WoE</th>\n",
       "      <th>IV</th>\n",
       "    </tr>\n",
       "    <tr>\n",
       "      <th>APPDATETIME_fmt_F</th>\n",
       "      <th></th>\n",
       "      <th></th>\n",
       "      <th></th>\n",
       "      <th></th>\n",
       "      <th></th>\n",
       "      <th></th>\n",
       "    </tr>\n",
       "  </thead>\n",
       "  <tbody>\n",
       "    <tr>\n",
       "      <th>202110</th>\n",
       "      <td>311227.0</td>\n",
       "      <td>0.186548</td>\n",
       "      <td>36839.0</td>\n",
       "      <td>0.118367</td>\n",
       "      <td>-0.159026</td>\n",
       "      <td>0.004451</td>\n",
       "    </tr>\n",
       "    <tr>\n",
       "      <th>202111</th>\n",
       "      <td>345503.0</td>\n",
       "      <td>0.207093</td>\n",
       "      <td>42389.0</td>\n",
       "      <td>0.122688</td>\n",
       "      <td>-0.118259</td>\n",
       "      <td>0.002774</td>\n",
       "    </tr>\n",
       "    <tr>\n",
       "      <th>202112</th>\n",
       "      <td>355786.0</td>\n",
       "      <td>0.213256</td>\n",
       "      <td>48046.0</td>\n",
       "      <td>0.135042</td>\n",
       "      <td>-0.008136</td>\n",
       "      <td>0.000014</td>\n",
       "    </tr>\n",
       "    <tr>\n",
       "      <th>202201</th>\n",
       "      <td>321483.0</td>\n",
       "      <td>0.192695</td>\n",
       "      <td>47449.0</td>\n",
       "      <td>0.147594</td>\n",
       "      <td>0.095364</td>\n",
       "      <td>0.001814</td>\n",
       "    </tr>\n",
       "    <tr>\n",
       "      <th>202202</th>\n",
       "      <td>334352.0</td>\n",
       "      <td>0.200409</td>\n",
       "      <td>52164.0</td>\n",
       "      <td>0.156015</td>\n",
       "      <td>0.160780</td>\n",
       "      <td>0.005490</td>\n",
       "    </tr>\n",
       "    <tr>\n",
       "      <th>Missing</th>\n",
       "      <td>0.0</td>\n",
       "      <td>0.000000</td>\n",
       "      <td>0.0</td>\n",
       "      <td>0.000000</td>\n",
       "      <td>0.000000</td>\n",
       "      <td>0.000000</td>\n",
       "    </tr>\n",
       "    <tr>\n",
       "      <th>Total</th>\n",
       "      <td>1668351.0</td>\n",
       "      <td>1.000000</td>\n",
       "      <td>226887.0</td>\n",
       "      <td>0.135995</td>\n",
       "      <td>0.000000</td>\n",
       "      <td>0.014542</td>\n",
       "    </tr>\n",
       "  </tbody>\n",
       "</table>\n",
       "</div>"
      ],
      "text/plain": [
       "tag               WO12M_IND_fmt                                          \\\n",
       "stats                         N      PctN       Sum      Mean       WoE   \n",
       "APPDATETIME_fmt_F                                                         \n",
       "202110                 311227.0  0.186548   36839.0  0.118367 -0.159026   \n",
       "202111                 345503.0  0.207093   42389.0  0.122688 -0.118259   \n",
       "202112                 355786.0  0.213256   48046.0  0.135042 -0.008136   \n",
       "202201                 321483.0  0.192695   47449.0  0.147594  0.095364   \n",
       "202202                 334352.0  0.200409   52164.0  0.156015  0.160780   \n",
       "Missing                     0.0  0.000000       0.0  0.000000  0.000000   \n",
       "Total                 1668351.0  1.000000  226887.0  0.135995  0.000000   \n",
       "\n",
       "tag                          \n",
       "stats                    IV  \n",
       "APPDATETIME_fmt_F            \n",
       "202110             0.004451  \n",
       "202111             0.002774  \n",
       "202112             0.000014  \n",
       "202201             0.001814  \n",
       "202202             0.005490  \n",
       "Missing            0.000000  \n",
       "Total              0.014542  "
      ]
     },
     "execution_count": 8,
     "metadata": {},
     "output_type": "execute_result"
    }
   ],
   "source": [
    "bivariate(data.APPDATETIME_fmt_F, data.WO12M_IND_fmt)"
   ]
  },
  {
   "cell_type": "code",
   "execution_count": 9,
   "metadata": {},
   "outputs": [],
   "source": [
    "data.to_adls(\"Analytics/RnD Projects/Product RnD/Credit/202311-CRD-Model-Revalidations/Formatted_Files/cleaned/tmobile_cleaned_11_20.parquet\", overwrite = True)"
   ]
  },
  {
   "cell_type": "markdown",
   "metadata": {},
   "source": [
    "### Add Weight"
   ]
  },
  {
   "cell_type": "code",
   "execution_count": 10,
   "metadata": {},
   "outputs": [
    {
     "name": "stdout",
     "output_type": "stream",
     "text": [
      "(226887, 150)\n",
      "(1441464, 150)\n"
     ]
    }
   ],
   "source": [
    "data[\"weight\"] = 1\n",
    "data_1 = data[(data.WO12M_IND_fmt == 1)].copy()\n",
    "data_0 = data[(data.WO12M_IND_fmt == 0)].copy()\n",
    "print(data_1.shape)\n",
    "print(data_0.shape)"
   ]
  },
  {
   "cell_type": "code",
   "execution_count": 11,
   "metadata": {},
   "outputs": [
    {
     "name": "stdout",
     "output_type": "stream",
     "text": [
      "[5.27790329]\n",
      "(273113, 150)\n"
     ]
    }
   ],
   "source": [
    "data_0_sample = data_0.sample(n = 500_000 - data_1.shape[0], random_state=1)\n",
    "data_0_sample['weight'] = data_0.shape[0]/(500_000 - data_1.shape[0])\n",
    "print(data_0_sample['weight'].unique())\n",
    "print(data_0_sample.shape)"
   ]
  },
  {
   "cell_type": "code",
   "execution_count": 12,
   "metadata": {},
   "outputs": [
    {
     "name": "stdout",
     "output_type": "stream",
     "text": [
      "(500000, 150)\n"
     ]
    }
   ],
   "source": [
    "data = pd.concat([data_1, data_0_sample], ignore_index= True)\n",
    "print(data.shape)"
   ]
  },
  {
   "cell_type": "code",
   "execution_count": 13,
   "metadata": {},
   "outputs": [
    {
     "data": {
      "text/html": [
       "<div>\n",
       "<style scoped>\n",
       "    .dataframe tbody tr th:only-of-type {\n",
       "        vertical-align: middle;\n",
       "    }\n",
       "\n",
       "    .dataframe tbody tr th {\n",
       "        vertical-align: top;\n",
       "    }\n",
       "\n",
       "    .dataframe thead th {\n",
       "        text-align: right;\n",
       "    }\n",
       "</style>\n",
       "<table border=\"1\" class=\"dataframe\">\n",
       "  <thead>\n",
       "    <tr style=\"text-align: right;\">\n",
       "      <th></th>\n",
       "      <th>Count</th>\n",
       "      <th>Pct</th>\n",
       "      <th>Cuml Count</th>\n",
       "      <th>Cuml Pct</th>\n",
       "    </tr>\n",
       "    <tr>\n",
       "      <th>WO12M_IND_fmt</th>\n",
       "      <th></th>\n",
       "      <th></th>\n",
       "      <th></th>\n",
       "      <th></th>\n",
       "    </tr>\n",
       "  </thead>\n",
       "  <tbody>\n",
       "    <tr>\n",
       "      <th>0</th>\n",
       "      <td>136459.0</td>\n",
       "      <td>0.545836</td>\n",
       "      <td>136459.0</td>\n",
       "      <td>0.545836</td>\n",
       "    </tr>\n",
       "    <tr>\n",
       "      <th>1</th>\n",
       "      <td>113541.0</td>\n",
       "      <td>0.454164</td>\n",
       "      <td>250000.0</td>\n",
       "      <td>1.000000</td>\n",
       "    </tr>\n",
       "  </tbody>\n",
       "</table>\n",
       "</div>"
      ],
      "text/plain": [
       "                  Count       Pct  Cuml Count  Cuml Pct\n",
       "WO12M_IND_fmt                                          \n",
       "0              136459.0  0.545836    136459.0  0.545836\n",
       "1              113541.0  0.454164    250000.0  1.000000"
      ]
     },
     "execution_count": 13,
     "metadata": {},
     "output_type": "execute_result"
    }
   ],
   "source": [
    "data_sample = data.sample(n = 250_000, random_state=1)\n",
    "freq(data_sample.WO12M_IND_fmt)"
   ]
  },
  {
   "cell_type": "code",
   "execution_count": 14,
   "metadata": {},
   "outputs": [],
   "source": [
    "data_sample.weight = 2* data_sample.weight"
   ]
  },
  {
   "cell_type": "code",
   "execution_count": 15,
   "metadata": {},
   "outputs": [],
   "source": [
    "data_sample.to_adls(\"Analytics/RnD Projects/Product RnD/Credit/202311-CRD-Model-Revalidations/Formatted_Files/tmobile_250K_11_20.parquet\", overwrite = True)"
   ]
  },
  {
   "cell_type": "code",
   "execution_count": null,
   "metadata": {},
   "outputs": [],
   "source": []
  }
 ],
 "metadata": {
  "kernelspec": {
   "display_name": "data-science",
   "language": "python",
   "name": "python3"
  },
  "language_info": {
   "codemirror_mode": {
    "name": "ipython",
    "version": 3
   },
   "file_extension": ".py",
   "mimetype": "text/x-python",
   "name": "python",
   "nbconvert_exporter": "python",
   "pygments_lexer": "ipython3",
   "version": "3.10.6"
  }
 },
 "nbformat": 4,
 "nbformat_minor": 2
}
