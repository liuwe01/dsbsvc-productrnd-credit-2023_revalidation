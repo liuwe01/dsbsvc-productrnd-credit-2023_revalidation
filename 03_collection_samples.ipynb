{
 "cells": [
  {
   "cell_type": "code",
   "execution_count": 1,
   "metadata": {},
   "outputs": [],
   "source": [
    "import os\n",
    "os.environ[\"HTTPS_PROXY\"] = \"\"\n",
    "os.environ[\"HTTP_PROXY\"] = \"\""
   ]
  },
  {
   "cell_type": "code",
   "execution_count": 2,
   "metadata": {},
   "outputs": [],
   "source": [
    "import time\n",
    "import pandas as pd\n",
    "import numpy as np\n",
    "import math\n",
    "\n",
    "# internal tools\n",
    "from dsgtools.reporting import make_format\n",
    "from dsgtools.reporting import TableWriter\n",
    "from dsgtools.reporting import freq\n",
    "from dsgtools.reporting import bivariate\n",
    "\n",
    "import warnings\n",
    "warnings.filterwarnings('ignore')"
   ]
  },
  {
   "cell_type": "code",
   "execution_count": 3,
   "metadata": {},
   "outputs": [
    {
     "name": "stdout",
     "output_type": "stream",
     "text": [
      "(6803471, 96)\n"
     ]
    }
   ],
   "source": [
    "## Formated input\n",
    "from dsgtools import azure\n",
    "input_df = pd.read_adls(\"Analytics/RnD Projects/Product RnD/Credit/Payment_Collection_Score_202306/QB_11843/input_data.parquet\")\n",
    "print(input_df.shape)"
   ]
  },
  {
   "cell_type": "code",
   "execution_count": 4,
   "metadata": {},
   "outputs": [
    {
     "name": "stdout",
     "output_type": "stream",
     "text": [
      "(6314179, 408)\n",
      "(3814887, 1)\n"
     ]
    }
   ],
   "source": [
    "# Rolled up data\n",
    "path = \"Analytics/RnD Projects/Product RnD/Credit/Payment_Collection_Score_202306/QB_11843/redo_20230925/parquet_data/merged_data_for_model_build_0927.parquet\"\n",
    "rolled_up = pd.read_adls(path)\n",
    "print(rolled_up.shape)\n",
    "rolled_up = rolled_up[rolled_up.std_customer.isin(['Pendrick_Capital_Partners', 'Penn_Credit_Corp', 'Phillips_and_Cohen'])]\n",
    "rolled_up = rolled_up[[\"unique_id\"]]\n",
    "print(rolled_up.shape)"
   ]
  },
  {
   "cell_type": "code",
   "execution_count": 5,
   "metadata": {},
   "outputs": [
    {
     "name": "stdout",
     "output_type": "stream",
     "text": [
      "(3814887, 96)\n"
     ]
    },
    {
     "data": {
      "text/html": [
       "<div>\n",
       "<style scoped>\n",
       "    .dataframe tbody tr th:only-of-type {\n",
       "        vertical-align: middle;\n",
       "    }\n",
       "\n",
       "    .dataframe tbody tr th {\n",
       "        vertical-align: top;\n",
       "    }\n",
       "\n",
       "    .dataframe thead tr th {\n",
       "        text-align: left;\n",
       "    }\n",
       "\n",
       "    .dataframe thead tr:last-of-type th {\n",
       "        text-align: right;\n",
       "    }\n",
       "</style>\n",
       "<table border=\"1\" class=\"dataframe\">\n",
       "  <thead>\n",
       "    <tr>\n",
       "      <th>tag</th>\n",
       "      <th colspan=\"6\" halign=\"left\">Std_perf1</th>\n",
       "    </tr>\n",
       "    <tr>\n",
       "      <th>stats</th>\n",
       "      <th>N</th>\n",
       "      <th>PctN</th>\n",
       "      <th>Sum</th>\n",
       "      <th>Mean</th>\n",
       "      <th>WoE</th>\n",
       "      <th>IV</th>\n",
       "    </tr>\n",
       "    <tr>\n",
       "      <th>Std_customer</th>\n",
       "      <th></th>\n",
       "      <th></th>\n",
       "      <th></th>\n",
       "      <th></th>\n",
       "      <th></th>\n",
       "      <th></th>\n",
       "    </tr>\n",
       "  </thead>\n",
       "  <tbody>\n",
       "    <tr>\n",
       "      <th>Pendrick_Capital_Partners</th>\n",
       "      <td>986941.0</td>\n",
       "      <td>0.258708</td>\n",
       "      <td>13510.0</td>\n",
       "      <td>0.013689</td>\n",
       "      <td>-2.180089</td>\n",
       "      <td>0.553991</td>\n",
       "    </tr>\n",
       "    <tr>\n",
       "      <th>Penn_Credit_Corp</th>\n",
       "      <td>2616292.0</td>\n",
       "      <td>0.685811</td>\n",
       "      <td>395521.0</td>\n",
       "      <td>0.151176</td>\n",
       "      <td>0.371902</td>\n",
       "      <td>0.109505</td>\n",
       "    </tr>\n",
       "    <tr>\n",
       "      <th>Phillips_and_Cohen</th>\n",
       "      <td>211654.0</td>\n",
       "      <td>0.055481</td>\n",
       "      <td>8160.0</td>\n",
       "      <td>0.038553</td>\n",
       "      <td>-1.119085</td>\n",
       "      <td>0.045135</td>\n",
       "    </tr>\n",
       "    <tr>\n",
       "      <th>Missing</th>\n",
       "      <td>0.0</td>\n",
       "      <td>0.000000</td>\n",
       "      <td>0.0</td>\n",
       "      <td>0.000000</td>\n",
       "      <td>0.000000</td>\n",
       "      <td>0.000000</td>\n",
       "    </tr>\n",
       "    <tr>\n",
       "      <th>Total</th>\n",
       "      <td>3814887.0</td>\n",
       "      <td>1.000000</td>\n",
       "      <td>417191.0</td>\n",
       "      <td>0.109359</td>\n",
       "      <td>0.000000</td>\n",
       "      <td>0.708632</td>\n",
       "    </tr>\n",
       "  </tbody>\n",
       "</table>\n",
       "</div>"
      ],
      "text/plain": [
       "tag                        Std_perf1                                          \\\n",
       "stats                              N      PctN       Sum      Mean       WoE   \n",
       "Std_customer                                                                   \n",
       "Pendrick_Capital_Partners   986941.0  0.258708   13510.0  0.013689 -2.180089   \n",
       "Penn_Credit_Corp           2616292.0  0.685811  395521.0  0.151176  0.371902   \n",
       "Phillips_and_Cohen          211654.0  0.055481    8160.0  0.038553 -1.119085   \n",
       "Missing                          0.0  0.000000       0.0  0.000000  0.000000   \n",
       "Total                      3814887.0  1.000000  417191.0  0.109359  0.000000   \n",
       "\n",
       "tag                                  \n",
       "stats                            IV  \n",
       "Std_customer                         \n",
       "Pendrick_Capital_Partners  0.553991  \n",
       "Penn_Credit_Corp           0.109505  \n",
       "Phillips_and_Cohen         0.045135  \n",
       "Missing                    0.000000  \n",
       "Total                      0.708632  "
      ]
     },
     "execution_count": 5,
     "metadata": {},
     "output_type": "execute_result"
    }
   ],
   "source": [
    "input_df = input_df.merge(rolled_up, on = \"unique_id\")\n",
    "print(input_df.shape)\n",
    "bivariate(input_df.Std_customer, input_df.Std_perf1)\n"
   ]
  },
  {
   "cell_type": "code",
   "execution_count": 6,
   "metadata": {},
   "outputs": [],
   "source": [
    "# bivariate(input_df.Input_historydate.str.slice(0, 6), input_df.Std_perf1, groups = input_df.Std_customer)"
   ]
  },
  {
   "cell_type": "code",
   "execution_count": 7,
   "metadata": {},
   "outputs": [
    {
     "name": "stdout",
     "output_type": "stream",
     "text": [
      "(3814887, 95)\n"
     ]
    }
   ],
   "source": [
    "input_df = input_df.drop(columns = ['sufficient_input'])\n",
    "print(input_df.shape)"
   ]
  },
  {
   "cell_type": "code",
   "execution_count": 8,
   "metadata": {},
   "outputs": [],
   "source": [
    "input_df.Std_weight = 1"
   ]
  },
  {
   "cell_type": "markdown",
   "metadata": {},
   "source": [
    "### PCP"
   ]
  },
  {
   "cell_type": "code",
   "execution_count": 9,
   "metadata": {},
   "outputs": [
    {
     "name": "stdout",
     "output_type": "stream",
     "text": [
      "(13510, 95)\n",
      "(973431, 95)\n"
     ]
    }
   ],
   "source": [
    "PCP_1 = input_df[(input_df.Std_customer == \"Pendrick_Capital_Partners\") & (input_df.Std_perf1 == 1)].copy()\n",
    "PCP_0 = input_df[(input_df.Std_customer == \"Pendrick_Capital_Partners\") & (input_df.Std_perf1 == 0)].copy()\n",
    "print(PCP_1.shape)\n",
    "print(PCP_0.shape)"
   ]
  },
  {
   "cell_type": "code",
   "execution_count": 10,
   "metadata": {},
   "outputs": [
    {
     "name": "stdout",
     "output_type": "stream",
     "text": [
      "[4.11616136]\n",
      "(236490, 95)\n"
     ]
    }
   ],
   "source": [
    "PCP_0_sample = PCP_0.sample(n = 250_000 - PCP_1.shape[0], random_state=1)\n",
    "PCP_0_sample.Std_weight = PCP_0.shape[0]/(250_000 - PCP_1.shape[0])\n",
    "print(PCP_0_sample.Std_weight.unique())\n",
    "print(PCP_0_sample.shape)"
   ]
  },
  {
   "cell_type": "code",
   "execution_count": 11,
   "metadata": {},
   "outputs": [
    {
     "name": "stdout",
     "output_type": "stream",
     "text": [
      "(250000, 95)\n"
     ]
    }
   ],
   "source": [
    "PCP = pd.concat([PCP_1, PCP_0_sample], ignore_index= True)\n",
    "print(PCP.shape)"
   ]
  },
  {
   "cell_type": "markdown",
   "metadata": {},
   "source": [
    "### Penn_Credit_Corp"
   ]
  },
  {
   "cell_type": "code",
   "execution_count": 12,
   "metadata": {},
   "outputs": [
    {
     "name": "stdout",
     "output_type": "stream",
     "text": [
      "(395521, 95)\n",
      "(2220771, 95)\n"
     ]
    }
   ],
   "source": [
    "PCC_1 = input_df[(input_df.Std_customer == \"Penn_Credit_Corp\") & (input_df.Std_perf1 == 1)].copy()\n",
    "PCC_0 = input_df[(input_df.Std_customer == \"Penn_Credit_Corp\") & (input_df.Std_perf1 == 0)].copy()\n",
    "print(PCC_1.shape)\n",
    "print(PCC_0.shape)"
   ]
  },
  {
   "cell_type": "code",
   "execution_count": 13,
   "metadata": {},
   "outputs": [
    {
     "name": "stdout",
     "output_type": "stream",
     "text": [
      "[21.2556686]\n",
      "(104479, 95)\n"
     ]
    }
   ],
   "source": [
    "PCC_0_sample = PCC_0.sample(n = 500_000 - PCC_1.shape[0], random_state=1)\n",
    "PCC_0_sample.Std_weight = PCC_0.shape[0]/(500_000 - PCC_1.shape[0])\n",
    "print(PCC_0_sample.Std_weight.unique())\n",
    "print(PCC_0_sample.shape)"
   ]
  },
  {
   "cell_type": "code",
   "execution_count": 14,
   "metadata": {},
   "outputs": [
    {
     "name": "stdout",
     "output_type": "stream",
     "text": [
      "(500000, 95)\n"
     ]
    },
    {
     "data": {
      "text/html": [
       "<div>\n",
       "<style scoped>\n",
       "    .dataframe tbody tr th:only-of-type {\n",
       "        vertical-align: middle;\n",
       "    }\n",
       "\n",
       "    .dataframe tbody tr th {\n",
       "        vertical-align: top;\n",
       "    }\n",
       "\n",
       "    .dataframe thead th {\n",
       "        text-align: right;\n",
       "    }\n",
       "</style>\n",
       "<table border=\"1\" class=\"dataframe\">\n",
       "  <thead>\n",
       "    <tr style=\"text-align: right;\">\n",
       "      <th></th>\n",
       "      <th>Count</th>\n",
       "      <th>Pct</th>\n",
       "      <th>Cuml Count</th>\n",
       "      <th>Cuml Pct</th>\n",
       "    </tr>\n",
       "    <tr>\n",
       "      <th>Std_perf1</th>\n",
       "      <th></th>\n",
       "      <th></th>\n",
       "      <th></th>\n",
       "      <th></th>\n",
       "    </tr>\n",
       "  </thead>\n",
       "  <tbody>\n",
       "    <tr>\n",
       "      <th>0</th>\n",
       "      <td>104479.0</td>\n",
       "      <td>0.208958</td>\n",
       "      <td>104479.0</td>\n",
       "      <td>0.208958</td>\n",
       "    </tr>\n",
       "    <tr>\n",
       "      <th>1</th>\n",
       "      <td>395521.0</td>\n",
       "      <td>0.791042</td>\n",
       "      <td>500000.0</td>\n",
       "      <td>1.000000</td>\n",
       "    </tr>\n",
       "  </tbody>\n",
       "</table>\n",
       "</div>"
      ],
      "text/plain": [
       "              Count       Pct  Cuml Count  Cuml Pct\n",
       "Std_perf1                                          \n",
       "0          104479.0  0.208958    104479.0  0.208958\n",
       "1          395521.0  0.791042    500000.0  1.000000"
      ]
     },
     "execution_count": 14,
     "metadata": {},
     "output_type": "execute_result"
    }
   ],
   "source": [
    "PCC = pd.concat([PCC_1, PCC_0_sample], ignore_index= True)\n",
    "print(PCC.shape)\n",
    "freq(PCC.Std_perf1)"
   ]
  },
  {
   "cell_type": "code",
   "execution_count": 15,
   "metadata": {},
   "outputs": [
    {
     "data": {
      "text/html": [
       "<div>\n",
       "<style scoped>\n",
       "    .dataframe tbody tr th:only-of-type {\n",
       "        vertical-align: middle;\n",
       "    }\n",
       "\n",
       "    .dataframe tbody tr th {\n",
       "        vertical-align: top;\n",
       "    }\n",
       "\n",
       "    .dataframe thead th {\n",
       "        text-align: right;\n",
       "    }\n",
       "</style>\n",
       "<table border=\"1\" class=\"dataframe\">\n",
       "  <thead>\n",
       "    <tr style=\"text-align: right;\">\n",
       "      <th></th>\n",
       "      <th>Count</th>\n",
       "      <th>Pct</th>\n",
       "      <th>Cuml Count</th>\n",
       "      <th>Cuml Pct</th>\n",
       "    </tr>\n",
       "    <tr>\n",
       "      <th>Std_perf1</th>\n",
       "      <th></th>\n",
       "      <th></th>\n",
       "      <th></th>\n",
       "      <th></th>\n",
       "    </tr>\n",
       "  </thead>\n",
       "  <tbody>\n",
       "    <tr>\n",
       "      <th>0</th>\n",
       "      <td>51937.0</td>\n",
       "      <td>0.207748</td>\n",
       "      <td>51937.0</td>\n",
       "      <td>0.207748</td>\n",
       "    </tr>\n",
       "    <tr>\n",
       "      <th>1</th>\n",
       "      <td>198063.0</td>\n",
       "      <td>0.792252</td>\n",
       "      <td>250000.0</td>\n",
       "      <td>1.000000</td>\n",
       "    </tr>\n",
       "  </tbody>\n",
       "</table>\n",
       "</div>"
      ],
      "text/plain": [
       "              Count       Pct  Cuml Count  Cuml Pct\n",
       "Std_perf1                                          \n",
       "0           51937.0  0.207748     51937.0  0.207748\n",
       "1          198063.0  0.792252    250000.0  1.000000"
      ]
     },
     "execution_count": 15,
     "metadata": {},
     "output_type": "execute_result"
    }
   ],
   "source": [
    "PCC_sample = PCC.sample(n = 250_000, random_state=1)\n",
    "freq(PCC_sample.Std_perf1)"
   ]
  },
  {
   "cell_type": "code",
   "execution_count": 16,
   "metadata": {},
   "outputs": [],
   "source": [
    "PCC_sample.Std_weight = 2* PCC_sample.Std_weight"
   ]
  },
  {
   "cell_type": "code",
   "execution_count": 17,
   "metadata": {},
   "outputs": [
    {
     "data": {
      "text/plain": [
       "array([ 2.        , 42.51133721])"
      ]
     },
     "execution_count": 17,
     "metadata": {},
     "output_type": "execute_result"
    }
   ],
   "source": [
    "PCC_sample.Std_weight.unique()"
   ]
  },
  {
   "cell_type": "markdown",
   "metadata": {},
   "source": [
    "### Phillips_and_Cohen"
   ]
  },
  {
   "cell_type": "code",
   "execution_count": 18,
   "metadata": {},
   "outputs": [
    {
     "name": "stdout",
     "output_type": "stream",
     "text": [
      "(211654, 95)\n"
     ]
    }
   ],
   "source": [
    "PAC = input_df[(input_df.Std_customer == \"Phillips_and_Cohen\")].copy()\n",
    "print(PAC.shape)"
   ]
  },
  {
   "cell_type": "markdown",
   "metadata": {},
   "source": [
    "### Stack"
   ]
  },
  {
   "cell_type": "code",
   "execution_count": 19,
   "metadata": {},
   "outputs": [
    {
     "name": "stdout",
     "output_type": "stream",
     "text": [
      "(711654, 95)\n"
     ]
    }
   ],
   "source": [
    "sample = pd.concat([PCP, PCC_sample, PAC], ignore_index = True)\n",
    "print(sample.shape)"
   ]
  },
  {
   "cell_type": "code",
   "execution_count": 20,
   "metadata": {},
   "outputs": [
    {
     "data": {
      "text/html": [
       "<div>\n",
       "<style scoped>\n",
       "    .dataframe tbody tr th:only-of-type {\n",
       "        vertical-align: middle;\n",
       "    }\n",
       "\n",
       "    .dataframe tbody tr th {\n",
       "        vertical-align: top;\n",
       "    }\n",
       "\n",
       "    .dataframe thead tr th {\n",
       "        text-align: left;\n",
       "    }\n",
       "\n",
       "    .dataframe thead tr:last-of-type th {\n",
       "        text-align: right;\n",
       "    }\n",
       "</style>\n",
       "<table border=\"1\" class=\"dataframe\">\n",
       "  <thead>\n",
       "    <tr>\n",
       "      <th>tag</th>\n",
       "      <th colspan=\"6\" halign=\"left\">Std_perf1</th>\n",
       "    </tr>\n",
       "    <tr>\n",
       "      <th>stats</th>\n",
       "      <th>N</th>\n",
       "      <th>PctN</th>\n",
       "      <th>Sum</th>\n",
       "      <th>Mean</th>\n",
       "      <th>WoE</th>\n",
       "      <th>IV</th>\n",
       "    </tr>\n",
       "    <tr>\n",
       "      <th>Std_customer</th>\n",
       "      <th></th>\n",
       "      <th></th>\n",
       "      <th></th>\n",
       "      <th></th>\n",
       "      <th></th>\n",
       "      <th></th>\n",
       "    </tr>\n",
       "  </thead>\n",
       "  <tbody>\n",
       "    <tr>\n",
       "      <th>Pendrick_Capital_Partners</th>\n",
       "      <td>250000.0</td>\n",
       "      <td>0.351294</td>\n",
       "      <td>13510.0</td>\n",
       "      <td>0.054040</td>\n",
       "      <td>-2.056572</td>\n",
       "      <td>0.862246</td>\n",
       "    </tr>\n",
       "    <tr>\n",
       "      <th>Penn_Credit_Corp</th>\n",
       "      <td>250000.0</td>\n",
       "      <td>0.351294</td>\n",
       "      <td>198063.0</td>\n",
       "      <td>0.792252</td>\n",
       "      <td>2.144457</td>\n",
       "      <td>1.706556</td>\n",
       "    </tr>\n",
       "    <tr>\n",
       "      <th>Phillips_and_Cohen</th>\n",
       "      <td>211654.0</td>\n",
       "      <td>0.297411</td>\n",
       "      <td>8160.0</td>\n",
       "      <td>0.038553</td>\n",
       "      <td>-2.410489</td>\n",
       "      <td>0.907635</td>\n",
       "    </tr>\n",
       "    <tr>\n",
       "      <th>Missing</th>\n",
       "      <td>0.0</td>\n",
       "      <td>0.000000</td>\n",
       "      <td>0.0</td>\n",
       "      <td>0.000000</td>\n",
       "      <td>0.000000</td>\n",
       "      <td>0.000000</td>\n",
       "    </tr>\n",
       "    <tr>\n",
       "      <th>Total</th>\n",
       "      <td>711654.0</td>\n",
       "      <td>1.000000</td>\n",
       "      <td>219733.0</td>\n",
       "      <td>0.308764</td>\n",
       "      <td>0.000000</td>\n",
       "      <td>3.476437</td>\n",
       "    </tr>\n",
       "  </tbody>\n",
       "</table>\n",
       "</div>"
      ],
      "text/plain": [
       "tag                       Std_perf1                                          \\\n",
       "stats                             N      PctN       Sum      Mean       WoE   \n",
       "Std_customer                                                                  \n",
       "Pendrick_Capital_Partners  250000.0  0.351294   13510.0  0.054040 -2.056572   \n",
       "Penn_Credit_Corp           250000.0  0.351294  198063.0  0.792252  2.144457   \n",
       "Phillips_and_Cohen         211654.0  0.297411    8160.0  0.038553 -2.410489   \n",
       "Missing                         0.0  0.000000       0.0  0.000000  0.000000   \n",
       "Total                      711654.0  1.000000  219733.0  0.308764  0.000000   \n",
       "\n",
       "tag                                  \n",
       "stats                            IV  \n",
       "Std_customer                         \n",
       "Pendrick_Capital_Partners  0.862246  \n",
       "Penn_Credit_Corp           1.706556  \n",
       "Phillips_and_Cohen         0.907635  \n",
       "Missing                    0.000000  \n",
       "Total                      3.476437  "
      ]
     },
     "execution_count": 20,
     "metadata": {},
     "output_type": "execute_result"
    }
   ],
   "source": [
    "bivariate(sample.Std_customer, sample.Std_perf1)"
   ]
  },
  {
   "cell_type": "code",
   "execution_count": 21,
   "metadata": {},
   "outputs": [
    {
     "data": {
      "text/html": [
       "<div>\n",
       "<style scoped>\n",
       "    .dataframe tbody tr th:only-of-type {\n",
       "        vertical-align: middle;\n",
       "    }\n",
       "\n",
       "    .dataframe tbody tr th {\n",
       "        vertical-align: top;\n",
       "    }\n",
       "\n",
       "    .dataframe thead tr th {\n",
       "        text-align: left;\n",
       "    }\n",
       "\n",
       "    .dataframe thead tr:last-of-type th {\n",
       "        text-align: right;\n",
       "    }\n",
       "</style>\n",
       "<table border=\"1\" class=\"dataframe\">\n",
       "  <thead>\n",
       "    <tr>\n",
       "      <th>tag</th>\n",
       "      <th colspan=\"6\" halign=\"left\">Std_perf1</th>\n",
       "    </tr>\n",
       "    <tr>\n",
       "      <th>stats</th>\n",
       "      <th>N</th>\n",
       "      <th>PctN</th>\n",
       "      <th>Sum</th>\n",
       "      <th>Mean</th>\n",
       "      <th>WoE</th>\n",
       "      <th>IV</th>\n",
       "    </tr>\n",
       "    <tr>\n",
       "      <th>Std_customer</th>\n",
       "      <th></th>\n",
       "      <th></th>\n",
       "      <th></th>\n",
       "      <th></th>\n",
       "      <th></th>\n",
       "      <th></th>\n",
       "    </tr>\n",
       "  </thead>\n",
       "  <tbody>\n",
       "    <tr>\n",
       "      <th>Pendrick_Capital_Partners</th>\n",
       "      <td>9.869410e+05</td>\n",
       "      <td>0.259542</td>\n",
       "      <td>13510.0</td>\n",
       "      <td>0.013689</td>\n",
       "      <td>-2.185330</td>\n",
       "      <td>0.557804</td>\n",
       "    </tr>\n",
       "    <tr>\n",
       "      <th>Penn_Credit_Corp</th>\n",
       "      <td>2.604037e+06</td>\n",
       "      <td>0.684799</td>\n",
       "      <td>396126.0</td>\n",
       "      <td>0.152120</td>\n",
       "      <td>0.373997</td>\n",
       "      <td>0.110642</td>\n",
       "    </tr>\n",
       "    <tr>\n",
       "      <th>Phillips_and_Cohen</th>\n",
       "      <td>2.116540e+05</td>\n",
       "      <td>0.055660</td>\n",
       "      <td>8160.0</td>\n",
       "      <td>0.038553</td>\n",
       "      <td>-1.124326</td>\n",
       "      <td>0.045634</td>\n",
       "    </tr>\n",
       "    <tr>\n",
       "      <th>Missing</th>\n",
       "      <td>0.000000e+00</td>\n",
       "      <td>0.000000</td>\n",
       "      <td>0.0</td>\n",
       "      <td>0.000000</td>\n",
       "      <td>0.000000</td>\n",
       "      <td>0.000000</td>\n",
       "    </tr>\n",
       "    <tr>\n",
       "      <th>Total</th>\n",
       "      <td>3.802632e+06</td>\n",
       "      <td>1.000000</td>\n",
       "      <td>417796.0</td>\n",
       "      <td>0.109870</td>\n",
       "      <td>0.000000</td>\n",
       "      <td>0.714081</td>\n",
       "    </tr>\n",
       "  </tbody>\n",
       "</table>\n",
       "</div>"
      ],
      "text/plain": [
       "tag                           Std_perf1                                \\\n",
       "stats                                 N      PctN       Sum      Mean   \n",
       "Std_customer                                                            \n",
       "Pendrick_Capital_Partners  9.869410e+05  0.259542   13510.0  0.013689   \n",
       "Penn_Credit_Corp           2.604037e+06  0.684799  396126.0  0.152120   \n",
       "Phillips_and_Cohen         2.116540e+05  0.055660    8160.0  0.038553   \n",
       "Missing                    0.000000e+00  0.000000       0.0  0.000000   \n",
       "Total                      3.802632e+06  1.000000  417796.0  0.109870   \n",
       "\n",
       "tag                                            \n",
       "stats                           WoE        IV  \n",
       "Std_customer                                   \n",
       "Pendrick_Capital_Partners -2.185330  0.557804  \n",
       "Penn_Credit_Corp           0.373997  0.110642  \n",
       "Phillips_and_Cohen        -1.124326  0.045634  \n",
       "Missing                    0.000000  0.000000  \n",
       "Total                      0.000000  0.714081  "
      ]
     },
     "execution_count": 21,
     "metadata": {},
     "output_type": "execute_result"
    }
   ],
   "source": [
    "bivariate(sample.Std_customer, sample.Std_perf1, sample_weight = sample.Std_weight)"
   ]
  },
  {
   "cell_type": "code",
   "execution_count": 22,
   "metadata": {},
   "outputs": [],
   "source": [
    "sample.to_adls(\"Analytics/RnD Projects/Product RnD/Credit/202311-CRD-Model-Revalidations/Formatted_Files/collection_samples_weighted_1117.parquet\", overwrite = True)"
   ]
  },
  {
   "cell_type": "code",
   "execution_count": 23,
   "metadata": {},
   "outputs": [
    {
     "data": {
      "text/plain": [
       "(711654, 95)"
      ]
     },
     "execution_count": 23,
     "metadata": {},
     "output_type": "execute_result"
    }
   ],
   "source": [
    "sample.shape"
   ]
  },
  {
   "cell_type": "code",
   "execution_count": null,
   "metadata": {},
   "outputs": [],
   "source": []
  }
 ],
 "metadata": {
  "kernelspec": {
   "display_name": "data-science",
   "language": "python",
   "name": "python3"
  },
  "language_info": {
   "codemirror_mode": {
    "name": "ipython",
    "version": 3
   },
   "file_extension": ".py",
   "mimetype": "text/x-python",
   "name": "python",
   "nbconvert_exporter": "python",
   "pygments_lexer": "ipython3",
   "version": "3.10.6"
  }
 },
 "nbformat": 4,
 "nbformat_minor": 2
}
