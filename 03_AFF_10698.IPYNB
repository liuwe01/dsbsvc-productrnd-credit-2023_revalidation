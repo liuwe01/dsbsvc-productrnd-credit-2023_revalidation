{
 "cells": [
  {
   "cell_type": "code",
   "execution_count": 1,
   "metadata": {},
   "outputs": [],
   "source": [
    "import os\n",
    "os.environ[\"HTTPS_PROXY\"] = \"\"\n",
    "os.environ[\"HTTP_PROXY\"] = \"\""
   ]
  },
  {
   "cell_type": "code",
   "execution_count": 2,
   "metadata": {},
   "outputs": [],
   "source": [
    "import time\n",
    "import pandas as pd\n",
    "import numpy as np\n",
    "import math\n",
    "\n",
    "# internal tools\n",
    "from dsgtools.reporting import make_format\n",
    "from dsgtools.reporting import TableWriter\n",
    "from dsgtools.reporting import freq\n",
    "from dsgtools.reporting import bivariate\n",
    "\n",
    "import warnings\n",
    "warnings.filterwarnings('ignore')"
   ]
  },
  {
   "cell_type": "code",
   "execution_count": 3,
   "metadata": {},
   "outputs": [],
   "source": [
    "path = \"Analytics/Customer Projects/American First Finance-proj 10698 (RVS Custom)/File from the Customer/LN_custom_credit_model_file_2021-12-10.csv\""
   ]
  },
  {
   "cell_type": "code",
   "execution_count": 4,
   "metadata": {},
   "outputs": [
    {
     "name": "stdout",
     "output_type": "stream",
     "text": [
      "(250000, 19)\n"
     ]
    }
   ],
   "source": [
    "from dsgtools import azure\n",
    "data = pd.read_adls(path, reader = pd.read_csv, dtype = str, encoding='iso-8859-1')\n",
    "print(data.shape)"
   ]
  },
  {
   "cell_type": "code",
   "execution_count": 5,
   "metadata": {},
   "outputs": [
    {
     "data": {
      "text/plain": [
       "True"
      ]
     },
     "execution_count": 5,
     "metadata": {},
     "output_type": "execute_result"
    }
   ],
   "source": [
    "data.loan_num.is_unique"
   ]
  },
  {
   "cell_type": "markdown",
   "metadata": {},
   "source": [
    "## Overall File"
   ]
  },
  {
   "cell_type": "code",
   "execution_count": 6,
   "metadata": {},
   "outputs": [
    {
     "data": {
      "text/plain": [
       "first_name      1\n",
       "last_name       5\n",
       "address_1       0\n",
       "city            0\n",
       "state           0\n",
       "zip             0\n",
       "ssn             1\n",
       "dob           355\n",
       "phone           0\n",
       "dtype: int64"
      ]
     },
     "execution_count": 6,
     "metadata": {},
     "output_type": "execute_result"
    }
   ],
   "source": [
    "data[['first_name', 'last_name', 'address_1', 'city', 'state', 'zip', 'ssn', 'dob', 'phone']].isnull().sum()"
   ]
  },
  {
   "cell_type": "code",
   "execution_count": 7,
   "metadata": {},
   "outputs": [
    {
     "data": {
      "text/html": [
       "<div>\n",
       "<style scoped>\n",
       "    .dataframe tbody tr th:only-of-type {\n",
       "        vertical-align: middle;\n",
       "    }\n",
       "\n",
       "    .dataframe tbody tr th {\n",
       "        vertical-align: top;\n",
       "    }\n",
       "\n",
       "    .dataframe thead th {\n",
       "        text-align: right;\n",
       "    }\n",
       "</style>\n",
       "<table border=\"1\" class=\"dataframe\">\n",
       "  <thead>\n",
       "    <tr style=\"text-align: right;\">\n",
       "      <th></th>\n",
       "      <th>Count</th>\n",
       "      <th>Pct</th>\n",
       "      <th>Cuml Count</th>\n",
       "      <th>Cuml Pct</th>\n",
       "    </tr>\n",
       "    <tr>\n",
       "      <th>sufficient_input</th>\n",
       "      <th></th>\n",
       "      <th></th>\n",
       "      <th></th>\n",
       "      <th></th>\n",
       "    </tr>\n",
       "  </thead>\n",
       "  <tbody>\n",
       "    <tr>\n",
       "      <th>0</th>\n",
       "      <td>6.0</td>\n",
       "      <td>0.000024</td>\n",
       "      <td>6.0</td>\n",
       "      <td>0.000024</td>\n",
       "    </tr>\n",
       "    <tr>\n",
       "      <th>1</th>\n",
       "      <td>249994.0</td>\n",
       "      <td>0.999976</td>\n",
       "      <td>250000.0</td>\n",
       "      <td>1.000000</td>\n",
       "    </tr>\n",
       "  </tbody>\n",
       "</table>\n",
       "</div>"
      ],
      "text/plain": [
       "                     Count       Pct  Cuml Count  Cuml Pct\n",
       "sufficient_input                                          \n",
       "0                      6.0  0.000024         6.0  0.000024\n",
       "1                 249994.0  0.999976    250000.0  1.000000"
      ]
     },
     "execution_count": 7,
     "metadata": {},
     "output_type": "execute_result"
    }
   ],
   "source": [
    "Input_FirstName = \"first_name\"\n",
    "Input_LastName = \"last_name\"\n",
    "Input_StreetAddress = \"address_1\"\n",
    "Input_City = \"city\"\n",
    "Input_State = \"state\"\n",
    "Input_Zip = \"zip\"\n",
    "Input_SSN = \"ssn\"\n",
    "\n",
    "data[\"sufficient_input\"] = np.where((data[Input_FirstName].notnull() & data[Input_LastName].notnull() & data[Input_StreetAddress].notnull() & data[Input_Zip].notnull()) | \\\n",
    "             (data[Input_FirstName].notnull() & data[Input_LastName].notnull() & data[Input_StreetAddress].notnull() & data[Input_City].notnull() & data[Input_State].notnull()) | \\\n",
    "             (data[Input_FirstName].notnull() & data[Input_LastName].notnull() & data[Input_SSN].notnull()), 1, 0)\n",
    "freq(data[\"sufficient_input\"])"
   ]
  },
  {
   "cell_type": "code",
   "execution_count": 8,
   "metadata": {},
   "outputs": [
    {
     "data": {
      "text/html": [
       "<div>\n",
       "<style scoped>\n",
       "    .dataframe tbody tr th:only-of-type {\n",
       "        vertical-align: middle;\n",
       "    }\n",
       "\n",
       "    .dataframe tbody tr th {\n",
       "        vertical-align: top;\n",
       "    }\n",
       "\n",
       "    .dataframe thead th {\n",
       "        text-align: right;\n",
       "    }\n",
       "</style>\n",
       "<table border=\"1\" class=\"dataframe\">\n",
       "  <thead>\n",
       "    <tr style=\"text-align: right;\">\n",
       "      <th></th>\n",
       "      <th>Count</th>\n",
       "      <th>Pct</th>\n",
       "      <th>Cuml Count</th>\n",
       "      <th>Cuml Pct</th>\n",
       "    </tr>\n",
       "    <tr>\n",
       "      <th>APPDATETIME_fmt</th>\n",
       "      <th></th>\n",
       "      <th></th>\n",
       "      <th></th>\n",
       "      <th></th>\n",
       "    </tr>\n",
       "  </thead>\n",
       "  <tbody>\n",
       "    <tr>\n",
       "      <th>202012</th>\n",
       "      <td>13443.0</td>\n",
       "      <td>0.053773</td>\n",
       "      <td>13443.0</td>\n",
       "      <td>0.053773</td>\n",
       "    </tr>\n",
       "    <tr>\n",
       "      <th>202101</th>\n",
       "      <td>20366.0</td>\n",
       "      <td>0.081466</td>\n",
       "      <td>33809.0</td>\n",
       "      <td>0.135239</td>\n",
       "    </tr>\n",
       "    <tr>\n",
       "      <th>202102</th>\n",
       "      <td>18396.0</td>\n",
       "      <td>0.073586</td>\n",
       "      <td>52205.0</td>\n",
       "      <td>0.208825</td>\n",
       "    </tr>\n",
       "    <tr>\n",
       "      <th>202103</th>\n",
       "      <td>24109.0</td>\n",
       "      <td>0.096438</td>\n",
       "      <td>76314.0</td>\n",
       "      <td>0.305263</td>\n",
       "    </tr>\n",
       "    <tr>\n",
       "      <th>202104</th>\n",
       "      <td>23524.0</td>\n",
       "      <td>0.094098</td>\n",
       "      <td>99838.0</td>\n",
       "      <td>0.399362</td>\n",
       "    </tr>\n",
       "    <tr>\n",
       "      <th>202105</th>\n",
       "      <td>26658.0</td>\n",
       "      <td>0.106635</td>\n",
       "      <td>126496.0</td>\n",
       "      <td>0.505996</td>\n",
       "    </tr>\n",
       "    <tr>\n",
       "      <th>202106</th>\n",
       "      <td>26692.0</td>\n",
       "      <td>0.106771</td>\n",
       "      <td>153188.0</td>\n",
       "      <td>0.612767</td>\n",
       "    </tr>\n",
       "    <tr>\n",
       "      <th>202107</th>\n",
       "      <td>26835.0</td>\n",
       "      <td>0.107343</td>\n",
       "      <td>180023.0</td>\n",
       "      <td>0.720109</td>\n",
       "    </tr>\n",
       "    <tr>\n",
       "      <th>202108</th>\n",
       "      <td>24414.0</td>\n",
       "      <td>0.097658</td>\n",
       "      <td>204437.0</td>\n",
       "      <td>0.817768</td>\n",
       "    </tr>\n",
       "    <tr>\n",
       "      <th>202109</th>\n",
       "      <td>24665.0</td>\n",
       "      <td>0.098662</td>\n",
       "      <td>229102.0</td>\n",
       "      <td>0.916430</td>\n",
       "    </tr>\n",
       "    <tr>\n",
       "      <th>202110</th>\n",
       "      <td>13377.0</td>\n",
       "      <td>0.053509</td>\n",
       "      <td>242479.0</td>\n",
       "      <td>0.969939</td>\n",
       "    </tr>\n",
       "    <tr>\n",
       "      <th>202111</th>\n",
       "      <td>5533.0</td>\n",
       "      <td>0.022133</td>\n",
       "      <td>248012.0</td>\n",
       "      <td>0.992072</td>\n",
       "    </tr>\n",
       "    <tr>\n",
       "      <th>202112</th>\n",
       "      <td>1982.0</td>\n",
       "      <td>0.007928</td>\n",
       "      <td>249994.0</td>\n",
       "      <td>1.000000</td>\n",
       "    </tr>\n",
       "  </tbody>\n",
       "</table>\n",
       "</div>"
      ],
      "text/plain": [
       "                   Count       Pct  Cuml Count  Cuml Pct\n",
       "APPDATETIME_fmt                                         \n",
       "202012           13443.0  0.053773     13443.0  0.053773\n",
       "202101           20366.0  0.081466     33809.0  0.135239\n",
       "202102           18396.0  0.073586     52205.0  0.208825\n",
       "202103           24109.0  0.096438     76314.0  0.305263\n",
       "202104           23524.0  0.094098     99838.0  0.399362\n",
       "202105           26658.0  0.106635    126496.0  0.505996\n",
       "202106           26692.0  0.106771    153188.0  0.612767\n",
       "202107           26835.0  0.107343    180023.0  0.720109\n",
       "202108           24414.0  0.097658    204437.0  0.817768\n",
       "202109           24665.0  0.098662    229102.0  0.916430\n",
       "202110           13377.0  0.053509    242479.0  0.969939\n",
       "202111            5533.0  0.022133    248012.0  0.992072\n",
       "202112            1982.0  0.007928    249994.0  1.000000"
      ]
     },
     "execution_count": 8,
     "metadata": {},
     "output_type": "execute_result"
    }
   ],
   "source": [
    "data = data[data[\"sufficient_input\"] == 1]\n",
    "data[\"APPDATETIME_fmt\"] = data['application_date'].astype(str).str.slice(0,4) + data['application_date'].astype(str).str.slice(5,7)\n",
    "data[\"APPDATETIME_fmt_dt\"] = data['application_date'].astype(str).str.slice(0,4) + data['application_date'].astype(str).str.slice(5,7) + data['application_date'].astype(str).str.slice(8,10)\n",
    "freq(data[\"APPDATETIME_fmt\"] )"
   ]
  },
  {
   "cell_type": "code",
   "execution_count": 11,
   "metadata": {},
   "outputs": [
    {
     "data": {
      "text/html": [
       "<div>\n",
       "<style scoped>\n",
       "    .dataframe tbody tr th:only-of-type {\n",
       "        vertical-align: middle;\n",
       "    }\n",
       "\n",
       "    .dataframe tbody tr th {\n",
       "        vertical-align: top;\n",
       "    }\n",
       "\n",
       "    .dataframe thead th {\n",
       "        text-align: right;\n",
       "    }\n",
       "</style>\n",
       "<table border=\"1\" class=\"dataframe\">\n",
       "  <thead>\n",
       "    <tr style=\"text-align: right;\">\n",
       "      <th></th>\n",
       "      <th>Count</th>\n",
       "      <th>Pct</th>\n",
       "      <th>Cuml Count</th>\n",
       "      <th>Cuml Pct</th>\n",
       "    </tr>\n",
       "    <tr>\n",
       "      <th>never_pay_fmt</th>\n",
       "      <th></th>\n",
       "      <th></th>\n",
       "      <th></th>\n",
       "      <th></th>\n",
       "    </tr>\n",
       "  </thead>\n",
       "  <tbody>\n",
       "    <tr>\n",
       "      <th>-1</th>\n",
       "      <td>49999.0</td>\n",
       "      <td>0.200001</td>\n",
       "      <td>49999.0</td>\n",
       "      <td>0.200001</td>\n",
       "    </tr>\n",
       "    <tr>\n",
       "      <th>0</th>\n",
       "      <td>193685.0</td>\n",
       "      <td>0.774759</td>\n",
       "      <td>243684.0</td>\n",
       "      <td>0.974759</td>\n",
       "    </tr>\n",
       "    <tr>\n",
       "      <th>1</th>\n",
       "      <td>6310.0</td>\n",
       "      <td>0.025241</td>\n",
       "      <td>249994.0</td>\n",
       "      <td>1.000000</td>\n",
       "    </tr>\n",
       "  </tbody>\n",
       "</table>\n",
       "</div>"
      ],
      "text/plain": [
       "                  Count       Pct  Cuml Count  Cuml Pct\n",
       "never_pay_fmt                                          \n",
       "-1              49999.0  0.200001     49999.0  0.200001\n",
       "0              193685.0  0.774759    243684.0  0.974759\n",
       "1                6310.0  0.025241    249994.0  1.000000"
      ]
     },
     "execution_count": 11,
     "metadata": {},
     "output_type": "execute_result"
    }
   ],
   "source": [
    "data[\"never_pay_fmt\"] = np.where(data.never_pay.isnull(), -1, np.where(data.never_pay == \"1\", 1, 0))\n",
    "freq(data.never_pay_fmt)"
   ]
  },
  {
   "cell_type": "code",
   "execution_count": 12,
   "metadata": {},
   "outputs": [
    {
     "name": "stdout",
     "output_type": "stream",
     "text": [
      "(249994, 23)\n",
      "(249833, 23)\n"
     ]
    }
   ],
   "source": [
    "data = data.sort_values(by = ['first_name', 'last_name', 'address_1', 'city', 'state', 'zip', 'ssn', 'dob', 'phone', \n",
    "                              'APPDATETIME_fmt_dt', \"never_pay_fmt\"], ascending = False)\n",
    "print(data.shape)\n",
    "data = data.drop_duplicates(subset = ['first_name', 'last_name', 'address_1', 'city', 'state', 'zip', 'ssn', 'dob', 'phone',  'APPDATETIME_fmt_dt'], keep = \"first\")\n",
    "print(data.shape)"
   ]
  },
  {
   "cell_type": "code",
   "execution_count": 20,
   "metadata": {},
   "outputs": [],
   "source": [
    "data.to_adls(\"Analytics/RnD Projects/Product RnD/Credit/202311-CRD-Model-Revalidations/Formatted_Files/Full_sample_formatted_w_flags/ready_to_be_formatted/aff_10698_full_file.parquet\",\n",
    "             overwrite = True)"
   ]
  },
  {
   "cell_type": "code",
   "execution_count": 3,
   "metadata": {},
   "outputs": [
    {
     "name": "stdout",
     "output_type": "stream",
     "text": [
      "(249833, 23)\n"
     ]
    }
   ],
   "source": [
    "from dsgtools import azure\n",
    "data = pd.read_adls(\"Analytics/RnD Projects/Product RnD/Credit/202311-CRD-Model-Revalidations/Formatted_Files/Full_sample_formatted_w_flags/ready_to_be_formatted/aff_10698_full_file.parquet\",)\n",
    "print(data.shape)"
   ]
  },
  {
   "cell_type": "code",
   "execution_count": 16,
   "metadata": {},
   "outputs": [],
   "source": [
    "from datetime import datetime\n",
    "data[\"dob_fmt\"] = pd.to_datetime(data.dob.str.slice(0,10), errors = 'coerce', format = \"%Y-%m-%d\", )\n",
    "data[\"dob_fmt_dt\"] = data['dob_fmt'].astype(str).str.slice(0,4) + data['dob_fmt'].astype(str).str.slice(5,7) + data['dob_fmt'].astype(str).str.slice(8,10)"
   ]
  },
  {
   "cell_type": "markdown",
   "metadata": {},
   "source": [
    "## Sample for validation"
   ]
  },
  {
   "cell_type": "code",
   "execution_count": 21,
   "metadata": {},
   "outputs": [
    {
     "data": {
      "text/html": [
       "<div>\n",
       "<style scoped>\n",
       "    .dataframe tbody tr th:only-of-type {\n",
       "        vertical-align: middle;\n",
       "    }\n",
       "\n",
       "    .dataframe tbody tr th {\n",
       "        vertical-align: top;\n",
       "    }\n",
       "\n",
       "    .dataframe thead th {\n",
       "        text-align: right;\n",
       "    }\n",
       "</style>\n",
       "<table border=\"1\" class=\"dataframe\">\n",
       "  <thead>\n",
       "    <tr style=\"text-align: right;\">\n",
       "      <th></th>\n",
       "      <th></th>\n",
       "      <th>Count</th>\n",
       "      <th>Pct</th>\n",
       "      <th>Cuml Count</th>\n",
       "      <th>Cuml Pct</th>\n",
       "    </tr>\n",
       "    <tr>\n",
       "      <th>is_approved</th>\n",
       "      <th>is_funded</th>\n",
       "      <th></th>\n",
       "      <th></th>\n",
       "      <th></th>\n",
       "      <th></th>\n",
       "    </tr>\n",
       "  </thead>\n",
       "  <tbody>\n",
       "    <tr>\n",
       "      <th rowspan=\"2\" valign=\"top\">1</th>\n",
       "      <th>1</th>\n",
       "      <td>199872.0</td>\n",
       "      <td>0.800022</td>\n",
       "      <td>199872.0</td>\n",
       "      <td>0.800022</td>\n",
       "    </tr>\n",
       "    <tr>\n",
       "      <th>0</th>\n",
       "      <td>22161.0</td>\n",
       "      <td>0.088703</td>\n",
       "      <td>222033.0</td>\n",
       "      <td>0.888726</td>\n",
       "    </tr>\n",
       "    <tr>\n",
       "      <th>0</th>\n",
       "      <th>0</th>\n",
       "      <td>27800.0</td>\n",
       "      <td>0.111274</td>\n",
       "      <td>249833.0</td>\n",
       "      <td>1.000000</td>\n",
       "    </tr>\n",
       "  </tbody>\n",
       "</table>\n",
       "</div>"
      ],
      "text/plain": [
       "                          Count       Pct  Cuml Count  Cuml Pct\n",
       "is_approved is_funded                                          \n",
       "1           1          199872.0  0.800022    199872.0  0.800022\n",
       "            0           22161.0  0.088703    222033.0  0.888726\n",
       "0           0           27800.0  0.111274    249833.0  1.000000"
      ]
     },
     "execution_count": 21,
     "metadata": {},
     "output_type": "execute_result"
    }
   ],
   "source": [
    "freq(data.is_approved, data.is_funded, cross = False, observed = True)"
   ]
  },
  {
   "cell_type": "code",
   "execution_count": 22,
   "metadata": {},
   "outputs": [
    {
     "name": "stdout",
     "output_type": "stream",
     "text": [
      "(199872, 25)\n"
     ]
    },
    {
     "data": {
      "text/html": [
       "<div>\n",
       "<style scoped>\n",
       "    .dataframe tbody tr th:only-of-type {\n",
       "        vertical-align: middle;\n",
       "    }\n",
       "\n",
       "    .dataframe tbody tr th {\n",
       "        vertical-align: top;\n",
       "    }\n",
       "\n",
       "    .dataframe thead th {\n",
       "        text-align: right;\n",
       "    }\n",
       "</style>\n",
       "<table border=\"1\" class=\"dataframe\">\n",
       "  <thead>\n",
       "    <tr style=\"text-align: right;\">\n",
       "      <th></th>\n",
       "      <th></th>\n",
       "      <th></th>\n",
       "      <th></th>\n",
       "      <th>Count</th>\n",
       "      <th>Pct</th>\n",
       "      <th>Cuml Count</th>\n",
       "      <th>Cuml Pct</th>\n",
       "    </tr>\n",
       "    <tr>\n",
       "      <th>is_fraud</th>\n",
       "      <th>fpd_45</th>\n",
       "      <th>spd</th>\n",
       "      <th>never_pay</th>\n",
       "      <th></th>\n",
       "      <th></th>\n",
       "      <th></th>\n",
       "      <th></th>\n",
       "    </tr>\n",
       "  </thead>\n",
       "  <tbody>\n",
       "    <tr>\n",
       "      <th rowspan=\"5\" valign=\"top\">0</th>\n",
       "      <th rowspan=\"2\" valign=\"top\">0</th>\n",
       "      <th>0</th>\n",
       "      <th>0</th>\n",
       "      <td>177886.0</td>\n",
       "      <td>0.890000</td>\n",
       "      <td>177886.0</td>\n",
       "      <td>0.890000</td>\n",
       "    </tr>\n",
       "    <tr>\n",
       "      <th>1</th>\n",
       "      <th>0</th>\n",
       "      <td>13683.0</td>\n",
       "      <td>0.068459</td>\n",
       "      <td>191569.0</td>\n",
       "      <td>0.958458</td>\n",
       "    </tr>\n",
       "    <tr>\n",
       "      <th rowspan=\"2\" valign=\"top\">1</th>\n",
       "      <th rowspan=\"2\" valign=\"top\">1</th>\n",
       "      <th>0</th>\n",
       "      <td>1126.0</td>\n",
       "      <td>0.005634</td>\n",
       "      <td>192695.0</td>\n",
       "      <td>0.964092</td>\n",
       "    </tr>\n",
       "    <tr>\n",
       "      <th>1</th>\n",
       "      <td>5615.0</td>\n",
       "      <td>0.028093</td>\n",
       "      <td>198310.0</td>\n",
       "      <td>0.992185</td>\n",
       "    </tr>\n",
       "    <tr>\n",
       "      <th>Missing</th>\n",
       "      <th>Missing</th>\n",
       "      <th>0</th>\n",
       "      <td>4.0</td>\n",
       "      <td>0.000020</td>\n",
       "      <td>198314.0</td>\n",
       "      <td>0.992205</td>\n",
       "    </tr>\n",
       "    <tr>\n",
       "      <th rowspan=\"5\" valign=\"top\">1</th>\n",
       "      <th rowspan=\"2\" valign=\"top\">0</th>\n",
       "      <th>0</th>\n",
       "      <th>0</th>\n",
       "      <td>616.0</td>\n",
       "      <td>0.003082</td>\n",
       "      <td>198930.0</td>\n",
       "      <td>0.995287</td>\n",
       "    </tr>\n",
       "    <tr>\n",
       "      <th>1</th>\n",
       "      <th>0</th>\n",
       "      <td>234.0</td>\n",
       "      <td>0.001171</td>\n",
       "      <td>199164.0</td>\n",
       "      <td>0.996458</td>\n",
       "    </tr>\n",
       "    <tr>\n",
       "      <th rowspan=\"2\" valign=\"top\">1</th>\n",
       "      <th rowspan=\"2\" valign=\"top\">1</th>\n",
       "      <th>0</th>\n",
       "      <td>31.0</td>\n",
       "      <td>0.000155</td>\n",
       "      <td>199195.0</td>\n",
       "      <td>0.996613</td>\n",
       "    </tr>\n",
       "    <tr>\n",
       "      <th>1</th>\n",
       "      <td>676.0</td>\n",
       "      <td>0.003382</td>\n",
       "      <td>199871.0</td>\n",
       "      <td>0.999995</td>\n",
       "    </tr>\n",
       "    <tr>\n",
       "      <th>Missing</th>\n",
       "      <th>Missing</th>\n",
       "      <th>0</th>\n",
       "      <td>1.0</td>\n",
       "      <td>0.000005</td>\n",
       "      <td>199872.0</td>\n",
       "      <td>1.000000</td>\n",
       "    </tr>\n",
       "  </tbody>\n",
       "</table>\n",
       "</div>"
      ],
      "text/plain": [
       "                                       Count       Pct  Cuml Count  Cuml Pct\n",
       "is_fraud fpd_45  spd     never_pay                                          \n",
       "0        0       0       0          177886.0  0.890000    177886.0  0.890000\n",
       "                 1       0           13683.0  0.068459    191569.0  0.958458\n",
       "         1       1       0            1126.0  0.005634    192695.0  0.964092\n",
       "                         1            5615.0  0.028093    198310.0  0.992185\n",
       "         Missing Missing 0               4.0  0.000020    198314.0  0.992205\n",
       "1        0       0       0             616.0  0.003082    198930.0  0.995287\n",
       "                 1       0             234.0  0.001171    199164.0  0.996458\n",
       "         1       1       0              31.0  0.000155    199195.0  0.996613\n",
       "                         1             676.0  0.003382    199871.0  0.999995\n",
       "         Missing Missing 0               1.0  0.000005    199872.0  1.000000"
      ]
     },
     "execution_count": 22,
     "metadata": {},
     "output_type": "execute_result"
    }
   ],
   "source": [
    "data= data[(data.is_approved ==\"1\") & (data.is_funded ==\"1\")]\n",
    "print(data.shape)\n",
    "freq(data.is_fraud, data.fpd_45, data.spd, data.never_pay, cross = False, observed = True)"
   ]
  },
  {
   "cell_type": "code",
   "execution_count": 23,
   "metadata": {},
   "outputs": [
    {
     "name": "stdout",
     "output_type": "stream",
     "text": [
      "(198310, 25)\n"
     ]
    }
   ],
   "source": [
    "data = data[(data.is_fraud == \"0\") & (data.fpd_45.notnull())]\n",
    "print(data.shape)"
   ]
  },
  {
   "cell_type": "code",
   "execution_count": 24,
   "metadata": {},
   "outputs": [
    {
     "data": {
      "text/html": [
       "<div>\n",
       "<style scoped>\n",
       "    .dataframe tbody tr th:only-of-type {\n",
       "        vertical-align: middle;\n",
       "    }\n",
       "\n",
       "    .dataframe tbody tr th {\n",
       "        vertical-align: top;\n",
       "    }\n",
       "\n",
       "    .dataframe thead tr th {\n",
       "        text-align: left;\n",
       "    }\n",
       "\n",
       "    .dataframe thead tr:last-of-type th {\n",
       "        text-align: right;\n",
       "    }\n",
       "</style>\n",
       "<table border=\"1\" class=\"dataframe\">\n",
       "  <thead>\n",
       "    <tr>\n",
       "      <th>tag</th>\n",
       "      <th colspan=\"6\" halign=\"left\">fpd_45</th>\n",
       "    </tr>\n",
       "    <tr>\n",
       "      <th>stats</th>\n",
       "      <th>N</th>\n",
       "      <th>PctN</th>\n",
       "      <th>Sum</th>\n",
       "      <th>Mean</th>\n",
       "      <th>WoE</th>\n",
       "      <th>IV</th>\n",
       "    </tr>\n",
       "    <tr>\n",
       "      <th>APPDATETIME_fmt</th>\n",
       "      <th></th>\n",
       "      <th></th>\n",
       "      <th></th>\n",
       "      <th></th>\n",
       "      <th></th>\n",
       "      <th></th>\n",
       "    </tr>\n",
       "  </thead>\n",
       "  <tbody>\n",
       "    <tr>\n",
       "      <th>202012</th>\n",
       "      <td>11276.0</td>\n",
       "      <td>0.056860</td>\n",
       "      <td>242.0</td>\n",
       "      <td>0.021462</td>\n",
       "      <td>-0.472831</td>\n",
       "      <td>0.010261</td>\n",
       "    </tr>\n",
       "    <tr>\n",
       "      <th>202101</th>\n",
       "      <td>16809.0</td>\n",
       "      <td>0.084761</td>\n",
       "      <td>324.0</td>\n",
       "      <td>0.019275</td>\n",
       "      <td>-0.582494</td>\n",
       "      <td>0.022130</td>\n",
       "    </tr>\n",
       "    <tr>\n",
       "      <th>202102</th>\n",
       "      <td>15159.0</td>\n",
       "      <td>0.076441</td>\n",
       "      <td>285.0</td>\n",
       "      <td>0.018801</td>\n",
       "      <td>-0.607913</td>\n",
       "      <td>0.021500</td>\n",
       "    </tr>\n",
       "    <tr>\n",
       "      <th>202103</th>\n",
       "      <td>19823.0</td>\n",
       "      <td>0.099960</td>\n",
       "      <td>445.0</td>\n",
       "      <td>0.022449</td>\n",
       "      <td>-0.426851</td>\n",
       "      <td>0.015002</td>\n",
       "    </tr>\n",
       "    <tr>\n",
       "      <th>202104</th>\n",
       "      <td>19668.0</td>\n",
       "      <td>0.099178</td>\n",
       "      <td>759.0</td>\n",
       "      <td>0.038591</td>\n",
       "      <td>0.131577</td>\n",
       "      <td>0.001826</td>\n",
       "    </tr>\n",
       "    <tr>\n",
       "      <th>202105</th>\n",
       "      <td>22489.0</td>\n",
       "      <td>0.113403</td>\n",
       "      <td>1080.0</td>\n",
       "      <td>0.048023</td>\n",
       "      <td>0.360118</td>\n",
       "      <td>0.017446</td>\n",
       "    </tr>\n",
       "    <tr>\n",
       "      <th>202106</th>\n",
       "      <td>22283.0</td>\n",
       "      <td>0.112364</td>\n",
       "      <td>1192.0</td>\n",
       "      <td>0.053494</td>\n",
       "      <td>0.473754</td>\n",
       "      <td>0.031609</td>\n",
       "    </tr>\n",
       "    <tr>\n",
       "      <th>202107</th>\n",
       "      <td>22224.0</td>\n",
       "      <td>0.112067</td>\n",
       "      <td>866.0</td>\n",
       "      <td>0.038967</td>\n",
       "      <td>0.141671</td>\n",
       "      <td>0.002404</td>\n",
       "    </tr>\n",
       "    <tr>\n",
       "      <th>202108</th>\n",
       "      <td>19743.0</td>\n",
       "      <td>0.099556</td>\n",
       "      <td>599.0</td>\n",
       "      <td>0.030340</td>\n",
       "      <td>-0.117515</td>\n",
       "      <td>0.001302</td>\n",
       "    </tr>\n",
       "    <tr>\n",
       "      <th>202109</th>\n",
       "      <td>20166.0</td>\n",
       "      <td>0.101689</td>\n",
       "      <td>719.0</td>\n",
       "      <td>0.035654</td>\n",
       "      <td>0.049381</td>\n",
       "      <td>0.000254</td>\n",
       "    </tr>\n",
       "    <tr>\n",
       "      <th>202110</th>\n",
       "      <td>8670.0</td>\n",
       "      <td>0.043719</td>\n",
       "      <td>230.0</td>\n",
       "      <td>0.026528</td>\n",
       "      <td>-0.255690</td>\n",
       "      <td>0.002542</td>\n",
       "    </tr>\n",
       "    <tr>\n",
       "      <th>Missing</th>\n",
       "      <td>0.0</td>\n",
       "      <td>0.000000</td>\n",
       "      <td>0.0</td>\n",
       "      <td>0.000000</td>\n",
       "      <td>0.000000</td>\n",
       "      <td>0.000000</td>\n",
       "    </tr>\n",
       "    <tr>\n",
       "      <th>Total</th>\n",
       "      <td>198310.0</td>\n",
       "      <td>1.000000</td>\n",
       "      <td>6741.0</td>\n",
       "      <td>0.033992</td>\n",
       "      <td>0.000000</td>\n",
       "      <td>0.126275</td>\n",
       "    </tr>\n",
       "  </tbody>\n",
       "</table>\n",
       "</div>"
      ],
      "text/plain": [
       "tag                fpd_45                                                \n",
       "stats                   N      PctN     Sum      Mean       WoE        IV\n",
       "APPDATETIME_fmt                                                          \n",
       "202012            11276.0  0.056860   242.0  0.021462 -0.472831  0.010261\n",
       "202101            16809.0  0.084761   324.0  0.019275 -0.582494  0.022130\n",
       "202102            15159.0  0.076441   285.0  0.018801 -0.607913  0.021500\n",
       "202103            19823.0  0.099960   445.0  0.022449 -0.426851  0.015002\n",
       "202104            19668.0  0.099178   759.0  0.038591  0.131577  0.001826\n",
       "202105            22489.0  0.113403  1080.0  0.048023  0.360118  0.017446\n",
       "202106            22283.0  0.112364  1192.0  0.053494  0.473754  0.031609\n",
       "202107            22224.0  0.112067   866.0  0.038967  0.141671  0.002404\n",
       "202108            19743.0  0.099556   599.0  0.030340 -0.117515  0.001302\n",
       "202109            20166.0  0.101689   719.0  0.035654  0.049381  0.000254\n",
       "202110             8670.0  0.043719   230.0  0.026528 -0.255690  0.002542\n",
       "Missing               0.0  0.000000     0.0  0.000000  0.000000  0.000000\n",
       "Total            198310.0  1.000000  6741.0  0.033992  0.000000  0.126275"
      ]
     },
     "execution_count": 24,
     "metadata": {},
     "output_type": "execute_result"
    }
   ],
   "source": [
    "bivariate(data.APPDATETIME_fmt, data.fpd_45.astype(float))"
   ]
  },
  {
   "cell_type": "code",
   "execution_count": 27,
   "metadata": {},
   "outputs": [],
   "source": [
    "data.to_adls(\"Analytics/RnD Projects/Product RnD/Credit/202311-CRD-Model-Revalidations/Formatted_Files/cleaned/aff_cleaned_11_20.parquet\", overwrite = True)"
   ]
  },
  {
   "cell_type": "code",
   "execution_count": 28,
   "metadata": {},
   "outputs": [],
   "source": [
    "data.to_adls(\"Analytics/RnD Projects/Product RnD/Credit/202311-CRD-Model-Revalidations/Formatted_Files/aff_cleaned_11_20.parquet\", overwrite = True)"
   ]
  },
  {
   "cell_type": "code",
   "execution_count": 29,
   "metadata": {},
   "outputs": [
    {
     "data": {
      "text/plain": [
       "(198310, 25)"
      ]
     },
     "execution_count": 29,
     "metadata": {},
     "output_type": "execute_result"
    }
   ],
   "source": [
    "data.shape"
   ]
  },
  {
   "cell_type": "code",
   "execution_count": null,
   "metadata": {},
   "outputs": [],
   "source": []
  }
 ],
 "metadata": {
  "kernelspec": {
   "display_name": "data-science",
   "language": "python",
   "name": "python3"
  },
  "language_info": {
   "codemirror_mode": {
    "name": "ipython",
    "version": 3
   },
   "file_extension": ".py",
   "mimetype": "text/x-python",
   "name": "python",
   "nbconvert_exporter": "python",
   "pygments_lexer": "ipython3",
   "version": "3.10.6"
  }
 },
 "nbformat": 4,
 "nbformat_minor": 2
}
